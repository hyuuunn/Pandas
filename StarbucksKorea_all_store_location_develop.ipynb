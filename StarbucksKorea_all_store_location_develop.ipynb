{
 "cells": [
  {
   "cell_type": "markdown",
   "id": "b4fd7f82",
   "metadata": {},
   "source": [
    "# 전국 스타벅스 매장 정보"
   ]
  },
  {
   "cell_type": "markdown",
   "id": "6b00d717",
   "metadata": {},
   "source": [
    "[Starbucks Coffee Korea](https://www.starbucks.co.kr/store/store_map.do?disp=quick)"
   ]
  },
  {
   "cell_type": "code",
   "execution_count": 1,
   "id": "a994b888",
   "metadata": {},
   "outputs": [],
   "source": [
    "import pandas as pd\n",
    "import numpy as np\n",
    "import requests"
   ]
  },
  {
   "cell_type": "code",
   "execution_count": 2,
   "id": "4ba5f14c",
   "metadata": {},
   "outputs": [],
   "source": [
    "# 사용할 url들\n",
    "# url = \"https://www.starbucks.co.kr/store/getStore.do?r=0TB85BHU56\"\n",
    "# referer = \"https://www.starbucks.co.kr/store/store_map.do?disp=quick\"\n",
    "# params = \"in_biz_cds=0&in_scodes=0&ins_lat=37.368665899999996&ins_lng=127.11512619999999&search_text=&p_sido_cd=01&p_gugun_cd=&isError=true&in_distance=0&in_biz_cd=&iend=1000&searchType=C&set_date=&rndCod=3WBZBCPSZ8&all_store=0&T03=0&T01=0&T12=0&T09=0&T30=0&T05=0&T22=0&T21=0&T10=0&T36=0&P10=0&P50=0&P20=0&P60=0&P30=0&P70=0&P40=0&P80=0&whcroad_yn=0&P90=0&new_bool=0\"\n",
    "\n",
    "# 전체 열, 컬럼 등을 확인할 때 사용하는 함수\n",
    "# pd.set_option('display.max_seq_items', None)\n",
    "# pd.set_option('display.max_rows', None)\n",
    "# pd.set_option('display.max_columns', None)"
   ]
  },
  {
   "cell_type": "code",
   "execution_count": 3,
   "id": "022b6edf",
   "metadata": {},
   "outputs": [],
   "source": [
    "# 함수 만들기\n",
    "def get_store_with_sido_num(sido_num):\n",
    "    st_by_sido = []\n",
    "    url = \"https://www.starbucks.co.kr/store/getStore.do?r=0TB85BHU56\"\n",
    "    response = requests.post(url, params = f\"in_biz_cds=0&in_scodes=0&ins_lat=37.566926455583385&ins_lng=126.97212112504282&search_text=&p_sido_cd={sido_num}&p_gugun_cd=&isError=true&in_distance=0&in_biz_cd=&iend=1000&searchType=C&set_date=&rndCod=3WBZBCPSZ8&all_store=0&T03=0&T01=0&T12=0&T09=0&T30=0&T05=0&T22=0&T21=0&T10=0&T36=0&P10=0&P50=0&P20=0&P60=0&P30=0&P70=0&P40=0&P80=0&whcroad_yn=0&P90=0&new_bool=0\")\n",
    "    sb_df = pd.DataFrame(response.json()[\"list\"])\n",
    "    stores = sb_df[[\"sido_name\",\"gugun_name\",\"s_name\",\"addr\",\"tel\",\"s_code\",\"gugun_code\"]]\n",
    "    st_by_sido.append(stores)\n",
    "    df = pd.concat(st_by_sido)\n",
    "    return df\n"
   ]
  },
  {
   "cell_type": "code",
   "execution_count": 4,
   "id": "3d7f07ee",
   "metadata": {},
   "outputs": [
    {
     "data": {
      "text/plain": [
       "['01',\n",
       " '08',\n",
       " '02',\n",
       " '03',\n",
       " '04',\n",
       " '05',\n",
       " '06',\n",
       " '07',\n",
       " '09',\n",
       " '10',\n",
       " '11',\n",
       " '12',\n",
       " '13',\n",
       " '14',\n",
       " '15',\n",
       " '16',\n",
       " '17']"
      ]
     },
     "execution_count": 4,
     "metadata": {},
     "output_type": "execute_result"
    }
   ],
   "source": [
    "# 시도 코드 리스트 받아오기\n",
    "url = \"https://www.starbucks.co.kr/store/getSidoList.do\"\n",
    "response = requests.post(url, params = f\"in_biz_cds=0&in_scodes=0&ins_lat=37.566926455583385&ins_lng=126.97212112504282&search_text=&p_sido_cd=01&p_gugun_cd=&isError=true&in_distance=0&in_biz_cd=&iend=1000&searchType=C&set_date=&rndCod=3WBZBCPSZ8&all_store=0&T03=0&T01=0&T12=0&T09=0&T30=0&T05=0&T22=0&T21=0&T10=0&T36=0&P10=0&P50=0&P20=0&P60=0&P30=0&P70=0&P40=0&P80=0&whcroad_yn=0&P90=0&new_bool=0\")\n",
    "sido_list = pd.DataFrame(response.json()[\"list\"])\n",
    "sido_num = sido_list[\"sido_cd\"].to_list()\n",
    "sido_num"
   ]
  },
  {
   "cell_type": "code",
   "execution_count": 5,
   "id": "938ffe12",
   "metadata": {},
   "outputs": [],
   "source": [
    "# for 문으로 반복 돌리기\n",
    "please_add_here = []\n",
    "for num in sido_num:\n",
    "    s_list = pd.DataFrame(get_store_with_sido_num(num))\n",
    "    please_add_here.append(s_list)\n",
    "    all_store = pd.concat(please_add_here)"
   ]
  },
  {
   "cell_type": "code",
   "execution_count": 6,
   "id": "75d15dfb",
   "metadata": {},
   "outputs": [
    {
     "data": {
      "text/html": [
       "<div>\n",
       "<style scoped>\n",
       "    .dataframe tbody tr th:only-of-type {\n",
       "        vertical-align: middle;\n",
       "    }\n",
       "\n",
       "    .dataframe tbody tr th {\n",
       "        vertical-align: top;\n",
       "    }\n",
       "\n",
       "    .dataframe thead th {\n",
       "        text-align: right;\n",
       "    }\n",
       "</style>\n",
       "<table border=\"1\" class=\"dataframe\">\n",
       "  <thead>\n",
       "    <tr style=\"text-align: right;\">\n",
       "      <th></th>\n",
       "      <th>sido_name</th>\n",
       "      <th>gugun_name</th>\n",
       "      <th>s_name</th>\n",
       "      <th>addr</th>\n",
       "      <th>tel</th>\n",
       "      <th>s_code</th>\n",
       "      <th>gugun_code</th>\n",
       "    </tr>\n",
       "  </thead>\n",
       "  <tbody>\n",
       "    <tr>\n",
       "      <th>0</th>\n",
       "      <td>서울</td>\n",
       "      <td>강남구</td>\n",
       "      <td>역삼아레나빌딩</td>\n",
       "      <td>서울특별시 강남구 역삼동 721-13 아레나빌딩</td>\n",
       "      <td>1522-3232</td>\n",
       "      <td>1509</td>\n",
       "      <td>0101</td>\n",
       "    </tr>\n",
       "    <tr>\n",
       "      <th>1</th>\n",
       "      <td>서울</td>\n",
       "      <td>강남구</td>\n",
       "      <td>논현역사거리</td>\n",
       "      <td>서울특별시 강남구 논현동 142-2 정일빌딩</td>\n",
       "      <td>1522-3232</td>\n",
       "      <td>1434</td>\n",
       "      <td>0101</td>\n",
       "    </tr>\n",
       "    <tr>\n",
       "      <th>2</th>\n",
       "      <td>서울</td>\n",
       "      <td>강남구</td>\n",
       "      <td>신사역성일빌딩</td>\n",
       "      <td>서울특별시 강남구 논현동 18-4 성일빌딩</td>\n",
       "      <td>1522-3232</td>\n",
       "      <td>1595</td>\n",
       "      <td>0101</td>\n",
       "    </tr>\n",
       "  </tbody>\n",
       "</table>\n",
       "</div>"
      ],
      "text/plain": [
       "  sido_name gugun_name   s_name                        addr        tel s_code  \\\n",
       "0        서울        강남구  역삼아레나빌딩  서울특별시 강남구 역삼동 721-13 아레나빌딩  1522-3232   1509   \n",
       "1        서울        강남구   논현역사거리    서울특별시 강남구 논현동 142-2 정일빌딩  1522-3232   1434   \n",
       "2        서울        강남구  신사역성일빌딩     서울특별시 강남구 논현동 18-4 성일빌딩  1522-3232   1595   \n",
       "\n",
       "  gugun_code  \n",
       "0       0101  \n",
       "1       0101  \n",
       "2       0101  "
      ]
     },
     "execution_count": 6,
     "metadata": {},
     "output_type": "execute_result"
    }
   ],
   "source": [
    "all_store.head(3)"
   ]
  },
  {
   "cell_type": "code",
   "execution_count": 7,
   "id": "b48697d7",
   "metadata": {},
   "outputs": [],
   "source": [
    "# 데이터 값 수정"
   ]
  },
  {
   "cell_type": "code",
   "execution_count": 8,
   "id": "4f50dc18",
   "metadata": {},
   "outputs": [
    {
     "data": {
      "text/plain": [
       "False"
      ]
     },
     "execution_count": 8,
     "metadata": {},
     "output_type": "execute_result"
    }
   ],
   "source": [
    "# 개수 확인\n",
    "len(all_store['sido_name'].unique()) == len(sido_num)"
   ]
  },
  {
   "cell_type": "code",
   "execution_count": 9,
   "id": "a7edcf77",
   "metadata": {},
   "outputs": [
    {
     "data": {
      "text/plain": [
       "서울     567\n",
       "경기     369\n",
       "부산     128\n",
       "대구      71\n",
       "인천      64\n",
       "경남      62\n",
       "광주      59\n",
       "대전      57\n",
       "경북      47\n",
       "충남      35\n",
       "울산      29\n",
       "전북      28\n",
       "충북      26\n",
       "전남      24\n",
       "제주      23\n",
       "강원      19\n",
       "세종      11\n",
       "강원도      6\n",
       "Name: sido_name, dtype: int64"
      ]
     },
     "execution_count": 9,
     "metadata": {},
     "output_type": "execute_result"
    }
   ],
   "source": [
    "# 'sido_name' 고유값 개수 확인\n",
    "all_store['sido_name'].value_counts()"
   ]
  },
  {
   "cell_type": "code",
   "execution_count": 10,
   "id": "05ec1392",
   "metadata": {},
   "outputs": [
    {
     "data": {
      "text/plain": [
       "서울    567\n",
       "경기    369\n",
       "부산    128\n",
       "대구     71\n",
       "인천     64\n",
       "경남     62\n",
       "광주     59\n",
       "대전     57\n",
       "경북     47\n",
       "충남     35\n",
       "울산     29\n",
       "전북     28\n",
       "충북     26\n",
       "강원     25\n",
       "전남     24\n",
       "제주     23\n",
       "세종     11\n",
       "Name: sido_name, dtype: int64"
      ]
     },
     "execution_count": 10,
     "metadata": {},
     "output_type": "execute_result"
    }
   ],
   "source": [
    "# '강원도'를 '강원'으로 문자 대체\n",
    "# 방법1. replace() 사용\n",
    "all_store['sido_name'] = all_store['sido_name'].replace('강원도','강원')\n",
    "# 방법2. apply(lambda ) 사용\n",
    "# all_store['sido_name'] = all_store['sido_name'].apply(lambda x : '강원' if x == '강원도' else x)\n",
    "\n",
    "# 'sido_name' 고유값 개수 다시 확인\n",
    "all_store['sido_name'].value_counts()"
   ]
  },
  {
   "cell_type": "code",
   "execution_count": 11,
   "id": "e4cd9503",
   "metadata": {},
   "outputs": [
    {
     "data": {
      "text/html": [
       "<div>\n",
       "<style scoped>\n",
       "    .dataframe tbody tr th:only-of-type {\n",
       "        vertical-align: middle;\n",
       "    }\n",
       "\n",
       "    .dataframe tbody tr th {\n",
       "        vertical-align: top;\n",
       "    }\n",
       "\n",
       "    .dataframe thead th {\n",
       "        text-align: right;\n",
       "    }\n",
       "</style>\n",
       "<table border=\"1\" class=\"dataframe\">\n",
       "  <thead>\n",
       "    <tr style=\"text-align: right;\">\n",
       "      <th></th>\n",
       "      <th>sido_name</th>\n",
       "      <th>gugun_name</th>\n",
       "      <th>s_name</th>\n",
       "      <th>addr</th>\n",
       "      <th>tel</th>\n",
       "      <th>s_code</th>\n",
       "      <th>gugun_code</th>\n",
       "    </tr>\n",
       "  </thead>\n",
       "  <tbody>\n",
       "    <tr>\n",
       "      <th>6</th>\n",
       "      <td>세종</td>\n",
       "      <td>None</td>\n",
       "      <td>세종이마트</td>\n",
       "      <td>세종특별자치시 가람동 406 이마트 세종점</td>\n",
       "      <td>1522-3232</td>\n",
       "      <td>894</td>\n",
       "      <td>1701</td>\n",
       "    </tr>\n",
       "    <tr>\n",
       "      <th>7</th>\n",
       "      <td>세종</td>\n",
       "      <td>None</td>\n",
       "      <td>세종청사</td>\n",
       "      <td>세종특별자치시 어진동 3-113외 5필지</td>\n",
       "      <td>1522-3232</td>\n",
       "      <td>717</td>\n",
       "      <td>1701</td>\n",
       "    </tr>\n",
       "    <tr>\n",
       "      <th>8</th>\n",
       "      <td>세종</td>\n",
       "      <td>None</td>\n",
       "      <td>세종아름</td>\n",
       "      <td>세종특별자치시 아름동 1329 다올비즈니스센터 103,104,105,202,203호</td>\n",
       "      <td>1522-3232</td>\n",
       "      <td>1768</td>\n",
       "      <td>1701</td>\n",
       "    </tr>\n",
       "    <tr>\n",
       "      <th>9</th>\n",
       "      <td>세종</td>\n",
       "      <td>None</td>\n",
       "      <td>세종소담</td>\n",
       "      <td>세종특별자치시 소담동 539 새샘마을7단지 근린생활시설 -1동 12호,13호,14호...</td>\n",
       "      <td>1522-3232</td>\n",
       "      <td>1750</td>\n",
       "      <td>1701</td>\n",
       "    </tr>\n",
       "    <tr>\n",
       "      <th>10</th>\n",
       "      <td>세종</td>\n",
       "      <td>None</td>\n",
       "      <td>세종충남대학교병원</td>\n",
       "      <td>세종특별자치시 도담동 407 세종충남대학교병원 헬스케어센터 1층</td>\n",
       "      <td>1522-3232</td>\n",
       "      <td>1814</td>\n",
       "      <td>1701</td>\n",
       "    </tr>\n",
       "  </tbody>\n",
       "</table>\n",
       "</div>"
      ],
      "text/plain": [
       "   sido_name gugun_name     s_name  \\\n",
       "6         세종       None      세종이마트   \n",
       "7         세종       None       세종청사   \n",
       "8         세종       None       세종아름   \n",
       "9         세종       None       세종소담   \n",
       "10        세종       None  세종충남대학교병원   \n",
       "\n",
       "                                                 addr        tel s_code  \\\n",
       "6                             세종특별자치시 가람동 406 이마트 세종점  1522-3232    894   \n",
       "7                              세종특별자치시 어진동 3-113외 5필지  1522-3232    717   \n",
       "8      세종특별자치시 아름동 1329 다올비즈니스센터 103,104,105,202,203호  1522-3232   1768   \n",
       "9   세종특별자치시 소담동 539 새샘마을7단지 근린생활시설 -1동 12호,13호,14호...  1522-3232   1750   \n",
       "10                세종특별자치시 도담동 407 세종충남대학교병원 헬스케어센터 1층  1522-3232   1814   \n",
       "\n",
       "   gugun_code  \n",
       "6        1701  \n",
       "7        1701  \n",
       "8        1701  \n",
       "9        1701  \n",
       "10       1701  "
      ]
     },
     "execution_count": 11,
     "metadata": {},
     "output_type": "execute_result"
    }
   ],
   "source": [
    "# 결과\n",
    "pd.set_option('display.max_rows', None)\n",
    "all_store.tail()"
   ]
  },
  {
   "cell_type": "code",
   "execution_count": 12,
   "id": "5bc50d06",
   "metadata": {},
   "outputs": [
    {
     "data": {
      "text/html": [
       "<div>\n",
       "<style scoped>\n",
       "    .dataframe tbody tr th:only-of-type {\n",
       "        vertical-align: middle;\n",
       "    }\n",
       "\n",
       "    .dataframe tbody tr th {\n",
       "        vertical-align: top;\n",
       "    }\n",
       "\n",
       "    .dataframe thead th {\n",
       "        text-align: right;\n",
       "    }\n",
       "</style>\n",
       "<table border=\"1\" class=\"dataframe\">\n",
       "  <thead>\n",
       "    <tr style=\"text-align: right;\">\n",
       "      <th></th>\n",
       "      <th>sido_name</th>\n",
       "      <th>gugun_name</th>\n",
       "      <th>s_name</th>\n",
       "      <th>addr</th>\n",
       "      <th>tel</th>\n",
       "      <th>s_code</th>\n",
       "      <th>gugun_code</th>\n",
       "    </tr>\n",
       "  </thead>\n",
       "  <tbody>\n",
       "    <tr>\n",
       "      <th>1620</th>\n",
       "      <td>세종</td>\n",
       "      <td>None</td>\n",
       "      <td>세종이마트</td>\n",
       "      <td>세종특별자치시 가람동 406 이마트 세종점</td>\n",
       "      <td>1522-3232</td>\n",
       "      <td>894</td>\n",
       "      <td>1701</td>\n",
       "    </tr>\n",
       "    <tr>\n",
       "      <th>1621</th>\n",
       "      <td>세종</td>\n",
       "      <td>None</td>\n",
       "      <td>세종청사</td>\n",
       "      <td>세종특별자치시 어진동 3-113외 5필지</td>\n",
       "      <td>1522-3232</td>\n",
       "      <td>717</td>\n",
       "      <td>1701</td>\n",
       "    </tr>\n",
       "    <tr>\n",
       "      <th>1622</th>\n",
       "      <td>세종</td>\n",
       "      <td>None</td>\n",
       "      <td>세종아름</td>\n",
       "      <td>세종특별자치시 아름동 1329 다올비즈니스센터 103,104,105,202,203호</td>\n",
       "      <td>1522-3232</td>\n",
       "      <td>1768</td>\n",
       "      <td>1701</td>\n",
       "    </tr>\n",
       "    <tr>\n",
       "      <th>1623</th>\n",
       "      <td>세종</td>\n",
       "      <td>None</td>\n",
       "      <td>세종소담</td>\n",
       "      <td>세종특별자치시 소담동 539 새샘마을7단지 근린생활시설 -1동 12호,13호,14호...</td>\n",
       "      <td>1522-3232</td>\n",
       "      <td>1750</td>\n",
       "      <td>1701</td>\n",
       "    </tr>\n",
       "    <tr>\n",
       "      <th>1624</th>\n",
       "      <td>세종</td>\n",
       "      <td>None</td>\n",
       "      <td>세종충남대학교병원</td>\n",
       "      <td>세종특별자치시 도담동 407 세종충남대학교병원 헬스케어센터 1층</td>\n",
       "      <td>1522-3232</td>\n",
       "      <td>1814</td>\n",
       "      <td>1701</td>\n",
       "    </tr>\n",
       "  </tbody>\n",
       "</table>\n",
       "</div>"
      ],
      "text/plain": [
       "     sido_name gugun_name     s_name  \\\n",
       "1620        세종       None      세종이마트   \n",
       "1621        세종       None       세종청사   \n",
       "1622        세종       None       세종아름   \n",
       "1623        세종       None       세종소담   \n",
       "1624        세종       None  세종충남대학교병원   \n",
       "\n",
       "                                                   addr        tel s_code  \\\n",
       "1620                            세종특별자치시 가람동 406 이마트 세종점  1522-3232    894   \n",
       "1621                             세종특별자치시 어진동 3-113외 5필지  1522-3232    717   \n",
       "1622     세종특별자치시 아름동 1329 다올비즈니스센터 103,104,105,202,203호  1522-3232   1768   \n",
       "1623  세종특별자치시 소담동 539 새샘마을7단지 근린생활시설 -1동 12호,13호,14호...  1522-3232   1750   \n",
       "1624                세종특별자치시 도담동 407 세종충남대학교병원 헬스케어센터 1층  1522-3232   1814   \n",
       "\n",
       "     gugun_code  \n",
       "1620       1701  \n",
       "1621       1701  \n",
       "1622       1701  \n",
       "1623       1701  \n",
       "1624       1701  "
      ]
     },
     "execution_count": 12,
     "metadata": {},
     "output_type": "execute_result"
    }
   ],
   "source": [
    "# 인덱스 정리하기\n",
    "all_store.reset_index(drop=True, inplace=True)\n",
    "all_store.tail()"
   ]
  },
  {
   "cell_type": "code",
   "execution_count": 13,
   "id": "d07f426a",
   "metadata": {},
   "outputs": [],
   "source": [
    "# 저장\n",
    "# all_store.to_csv(\"StarbucksKoreaStore.csv\")"
   ]
  }
 ],
 "metadata": {
  "kernelspec": {
   "display_name": "Python 3",
   "language": "python",
   "name": "python3"
  },
  "language_info": {
   "codemirror_mode": {
    "name": "ipython",
    "version": 3
   },
   "file_extension": ".py",
   "mimetype": "text/x-python",
   "name": "python",
   "nbconvert_exporter": "python",
   "pygments_lexer": "ipython3",
   "version": "3.8.8"
  },
  "toc": {
   "base_numbering": 1,
   "nav_menu": {},
   "number_sections": true,
   "sideBar": true,
   "skip_h1_title": false,
   "title_cell": "Table of Contents",
   "title_sidebar": "Contents",
   "toc_cell": false,
   "toc_position": {},
   "toc_section_display": true,
   "toc_window_display": false
  },
  "varInspector": {
   "cols": {
    "lenName": 16,
    "lenType": 16,
    "lenVar": 40
   },
   "kernels_config": {
    "python": {
     "delete_cmd_postfix": "",
     "delete_cmd_prefix": "del ",
     "library": "var_list.py",
     "varRefreshCmd": "print(var_dic_list())"
    },
    "r": {
     "delete_cmd_postfix": ") ",
     "delete_cmd_prefix": "rm(",
     "library": "var_list.r",
     "varRefreshCmd": "cat(var_dic_list()) "
    }
   },
   "types_to_exclude": [
    "module",
    "function",
    "builtin_function_or_method",
    "instance",
    "_Feature"
   ],
   "window_display": false
  }
 },
 "nbformat": 4,
 "nbformat_minor": 5
}
