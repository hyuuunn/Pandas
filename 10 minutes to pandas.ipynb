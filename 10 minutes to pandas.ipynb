{
 "cells": [
  {
   "cell_type": "markdown",
   "id": "ea9fad09",
   "metadata": {},
   "source": [
    "[10 minutes to pandas](https://pandas.pydata.org/pandas-docs/stable/user_guide/10min.html#) \\\n",
    "[Pandas 10분 완성](https://dataitgirls2.github.io/10minutes2pandas/) \\\n",
    "[BSD-3-Clause](https://opensource.org/licenses/BSD-3-Clause)"
   ]
  },
  {
   "cell_type": "code",
   "execution_count": 3,
   "id": "67c0c11f",
   "metadata": {},
   "outputs": [],
   "source": [
    "import pandas as pd\n",
    "import numpy as np\n",
    "import matplotlib.pyplot as plt"
   ]
  },
  {
   "cell_type": "markdown",
   "id": "6a991e3c",
   "metadata": {},
   "source": [
    "## Object Creation (객체 생성)"
   ]
  },
  {
   "cell_type": "code",
   "execution_count": 6,
   "id": "391b9ff6",
   "metadata": {},
   "outputs": [
    {
     "data": {
      "text/plain": [
       "0    1.0\n",
       "1    3.0\n",
       "2    5.0\n",
       "3    NaN\n",
       "4    6.0\n",
       "5    8.0\n",
       "dtype: float64"
      ]
     },
     "execution_count": 6,
     "metadata": {},
     "output_type": "execute_result"
    }
   ],
   "source": [
    "# Pandas는 값을 가지고 있는 리스트를 통해 Series를 만들고,\n",
    "# 정수로 만들어진 인덱스를 기본값으로 불러올 것\n",
    "s = pd.Series([1,3,5,np.nan,6,8])\n",
    "s"
   ]
  },
  {
   "cell_type": "code",
   "execution_count": 7,
   "id": "8e09b861",
   "metadata": {},
   "outputs": [
    {
     "data": {
      "text/plain": [
       "DatetimeIndex(['2021-01-01', '2021-01-02', '2021-01-03', '2021-01-04',\n",
       "               '2021-01-05', '2021-01-06'],\n",
       "              dtype='datetime64[ns]', freq='D')"
      ]
     },
     "execution_count": 7,
     "metadata": {},
     "output_type": "execute_result"
    }
   ],
   "source": [
    "# datetime 인덱스와 레이블이 있는 열을 가지고 있는 numpy 배열을 전달하여\n",
    "# 데이터프레임을 만들 것\n",
    "dates = pd.date_range('20210101', periods=6)\n",
    "dates"
   ]
  },
  {
   "cell_type": "code",
   "execution_count": 8,
   "id": "67149d51",
   "metadata": {},
   "outputs": [
    {
     "data": {
      "text/html": [
       "<div>\n",
       "<style scoped>\n",
       "    .dataframe tbody tr th:only-of-type {\n",
       "        vertical-align: middle;\n",
       "    }\n",
       "\n",
       "    .dataframe tbody tr th {\n",
       "        vertical-align: top;\n",
       "    }\n",
       "\n",
       "    .dataframe thead th {\n",
       "        text-align: right;\n",
       "    }\n",
       "</style>\n",
       "<table border=\"1\" class=\"dataframe\">\n",
       "  <thead>\n",
       "    <tr style=\"text-align: right;\">\n",
       "      <th></th>\n",
       "      <th>A</th>\n",
       "      <th>B</th>\n",
       "      <th>C</th>\n",
       "      <th>D</th>\n",
       "    </tr>\n",
       "  </thead>\n",
       "  <tbody>\n",
       "    <tr>\n",
       "      <th>2021-01-01</th>\n",
       "      <td>2.068230</td>\n",
       "      <td>0.237707</td>\n",
       "      <td>0.456035</td>\n",
       "      <td>-0.324539</td>\n",
       "    </tr>\n",
       "    <tr>\n",
       "      <th>2021-01-02</th>\n",
       "      <td>-0.200638</td>\n",
       "      <td>-0.915049</td>\n",
       "      <td>0.646785</td>\n",
       "      <td>0.344343</td>\n",
       "    </tr>\n",
       "    <tr>\n",
       "      <th>2021-01-03</th>\n",
       "      <td>-0.545731</td>\n",
       "      <td>-0.752833</td>\n",
       "      <td>1.139732</td>\n",
       "      <td>0.539390</td>\n",
       "    </tr>\n",
       "    <tr>\n",
       "      <th>2021-01-04</th>\n",
       "      <td>-0.718441</td>\n",
       "      <td>-0.401016</td>\n",
       "      <td>-3.187187</td>\n",
       "      <td>-0.623608</td>\n",
       "    </tr>\n",
       "    <tr>\n",
       "      <th>2021-01-05</th>\n",
       "      <td>1.141817</td>\n",
       "      <td>0.218365</td>\n",
       "      <td>-2.455401</td>\n",
       "      <td>-1.206758</td>\n",
       "    </tr>\n",
       "    <tr>\n",
       "      <th>2021-01-06</th>\n",
       "      <td>-0.404224</td>\n",
       "      <td>0.000422</td>\n",
       "      <td>0.540753</td>\n",
       "      <td>-0.266707</td>\n",
       "    </tr>\n",
       "  </tbody>\n",
       "</table>\n",
       "</div>"
      ],
      "text/plain": [
       "                   A         B         C         D\n",
       "2021-01-01  2.068230  0.237707  0.456035 -0.324539\n",
       "2021-01-02 -0.200638 -0.915049  0.646785  0.344343\n",
       "2021-01-03 -0.545731 -0.752833  1.139732  0.539390\n",
       "2021-01-04 -0.718441 -0.401016 -3.187187 -0.623608\n",
       "2021-01-05  1.141817  0.218365 -2.455401 -1.206758\n",
       "2021-01-06 -0.404224  0.000422  0.540753 -0.266707"
      ]
     },
     "execution_count": 8,
     "metadata": {},
     "output_type": "execute_result"
    }
   ],
   "source": [
    "df = pd.DataFrame(np.random.randn(6,4), index=dates, columns=list('ABCD'))\n",
    "df"
   ]
  },
  {
   "cell_type": "code",
   "execution_count": 9,
   "id": "84eb16d6",
   "metadata": {},
   "outputs": [
    {
     "data": {
      "text/html": [
       "<div>\n",
       "<style scoped>\n",
       "    .dataframe tbody tr th:only-of-type {\n",
       "        vertical-align: middle;\n",
       "    }\n",
       "\n",
       "    .dataframe tbody tr th {\n",
       "        vertical-align: top;\n",
       "    }\n",
       "\n",
       "    .dataframe thead th {\n",
       "        text-align: right;\n",
       "    }\n",
       "</style>\n",
       "<table border=\"1\" class=\"dataframe\">\n",
       "  <thead>\n",
       "    <tr style=\"text-align: right;\">\n",
       "      <th></th>\n",
       "      <th>A</th>\n",
       "      <th>B</th>\n",
       "      <th>C</th>\n",
       "      <th>D</th>\n",
       "      <th>E</th>\n",
       "      <th>F</th>\n",
       "    </tr>\n",
       "  </thead>\n",
       "  <tbody>\n",
       "    <tr>\n",
       "      <th>0</th>\n",
       "      <td>1.0</td>\n",
       "      <td>2021-01-02</td>\n",
       "      <td>1.0</td>\n",
       "      <td>3</td>\n",
       "      <td>test</td>\n",
       "      <td>foo</td>\n",
       "    </tr>\n",
       "    <tr>\n",
       "      <th>1</th>\n",
       "      <td>1.0</td>\n",
       "      <td>2021-01-02</td>\n",
       "      <td>1.0</td>\n",
       "      <td>3</td>\n",
       "      <td>train</td>\n",
       "      <td>foo</td>\n",
       "    </tr>\n",
       "    <tr>\n",
       "      <th>2</th>\n",
       "      <td>1.0</td>\n",
       "      <td>2021-01-02</td>\n",
       "      <td>1.0</td>\n",
       "      <td>3</td>\n",
       "      <td>test</td>\n",
       "      <td>foo</td>\n",
       "    </tr>\n",
       "    <tr>\n",
       "      <th>3</th>\n",
       "      <td>1.0</td>\n",
       "      <td>2021-01-02</td>\n",
       "      <td>1.0</td>\n",
       "      <td>3</td>\n",
       "      <td>train</td>\n",
       "      <td>foo</td>\n",
       "    </tr>\n",
       "  </tbody>\n",
       "</table>\n",
       "</div>"
      ],
      "text/plain": [
       "     A          B    C  D      E    F\n",
       "0  1.0 2021-01-02  1.0  3   test  foo\n",
       "1  1.0 2021-01-02  1.0  3  train  foo\n",
       "2  1.0 2021-01-02  1.0  3   test  foo\n",
       "3  1.0 2021-01-02  1.0  3  train  foo"
      ]
     },
     "execution_count": 9,
     "metadata": {},
     "output_type": "execute_result"
    }
   ],
   "source": [
    "#Series와 같은 것으로 변환될 수 있는 객체들의 dict로 구성된 데이터프레임을 만들 것\n",
    "df2 = pd.DataFrame({'A' : 1.,\n",
    "                    'B' : pd.Timestamp('20210102'),\n",
    "                    'C' : pd.Series(1,index=list(range(4)),dtype='float32'),\n",
    "                    'D' : np.array([3] * 4,dtype='int32'),\n",
    "                    'E' : pd.Categorical([\"test\",\"train\",\"test\",\"train\"]),\n",
    "                    'F' : 'foo' })\n",
    "df2"
   ]
  },
  {
   "cell_type": "code",
   "execution_count": 10,
   "id": "055dbbfa",
   "metadata": {},
   "outputs": [
    {
     "data": {
      "text/plain": [
       "A           float64\n",
       "B    datetime64[ns]\n",
       "C           float32\n",
       "D             int32\n",
       "E          category\n",
       "F            object\n",
       "dtype: object"
      ]
     },
     "execution_count": 10,
     "metadata": {},
     "output_type": "execute_result"
    }
   ],
   "source": [
    "#데이터프레임 결과물의 열은 다양한 데이터 타입(dtypes)으로 구성됨\n",
    "df2.dtypes"
   ]
  },
  {
   "cell_type": "markdown",
   "id": "9052cdfc",
   "metadata": {},
   "source": [
    "## Viewing Data (데이터 확인)"
   ]
  },
  {
   "cell_type": "code",
   "execution_count": 11,
   "id": "88dde1f3",
   "metadata": {},
   "outputs": [
    {
     "data": {
      "text/html": [
       "<div>\n",
       "<style scoped>\n",
       "    .dataframe tbody tr th:only-of-type {\n",
       "        vertical-align: middle;\n",
       "    }\n",
       "\n",
       "    .dataframe tbody tr th {\n",
       "        vertical-align: top;\n",
       "    }\n",
       "\n",
       "    .dataframe thead th {\n",
       "        text-align: right;\n",
       "    }\n",
       "</style>\n",
       "<table border=\"1\" class=\"dataframe\">\n",
       "  <thead>\n",
       "    <tr style=\"text-align: right;\">\n",
       "      <th></th>\n",
       "      <th>A</th>\n",
       "      <th>B</th>\n",
       "      <th>C</th>\n",
       "      <th>D</th>\n",
       "    </tr>\n",
       "  </thead>\n",
       "  <tbody>\n",
       "    <tr>\n",
       "      <th>2021-01-01</th>\n",
       "      <td>2.068230</td>\n",
       "      <td>0.237707</td>\n",
       "      <td>0.456035</td>\n",
       "      <td>-0.324539</td>\n",
       "    </tr>\n",
       "    <tr>\n",
       "      <th>2021-01-02</th>\n",
       "      <td>-0.200638</td>\n",
       "      <td>-0.915049</td>\n",
       "      <td>0.646785</td>\n",
       "      <td>0.344343</td>\n",
       "    </tr>\n",
       "    <tr>\n",
       "      <th>2021-01-03</th>\n",
       "      <td>-0.545731</td>\n",
       "      <td>-0.752833</td>\n",
       "      <td>1.139732</td>\n",
       "      <td>0.539390</td>\n",
       "    </tr>\n",
       "    <tr>\n",
       "      <th>2021-01-04</th>\n",
       "      <td>-0.718441</td>\n",
       "      <td>-0.401016</td>\n",
       "      <td>-3.187187</td>\n",
       "      <td>-0.623608</td>\n",
       "    </tr>\n",
       "    <tr>\n",
       "      <th>2021-01-05</th>\n",
       "      <td>1.141817</td>\n",
       "      <td>0.218365</td>\n",
       "      <td>-2.455401</td>\n",
       "      <td>-1.206758</td>\n",
       "    </tr>\n",
       "  </tbody>\n",
       "</table>\n",
       "</div>"
      ],
      "text/plain": [
       "                   A         B         C         D\n",
       "2021-01-01  2.068230  0.237707  0.456035 -0.324539\n",
       "2021-01-02 -0.200638 -0.915049  0.646785  0.344343\n",
       "2021-01-03 -0.545731 -0.752833  1.139732  0.539390\n",
       "2021-01-04 -0.718441 -0.401016 -3.187187 -0.623608\n",
       "2021-01-05  1.141817  0.218365 -2.455401 -1.206758"
      ]
     },
     "execution_count": 11,
     "metadata": {},
     "output_type": "execute_result"
    }
   ],
   "source": [
    "#데이터 프레임 가장 윗 줄 확인\n",
    "#기본값=5\n",
    "df.head()"
   ]
  },
  {
   "cell_type": "code",
   "execution_count": 12,
   "id": "07b703ae",
   "metadata": {},
   "outputs": [
    {
     "data": {
      "text/html": [
       "<div>\n",
       "<style scoped>\n",
       "    .dataframe tbody tr th:only-of-type {\n",
       "        vertical-align: middle;\n",
       "    }\n",
       "\n",
       "    .dataframe tbody tr th {\n",
       "        vertical-align: top;\n",
       "    }\n",
       "\n",
       "    .dataframe thead th {\n",
       "        text-align: right;\n",
       "    }\n",
       "</style>\n",
       "<table border=\"1\" class=\"dataframe\">\n",
       "  <thead>\n",
       "    <tr style=\"text-align: right;\">\n",
       "      <th></th>\n",
       "      <th>A</th>\n",
       "      <th>B</th>\n",
       "      <th>C</th>\n",
       "      <th>D</th>\n",
       "    </tr>\n",
       "  </thead>\n",
       "  <tbody>\n",
       "    <tr>\n",
       "      <th>2021-01-05</th>\n",
       "      <td>1.141817</td>\n",
       "      <td>0.218365</td>\n",
       "      <td>-2.455401</td>\n",
       "      <td>-1.206758</td>\n",
       "    </tr>\n",
       "    <tr>\n",
       "      <th>2021-01-06</th>\n",
       "      <td>-0.404224</td>\n",
       "      <td>0.000422</td>\n",
       "      <td>0.540753</td>\n",
       "      <td>-0.266707</td>\n",
       "    </tr>\n",
       "  </tbody>\n",
       "</table>\n",
       "</div>"
      ],
      "text/plain": [
       "                   A         B         C         D\n",
       "2021-01-05  1.141817  0.218365 -2.455401 -1.206758\n",
       "2021-01-06 -0.404224  0.000422  0.540753 -0.266707"
      ]
     },
     "execution_count": 12,
     "metadata": {},
     "output_type": "execute_result"
    }
   ],
   "source": [
    "#데이터 프레임 마지막 줄 확인\n",
    "df.tail(2)"
   ]
  },
  {
   "cell_type": "code",
   "execution_count": 18,
   "id": "046dc9e5",
   "metadata": {},
   "outputs": [
    {
     "data": {
      "text/plain": [
       "DatetimeIndex(['2021-01-01', '2021-01-02', '2021-01-03', '2021-01-04',\n",
       "               '2021-01-05', '2021-01-06'],\n",
       "              dtype='datetime64[ns]', freq='D')"
      ]
     },
     "execution_count": 18,
     "metadata": {},
     "output_type": "execute_result"
    }
   ],
   "source": [
    "#인덱스(index), 열(column), numpy 데이터에 대한 세부 정보 확인\n",
    "df.index"
   ]
  },
  {
   "cell_type": "code",
   "execution_count": 19,
   "id": "0c158502",
   "metadata": {},
   "outputs": [
    {
     "data": {
      "text/plain": [
       "Index(['A', 'B', 'C', 'D'], dtype='object')"
      ]
     },
     "execution_count": 19,
     "metadata": {},
     "output_type": "execute_result"
    }
   ],
   "source": [
    "df.columns"
   ]
  },
  {
   "cell_type": "code",
   "execution_count": 20,
   "id": "89bbb1c9",
   "metadata": {},
   "outputs": [
    {
     "data": {
      "text/plain": [
       "array([[ 2.06823047e+00,  2.37707313e-01,  4.56034612e-01,\n",
       "        -3.24539382e-01],\n",
       "       [-2.00637998e-01, -9.15049439e-01,  6.46784663e-01,\n",
       "         3.44343199e-01],\n",
       "       [-5.45730939e-01, -7.52833465e-01,  1.13973163e+00,\n",
       "         5.39389816e-01],\n",
       "       [-7.18441330e-01, -4.01015628e-01, -3.18718724e+00,\n",
       "        -6.23607844e-01],\n",
       "       [ 1.14181732e+00,  2.18365201e-01, -2.45540106e+00,\n",
       "        -1.20675848e+00],\n",
       "       [-4.04224266e-01,  4.22473410e-04,  5.40753181e-01,\n",
       "        -2.66706993e-01]])"
      ]
     },
     "execution_count": 20,
     "metadata": {},
     "output_type": "execute_result"
    }
   ],
   "source": [
    "df.values"
   ]
  },
  {
   "cell_type": "code",
   "execution_count": 21,
   "id": "041583d4",
   "metadata": {},
   "outputs": [
    {
     "data": {
      "text/html": [
       "<div>\n",
       "<style scoped>\n",
       "    .dataframe tbody tr th:only-of-type {\n",
       "        vertical-align: middle;\n",
       "    }\n",
       "\n",
       "    .dataframe tbody tr th {\n",
       "        vertical-align: top;\n",
       "    }\n",
       "\n",
       "    .dataframe thead th {\n",
       "        text-align: right;\n",
       "    }\n",
       "</style>\n",
       "<table border=\"1\" class=\"dataframe\">\n",
       "  <thead>\n",
       "    <tr style=\"text-align: right;\">\n",
       "      <th></th>\n",
       "      <th>A</th>\n",
       "      <th>B</th>\n",
       "      <th>C</th>\n",
       "      <th>D</th>\n",
       "    </tr>\n",
       "  </thead>\n",
       "  <tbody>\n",
       "    <tr>\n",
       "      <th>count</th>\n",
       "      <td>6.000000</td>\n",
       "      <td>6.000000</td>\n",
       "      <td>6.000000</td>\n",
       "      <td>6.000000</td>\n",
       "    </tr>\n",
       "    <tr>\n",
       "      <th>mean</th>\n",
       "      <td>0.223502</td>\n",
       "      <td>-0.268734</td>\n",
       "      <td>-0.476547</td>\n",
       "      <td>-0.256313</td>\n",
       "    </tr>\n",
       "    <tr>\n",
       "      <th>std</th>\n",
       "      <td>1.122429</td>\n",
       "      <td>0.497145</td>\n",
       "      <td>1.846200</td>\n",
       "      <td>0.638270</td>\n",
       "    </tr>\n",
       "    <tr>\n",
       "      <th>min</th>\n",
       "      <td>-0.718441</td>\n",
       "      <td>-0.915049</td>\n",
       "      <td>-3.187187</td>\n",
       "      <td>-1.206758</td>\n",
       "    </tr>\n",
       "    <tr>\n",
       "      <th>25%</th>\n",
       "      <td>-0.510354</td>\n",
       "      <td>-0.664879</td>\n",
       "      <td>-1.727542</td>\n",
       "      <td>-0.548841</td>\n",
       "    </tr>\n",
       "    <tr>\n",
       "      <th>50%</th>\n",
       "      <td>-0.302431</td>\n",
       "      <td>-0.200297</td>\n",
       "      <td>0.498394</td>\n",
       "      <td>-0.295623</td>\n",
       "    </tr>\n",
       "    <tr>\n",
       "      <th>75%</th>\n",
       "      <td>0.806203</td>\n",
       "      <td>0.163880</td>\n",
       "      <td>0.620277</td>\n",
       "      <td>0.191581</td>\n",
       "    </tr>\n",
       "    <tr>\n",
       "      <th>max</th>\n",
       "      <td>2.068230</td>\n",
       "      <td>0.237707</td>\n",
       "      <td>1.139732</td>\n",
       "      <td>0.539390</td>\n",
       "    </tr>\n",
       "  </tbody>\n",
       "</table>\n",
       "</div>"
      ],
      "text/plain": [
       "              A         B         C         D\n",
       "count  6.000000  6.000000  6.000000  6.000000\n",
       "mean   0.223502 -0.268734 -0.476547 -0.256313\n",
       "std    1.122429  0.497145  1.846200  0.638270\n",
       "min   -0.718441 -0.915049 -3.187187 -1.206758\n",
       "25%   -0.510354 -0.664879 -1.727542 -0.548841\n",
       "50%   -0.302431 -0.200297  0.498394 -0.295623\n",
       "75%    0.806203  0.163880  0.620277  0.191581\n",
       "max    2.068230  0.237707  1.139732  0.539390"
      ]
     },
     "execution_count": 21,
     "metadata": {},
     "output_type": "execute_result"
    }
   ],
   "source": [
    "#데이터의 대략적인 통계적 정보 요약 확인\n",
    "df.describe()"
   ]
  },
  {
   "cell_type": "code",
   "execution_count": 22,
   "id": "c9bc6d2c",
   "metadata": {},
   "outputs": [
    {
     "data": {
      "text/html": [
       "<div>\n",
       "<style scoped>\n",
       "    .dataframe tbody tr th:only-of-type {\n",
       "        vertical-align: middle;\n",
       "    }\n",
       "\n",
       "    .dataframe tbody tr th {\n",
       "        vertical-align: top;\n",
       "    }\n",
       "\n",
       "    .dataframe thead th {\n",
       "        text-align: right;\n",
       "    }\n",
       "</style>\n",
       "<table border=\"1\" class=\"dataframe\">\n",
       "  <thead>\n",
       "    <tr style=\"text-align: right;\">\n",
       "      <th></th>\n",
       "      <th>2021-01-01</th>\n",
       "      <th>2021-01-02</th>\n",
       "      <th>2021-01-03</th>\n",
       "      <th>2021-01-04</th>\n",
       "      <th>2021-01-05</th>\n",
       "      <th>2021-01-06</th>\n",
       "    </tr>\n",
       "  </thead>\n",
       "  <tbody>\n",
       "    <tr>\n",
       "      <th>A</th>\n",
       "      <td>2.068230</td>\n",
       "      <td>-0.200638</td>\n",
       "      <td>-0.545731</td>\n",
       "      <td>-0.718441</td>\n",
       "      <td>1.141817</td>\n",
       "      <td>-0.404224</td>\n",
       "    </tr>\n",
       "    <tr>\n",
       "      <th>B</th>\n",
       "      <td>0.237707</td>\n",
       "      <td>-0.915049</td>\n",
       "      <td>-0.752833</td>\n",
       "      <td>-0.401016</td>\n",
       "      <td>0.218365</td>\n",
       "      <td>0.000422</td>\n",
       "    </tr>\n",
       "    <tr>\n",
       "      <th>C</th>\n",
       "      <td>0.456035</td>\n",
       "      <td>0.646785</td>\n",
       "      <td>1.139732</td>\n",
       "      <td>-3.187187</td>\n",
       "      <td>-2.455401</td>\n",
       "      <td>0.540753</td>\n",
       "    </tr>\n",
       "    <tr>\n",
       "      <th>D</th>\n",
       "      <td>-0.324539</td>\n",
       "      <td>0.344343</td>\n",
       "      <td>0.539390</td>\n",
       "      <td>-0.623608</td>\n",
       "      <td>-1.206758</td>\n",
       "      <td>-0.266707</td>\n",
       "    </tr>\n",
       "  </tbody>\n",
       "</table>\n",
       "</div>"
      ],
      "text/plain": [
       "   2021-01-01  2021-01-02  2021-01-03  2021-01-04  2021-01-05  2021-01-06\n",
       "A    2.068230   -0.200638   -0.545731   -0.718441    1.141817   -0.404224\n",
       "B    0.237707   -0.915049   -0.752833   -0.401016    0.218365    0.000422\n",
       "C    0.456035    0.646785    1.139732   -3.187187   -2.455401    0.540753\n",
       "D   -0.324539    0.344343    0.539390   -0.623608   -1.206758   -0.266707"
      ]
     },
     "execution_count": 22,
     "metadata": {},
     "output_type": "execute_result"
    }
   ],
   "source": [
    "#데이터 전치\n",
    "df.T"
   ]
  },
  {
   "cell_type": "code",
   "execution_count": 23,
   "id": "eb27a391",
   "metadata": {},
   "outputs": [
    {
     "data": {
      "text/html": [
       "<div>\n",
       "<style scoped>\n",
       "    .dataframe tbody tr th:only-of-type {\n",
       "        vertical-align: middle;\n",
       "    }\n",
       "\n",
       "    .dataframe tbody tr th {\n",
       "        vertical-align: top;\n",
       "    }\n",
       "\n",
       "    .dataframe thead th {\n",
       "        text-align: right;\n",
       "    }\n",
       "</style>\n",
       "<table border=\"1\" class=\"dataframe\">\n",
       "  <thead>\n",
       "    <tr style=\"text-align: right;\">\n",
       "      <th></th>\n",
       "      <th>D</th>\n",
       "      <th>C</th>\n",
       "      <th>B</th>\n",
       "      <th>A</th>\n",
       "    </tr>\n",
       "  </thead>\n",
       "  <tbody>\n",
       "    <tr>\n",
       "      <th>2021-01-01</th>\n",
       "      <td>-0.324539</td>\n",
       "      <td>0.456035</td>\n",
       "      <td>0.237707</td>\n",
       "      <td>2.068230</td>\n",
       "    </tr>\n",
       "    <tr>\n",
       "      <th>2021-01-02</th>\n",
       "      <td>0.344343</td>\n",
       "      <td>0.646785</td>\n",
       "      <td>-0.915049</td>\n",
       "      <td>-0.200638</td>\n",
       "    </tr>\n",
       "    <tr>\n",
       "      <th>2021-01-03</th>\n",
       "      <td>0.539390</td>\n",
       "      <td>1.139732</td>\n",
       "      <td>-0.752833</td>\n",
       "      <td>-0.545731</td>\n",
       "    </tr>\n",
       "    <tr>\n",
       "      <th>2021-01-04</th>\n",
       "      <td>-0.623608</td>\n",
       "      <td>-3.187187</td>\n",
       "      <td>-0.401016</td>\n",
       "      <td>-0.718441</td>\n",
       "    </tr>\n",
       "    <tr>\n",
       "      <th>2021-01-05</th>\n",
       "      <td>-1.206758</td>\n",
       "      <td>-2.455401</td>\n",
       "      <td>0.218365</td>\n",
       "      <td>1.141817</td>\n",
       "    </tr>\n",
       "    <tr>\n",
       "      <th>2021-01-06</th>\n",
       "      <td>-0.266707</td>\n",
       "      <td>0.540753</td>\n",
       "      <td>0.000422</td>\n",
       "      <td>-0.404224</td>\n",
       "    </tr>\n",
       "  </tbody>\n",
       "</table>\n",
       "</div>"
      ],
      "text/plain": [
       "                   D         C         B         A\n",
       "2021-01-01 -0.324539  0.456035  0.237707  2.068230\n",
       "2021-01-02  0.344343  0.646785 -0.915049 -0.200638\n",
       "2021-01-03  0.539390  1.139732 -0.752833 -0.545731\n",
       "2021-01-04 -0.623608 -3.187187 -0.401016 -0.718441\n",
       "2021-01-05 -1.206758 -2.455401  0.218365  1.141817\n",
       "2021-01-06 -0.266707  0.540753  0.000422 -0.404224"
      ]
     },
     "execution_count": 23,
     "metadata": {},
     "output_type": "execute_result"
    }
   ],
   "source": [
    "#축 별로 정렬\n",
    "df.sort_index(axis=1, ascending=False)"
   ]
  },
  {
   "cell_type": "code",
   "execution_count": 24,
   "id": "ddc7e70a",
   "metadata": {},
   "outputs": [
    {
     "data": {
      "text/html": [
       "<div>\n",
       "<style scoped>\n",
       "    .dataframe tbody tr th:only-of-type {\n",
       "        vertical-align: middle;\n",
       "    }\n",
       "\n",
       "    .dataframe tbody tr th {\n",
       "        vertical-align: top;\n",
       "    }\n",
       "\n",
       "    .dataframe thead th {\n",
       "        text-align: right;\n",
       "    }\n",
       "</style>\n",
       "<table border=\"1\" class=\"dataframe\">\n",
       "  <thead>\n",
       "    <tr style=\"text-align: right;\">\n",
       "      <th></th>\n",
       "      <th>A</th>\n",
       "      <th>B</th>\n",
       "      <th>C</th>\n",
       "      <th>D</th>\n",
       "    </tr>\n",
       "  </thead>\n",
       "  <tbody>\n",
       "    <tr>\n",
       "      <th>2021-01-02</th>\n",
       "      <td>-0.200638</td>\n",
       "      <td>-0.915049</td>\n",
       "      <td>0.646785</td>\n",
       "      <td>0.344343</td>\n",
       "    </tr>\n",
       "    <tr>\n",
       "      <th>2021-01-03</th>\n",
       "      <td>-0.545731</td>\n",
       "      <td>-0.752833</td>\n",
       "      <td>1.139732</td>\n",
       "      <td>0.539390</td>\n",
       "    </tr>\n",
       "    <tr>\n",
       "      <th>2021-01-04</th>\n",
       "      <td>-0.718441</td>\n",
       "      <td>-0.401016</td>\n",
       "      <td>-3.187187</td>\n",
       "      <td>-0.623608</td>\n",
       "    </tr>\n",
       "    <tr>\n",
       "      <th>2021-01-06</th>\n",
       "      <td>-0.404224</td>\n",
       "      <td>0.000422</td>\n",
       "      <td>0.540753</td>\n",
       "      <td>-0.266707</td>\n",
       "    </tr>\n",
       "    <tr>\n",
       "      <th>2021-01-05</th>\n",
       "      <td>1.141817</td>\n",
       "      <td>0.218365</td>\n",
       "      <td>-2.455401</td>\n",
       "      <td>-1.206758</td>\n",
       "    </tr>\n",
       "    <tr>\n",
       "      <th>2021-01-01</th>\n",
       "      <td>2.068230</td>\n",
       "      <td>0.237707</td>\n",
       "      <td>0.456035</td>\n",
       "      <td>-0.324539</td>\n",
       "    </tr>\n",
       "  </tbody>\n",
       "</table>\n",
       "</div>"
      ],
      "text/plain": [
       "                   A         B         C         D\n",
       "2021-01-02 -0.200638 -0.915049  0.646785  0.344343\n",
       "2021-01-03 -0.545731 -0.752833  1.139732  0.539390\n",
       "2021-01-04 -0.718441 -0.401016 -3.187187 -0.623608\n",
       "2021-01-06 -0.404224  0.000422  0.540753 -0.266707\n",
       "2021-01-05  1.141817  0.218365 -2.455401 -1.206758\n",
       "2021-01-01  2.068230  0.237707  0.456035 -0.324539"
      ]
     },
     "execution_count": 24,
     "metadata": {},
     "output_type": "execute_result"
    }
   ],
   "source": [
    "#값 별로 정렬\n",
    "df.sort_values(by='B')"
   ]
  },
  {
   "cell_type": "markdown",
   "id": "e47ce851",
   "metadata": {},
   "source": [
    "## Selection (선택)\n",
    "    \n",
    "    - 선택과 설정을 위한 Python / Numpy의 표준화된 표현들이 직관적이며, 코드 작성을 위한 양방향 작업에 유용하지만\n",
    "    - Pandas에 최적화된 데이터 접근 방법인 .at, .iat, .loc 및 .iloc 을 추천"
   ]
  },
  {
   "cell_type": "markdown",
   "id": "6d1b43c1",
   "metadata": {},
   "source": [
    "### Getting (데이터 얻기)"
   ]
  },
  {
   "cell_type": "code",
   "execution_count": 25,
   "id": "bc240a72",
   "metadata": {},
   "outputs": [
    {
     "data": {
      "text/plain": [
       "2021-01-01    2.068230\n",
       "2021-01-02   -0.200638\n",
       "2021-01-03   -0.545731\n",
       "2021-01-04   -0.718441\n",
       "2021-01-05    1.141817\n",
       "2021-01-06   -0.404224\n",
       "Freq: D, Name: A, dtype: float64"
      ]
     },
     "execution_count": 25,
     "metadata": {},
     "output_type": "execute_result"
    }
   ],
   "source": [
    "#df.A 와 동일한 Series를 생성하는 단일 열을 선택\n",
    "df['A']"
   ]
  },
  {
   "cell_type": "code",
   "execution_count": 26,
   "id": "b33a09e0",
   "metadata": {},
   "outputs": [
    {
     "data": {
      "text/html": [
       "<div>\n",
       "<style scoped>\n",
       "    .dataframe tbody tr th:only-of-type {\n",
       "        vertical-align: middle;\n",
       "    }\n",
       "\n",
       "    .dataframe tbody tr th {\n",
       "        vertical-align: top;\n",
       "    }\n",
       "\n",
       "    .dataframe thead th {\n",
       "        text-align: right;\n",
       "    }\n",
       "</style>\n",
       "<table border=\"1\" class=\"dataframe\">\n",
       "  <thead>\n",
       "    <tr style=\"text-align: right;\">\n",
       "      <th></th>\n",
       "      <th>A</th>\n",
       "      <th>B</th>\n",
       "      <th>C</th>\n",
       "      <th>D</th>\n",
       "    </tr>\n",
       "  </thead>\n",
       "  <tbody>\n",
       "    <tr>\n",
       "      <th>2021-01-01</th>\n",
       "      <td>2.068230</td>\n",
       "      <td>0.237707</td>\n",
       "      <td>0.456035</td>\n",
       "      <td>-0.324539</td>\n",
       "    </tr>\n",
       "    <tr>\n",
       "      <th>2021-01-02</th>\n",
       "      <td>-0.200638</td>\n",
       "      <td>-0.915049</td>\n",
       "      <td>0.646785</td>\n",
       "      <td>0.344343</td>\n",
       "    </tr>\n",
       "    <tr>\n",
       "      <th>2021-01-03</th>\n",
       "      <td>-0.545731</td>\n",
       "      <td>-0.752833</td>\n",
       "      <td>1.139732</td>\n",
       "      <td>0.539390</td>\n",
       "    </tr>\n",
       "  </tbody>\n",
       "</table>\n",
       "</div>"
      ],
      "text/plain": [
       "                   A         B         C         D\n",
       "2021-01-01  2.068230  0.237707  0.456035 -0.324539\n",
       "2021-01-02 -0.200638 -0.915049  0.646785  0.344343\n",
       "2021-01-03 -0.545731 -0.752833  1.139732  0.539390"
      ]
     },
     "execution_count": 26,
     "metadata": {},
     "output_type": "execute_result"
    }
   ],
   "source": [
    "#행을 분할하는 [ ]를 통해 선택\n",
    "df[0:3]"
   ]
  },
  {
   "cell_type": "code",
   "execution_count": 27,
   "id": "ca152659",
   "metadata": {},
   "outputs": [
    {
     "data": {
      "text/html": [
       "<div>\n",
       "<style scoped>\n",
       "    .dataframe tbody tr th:only-of-type {\n",
       "        vertical-align: middle;\n",
       "    }\n",
       "\n",
       "    .dataframe tbody tr th {\n",
       "        vertical-align: top;\n",
       "    }\n",
       "\n",
       "    .dataframe thead th {\n",
       "        text-align: right;\n",
       "    }\n",
       "</style>\n",
       "<table border=\"1\" class=\"dataframe\">\n",
       "  <thead>\n",
       "    <tr style=\"text-align: right;\">\n",
       "      <th></th>\n",
       "      <th>A</th>\n",
       "      <th>B</th>\n",
       "      <th>C</th>\n",
       "      <th>D</th>\n",
       "    </tr>\n",
       "  </thead>\n",
       "  <tbody>\n",
       "    <tr>\n",
       "      <th>2021-01-02</th>\n",
       "      <td>-0.200638</td>\n",
       "      <td>-0.915049</td>\n",
       "      <td>0.646785</td>\n",
       "      <td>0.344343</td>\n",
       "    </tr>\n",
       "    <tr>\n",
       "      <th>2021-01-03</th>\n",
       "      <td>-0.545731</td>\n",
       "      <td>-0.752833</td>\n",
       "      <td>1.139732</td>\n",
       "      <td>0.539390</td>\n",
       "    </tr>\n",
       "    <tr>\n",
       "      <th>2021-01-04</th>\n",
       "      <td>-0.718441</td>\n",
       "      <td>-0.401016</td>\n",
       "      <td>-3.187187</td>\n",
       "      <td>-0.623608</td>\n",
       "    </tr>\n",
       "  </tbody>\n",
       "</table>\n",
       "</div>"
      ],
      "text/plain": [
       "                   A         B         C         D\n",
       "2021-01-02 -0.200638 -0.915049  0.646785  0.344343\n",
       "2021-01-03 -0.545731 -0.752833  1.139732  0.539390\n",
       "2021-01-04 -0.718441 -0.401016 -3.187187 -0.623608"
      ]
     },
     "execution_count": 27,
     "metadata": {},
     "output_type": "execute_result"
    }
   ],
   "source": [
    "df['20210102':'20210104']"
   ]
  },
  {
   "cell_type": "markdown",
   "id": "3f5a46ab",
   "metadata": {},
   "source": [
    "### Selection by Label (Label 을 통한 선택)"
   ]
  },
  {
   "cell_type": "code",
   "execution_count": 28,
   "id": "3166b0a9",
   "metadata": {},
   "outputs": [
    {
     "data": {
      "text/plain": [
       "A    2.068230\n",
       "B    0.237707\n",
       "C    0.456035\n",
       "D   -0.324539\n",
       "Name: 2021-01-01 00:00:00, dtype: float64"
      ]
     },
     "execution_count": 28,
     "metadata": {},
     "output_type": "execute_result"
    }
   ],
   "source": [
    "#라벨을 사용하여 횡단면 얻기\n",
    "df.loc[dates[0]]"
   ]
  },
  {
   "cell_type": "code",
   "execution_count": 29,
   "id": "e34f8dc7",
   "metadata": {},
   "outputs": [
    {
     "data": {
      "text/html": [
       "<div>\n",
       "<style scoped>\n",
       "    .dataframe tbody tr th:only-of-type {\n",
       "        vertical-align: middle;\n",
       "    }\n",
       "\n",
       "    .dataframe tbody tr th {\n",
       "        vertical-align: top;\n",
       "    }\n",
       "\n",
       "    .dataframe thead th {\n",
       "        text-align: right;\n",
       "    }\n",
       "</style>\n",
       "<table border=\"1\" class=\"dataframe\">\n",
       "  <thead>\n",
       "    <tr style=\"text-align: right;\">\n",
       "      <th></th>\n",
       "      <th>A</th>\n",
       "      <th>B</th>\n",
       "    </tr>\n",
       "  </thead>\n",
       "  <tbody>\n",
       "    <tr>\n",
       "      <th>2021-01-01</th>\n",
       "      <td>2.068230</td>\n",
       "      <td>0.237707</td>\n",
       "    </tr>\n",
       "    <tr>\n",
       "      <th>2021-01-02</th>\n",
       "      <td>-0.200638</td>\n",
       "      <td>-0.915049</td>\n",
       "    </tr>\n",
       "    <tr>\n",
       "      <th>2021-01-03</th>\n",
       "      <td>-0.545731</td>\n",
       "      <td>-0.752833</td>\n",
       "    </tr>\n",
       "    <tr>\n",
       "      <th>2021-01-04</th>\n",
       "      <td>-0.718441</td>\n",
       "      <td>-0.401016</td>\n",
       "    </tr>\n",
       "    <tr>\n",
       "      <th>2021-01-05</th>\n",
       "      <td>1.141817</td>\n",
       "      <td>0.218365</td>\n",
       "    </tr>\n",
       "    <tr>\n",
       "      <th>2021-01-06</th>\n",
       "      <td>-0.404224</td>\n",
       "      <td>0.000422</td>\n",
       "    </tr>\n",
       "  </tbody>\n",
       "</table>\n",
       "</div>"
      ],
      "text/plain": [
       "                   A         B\n",
       "2021-01-01  2.068230  0.237707\n",
       "2021-01-02 -0.200638 -0.915049\n",
       "2021-01-03 -0.545731 -0.752833\n",
       "2021-01-04 -0.718441 -0.401016\n",
       "2021-01-05  1.141817  0.218365\n",
       "2021-01-06 -0.404224  0.000422"
      ]
     },
     "execution_count": 29,
     "metadata": {},
     "output_type": "execute_result"
    }
   ],
   "source": [
    "#라벨을 사용하여 여러 축(의 데이터) 얻기\n",
    "df.loc[:,['A','B']]"
   ]
  },
  {
   "cell_type": "code",
   "execution_count": 30,
   "id": "f1ae966e",
   "metadata": {},
   "outputs": [
    {
     "data": {
      "text/html": [
       "<div>\n",
       "<style scoped>\n",
       "    .dataframe tbody tr th:only-of-type {\n",
       "        vertical-align: middle;\n",
       "    }\n",
       "\n",
       "    .dataframe tbody tr th {\n",
       "        vertical-align: top;\n",
       "    }\n",
       "\n",
       "    .dataframe thead th {\n",
       "        text-align: right;\n",
       "    }\n",
       "</style>\n",
       "<table border=\"1\" class=\"dataframe\">\n",
       "  <thead>\n",
       "    <tr style=\"text-align: right;\">\n",
       "      <th></th>\n",
       "      <th>A</th>\n",
       "      <th>B</th>\n",
       "    </tr>\n",
       "  </thead>\n",
       "  <tbody>\n",
       "    <tr>\n",
       "      <th>2021-01-02</th>\n",
       "      <td>-0.200638</td>\n",
       "      <td>-0.915049</td>\n",
       "    </tr>\n",
       "    <tr>\n",
       "      <th>2021-01-03</th>\n",
       "      <td>-0.545731</td>\n",
       "      <td>-0.752833</td>\n",
       "    </tr>\n",
       "    <tr>\n",
       "      <th>2021-01-04</th>\n",
       "      <td>-0.718441</td>\n",
       "      <td>-0.401016</td>\n",
       "    </tr>\n",
       "  </tbody>\n",
       "</table>\n",
       "</div>"
      ],
      "text/plain": [
       "                   A         B\n",
       "2021-01-02 -0.200638 -0.915049\n",
       "2021-01-03 -0.545731 -0.752833\n",
       "2021-01-04 -0.718441 -0.401016"
      ]
     },
     "execution_count": 30,
     "metadata": {},
     "output_type": "execute_result"
    }
   ],
   "source": [
    "#양쪽 종단점을 포함한 라벨 슬라이싱 확인\n",
    "df.loc['20210102':'20210104', ['A','B']]"
   ]
  },
  {
   "cell_type": "code",
   "execution_count": 31,
   "id": "eb6746b9",
   "metadata": {},
   "outputs": [
    {
     "data": {
      "text/plain": [
       "A   -0.200638\n",
       "B   -0.915049\n",
       "Name: 2021-01-02 00:00:00, dtype: float64"
      ]
     },
     "execution_count": 31,
     "metadata": {},
     "output_type": "execute_result"
    }
   ],
   "source": [
    "#반환되는 객체의 차원 줄이기\n",
    "df.loc['20210102', ['A','B']]"
   ]
  },
  {
   "cell_type": "code",
   "execution_count": 32,
   "id": "acc4b8fd",
   "metadata": {},
   "outputs": [
    {
     "data": {
      "text/plain": [
       "2.0682304725940246"
      ]
     },
     "execution_count": 32,
     "metadata": {},
     "output_type": "execute_result"
    }
   ],
   "source": [
    "#스칼라 값\n",
    "df.loc[dates[0],'A']"
   ]
  },
  {
   "cell_type": "code",
   "execution_count": 34,
   "id": "4e0e8ded",
   "metadata": {},
   "outputs": [
    {
     "data": {
      "text/plain": [
       "2.0682304725940246"
      ]
     },
     "execution_count": 34,
     "metadata": {},
     "output_type": "execute_result"
    }
   ],
   "source": [
    "#스칼라 값을 더 빠르게 구하는 방법\n",
    "df.at[dates[0],'A']"
   ]
  },
  {
   "cell_type": "markdown",
   "id": "9cc8bdb3",
   "metadata": {},
   "source": [
    "### Selection by Position (위치로 선택하기)"
   ]
  },
  {
   "cell_type": "code",
   "execution_count": 35,
   "id": "26a9eee6",
   "metadata": {},
   "outputs": [
    {
     "data": {
      "text/plain": [
       "A   -0.718441\n",
       "B   -0.401016\n",
       "C   -3.187187\n",
       "D   -0.623608\n",
       "Name: 2021-01-04 00:00:00, dtype: float64"
      ]
     },
     "execution_count": 35,
     "metadata": {},
     "output_type": "execute_result"
    }
   ],
   "source": [
    "#넘겨받은 정수의 위치를 기준으로 선택\n",
    "df.iloc[3]"
   ]
  },
  {
   "cell_type": "code",
   "execution_count": 36,
   "id": "be734dcb",
   "metadata": {},
   "outputs": [
    {
     "data": {
      "text/html": [
       "<div>\n",
       "<style scoped>\n",
       "    .dataframe tbody tr th:only-of-type {\n",
       "        vertical-align: middle;\n",
       "    }\n",
       "\n",
       "    .dataframe tbody tr th {\n",
       "        vertical-align: top;\n",
       "    }\n",
       "\n",
       "    .dataframe thead th {\n",
       "        text-align: right;\n",
       "    }\n",
       "</style>\n",
       "<table border=\"1\" class=\"dataframe\">\n",
       "  <thead>\n",
       "    <tr style=\"text-align: right;\">\n",
       "      <th></th>\n",
       "      <th>A</th>\n",
       "      <th>B</th>\n",
       "    </tr>\n",
       "  </thead>\n",
       "  <tbody>\n",
       "    <tr>\n",
       "      <th>2021-01-04</th>\n",
       "      <td>-0.718441</td>\n",
       "      <td>-0.401016</td>\n",
       "    </tr>\n",
       "    <tr>\n",
       "      <th>2021-01-05</th>\n",
       "      <td>1.141817</td>\n",
       "      <td>0.218365</td>\n",
       "    </tr>\n",
       "  </tbody>\n",
       "</table>\n",
       "</div>"
      ],
      "text/plain": [
       "                   A         B\n",
       "2021-01-04 -0.718441 -0.401016\n",
       "2021-01-05  1.141817  0.218365"
      ]
     },
     "execution_count": 36,
     "metadata": {},
     "output_type": "execute_result"
    }
   ],
   "source": [
    "#정수로 표기된 슬라이스들을 통해, numpy / python과 유사하게 작동\n",
    "df.iloc[3:5,0:2]"
   ]
  },
  {
   "cell_type": "code",
   "execution_count": 37,
   "id": "532d0779",
   "metadata": {},
   "outputs": [
    {
     "data": {
      "text/html": [
       "<div>\n",
       "<style scoped>\n",
       "    .dataframe tbody tr th:only-of-type {\n",
       "        vertical-align: middle;\n",
       "    }\n",
       "\n",
       "    .dataframe tbody tr th {\n",
       "        vertical-align: top;\n",
       "    }\n",
       "\n",
       "    .dataframe thead th {\n",
       "        text-align: right;\n",
       "    }\n",
       "</style>\n",
       "<table border=\"1\" class=\"dataframe\">\n",
       "  <thead>\n",
       "    <tr style=\"text-align: right;\">\n",
       "      <th></th>\n",
       "      <th>A</th>\n",
       "      <th>C</th>\n",
       "    </tr>\n",
       "  </thead>\n",
       "  <tbody>\n",
       "    <tr>\n",
       "      <th>2021-01-02</th>\n",
       "      <td>-0.200638</td>\n",
       "      <td>0.646785</td>\n",
       "    </tr>\n",
       "    <tr>\n",
       "      <th>2021-01-03</th>\n",
       "      <td>-0.545731</td>\n",
       "      <td>1.139732</td>\n",
       "    </tr>\n",
       "    <tr>\n",
       "      <th>2021-01-05</th>\n",
       "      <td>1.141817</td>\n",
       "      <td>-2.455401</td>\n",
       "    </tr>\n",
       "  </tbody>\n",
       "</table>\n",
       "</div>"
      ],
      "text/plain": [
       "                   A         C\n",
       "2021-01-02 -0.200638  0.646785\n",
       "2021-01-03 -0.545731  1.139732\n",
       "2021-01-05  1.141817 -2.455401"
      ]
     },
     "execution_count": 37,
     "metadata": {},
     "output_type": "execute_result"
    }
   ],
   "source": [
    "#정수로 표기된 위치값의 리스트들을 통해, numpy / python의 스타일과 유사\n",
    "df.iloc[[1,2,4],[0,2]]"
   ]
  },
  {
   "cell_type": "code",
   "execution_count": 38,
   "id": "1ed3972c",
   "metadata": {},
   "outputs": [
    {
     "data": {
      "text/html": [
       "<div>\n",
       "<style scoped>\n",
       "    .dataframe tbody tr th:only-of-type {\n",
       "        vertical-align: middle;\n",
       "    }\n",
       "\n",
       "    .dataframe tbody tr th {\n",
       "        vertical-align: top;\n",
       "    }\n",
       "\n",
       "    .dataframe thead th {\n",
       "        text-align: right;\n",
       "    }\n",
       "</style>\n",
       "<table border=\"1\" class=\"dataframe\">\n",
       "  <thead>\n",
       "    <tr style=\"text-align: right;\">\n",
       "      <th></th>\n",
       "      <th>A</th>\n",
       "      <th>B</th>\n",
       "      <th>C</th>\n",
       "      <th>D</th>\n",
       "    </tr>\n",
       "  </thead>\n",
       "  <tbody>\n",
       "    <tr>\n",
       "      <th>2021-01-02</th>\n",
       "      <td>-0.200638</td>\n",
       "      <td>-0.915049</td>\n",
       "      <td>0.646785</td>\n",
       "      <td>0.344343</td>\n",
       "    </tr>\n",
       "    <tr>\n",
       "      <th>2021-01-03</th>\n",
       "      <td>-0.545731</td>\n",
       "      <td>-0.752833</td>\n",
       "      <td>1.139732</td>\n",
       "      <td>0.539390</td>\n",
       "    </tr>\n",
       "  </tbody>\n",
       "</table>\n",
       "</div>"
      ],
      "text/plain": [
       "                   A         B         C         D\n",
       "2021-01-02 -0.200638 -0.915049  0.646785  0.344343\n",
       "2021-01-03 -0.545731 -0.752833  1.139732  0.539390"
      ]
     },
     "execution_count": 38,
     "metadata": {},
     "output_type": "execute_result"
    }
   ],
   "source": [
    "#명시적으로 행 나누기\n",
    "df.iloc[1:3,:]"
   ]
  },
  {
   "cell_type": "code",
   "execution_count": 39,
   "id": "b08a4a50",
   "metadata": {},
   "outputs": [
    {
     "data": {
      "text/html": [
       "<div>\n",
       "<style scoped>\n",
       "    .dataframe tbody tr th:only-of-type {\n",
       "        vertical-align: middle;\n",
       "    }\n",
       "\n",
       "    .dataframe tbody tr th {\n",
       "        vertical-align: top;\n",
       "    }\n",
       "\n",
       "    .dataframe thead th {\n",
       "        text-align: right;\n",
       "    }\n",
       "</style>\n",
       "<table border=\"1\" class=\"dataframe\">\n",
       "  <thead>\n",
       "    <tr style=\"text-align: right;\">\n",
       "      <th></th>\n",
       "      <th>B</th>\n",
       "      <th>C</th>\n",
       "    </tr>\n",
       "  </thead>\n",
       "  <tbody>\n",
       "    <tr>\n",
       "      <th>2021-01-01</th>\n",
       "      <td>0.237707</td>\n",
       "      <td>0.456035</td>\n",
       "    </tr>\n",
       "    <tr>\n",
       "      <th>2021-01-02</th>\n",
       "      <td>-0.915049</td>\n",
       "      <td>0.646785</td>\n",
       "    </tr>\n",
       "    <tr>\n",
       "      <th>2021-01-03</th>\n",
       "      <td>-0.752833</td>\n",
       "      <td>1.139732</td>\n",
       "    </tr>\n",
       "    <tr>\n",
       "      <th>2021-01-04</th>\n",
       "      <td>-0.401016</td>\n",
       "      <td>-3.187187</td>\n",
       "    </tr>\n",
       "    <tr>\n",
       "      <th>2021-01-05</th>\n",
       "      <td>0.218365</td>\n",
       "      <td>-2.455401</td>\n",
       "    </tr>\n",
       "    <tr>\n",
       "      <th>2021-01-06</th>\n",
       "      <td>0.000422</td>\n",
       "      <td>0.540753</td>\n",
       "    </tr>\n",
       "  </tbody>\n",
       "</table>\n",
       "</div>"
      ],
      "text/plain": [
       "                   B         C\n",
       "2021-01-01  0.237707  0.456035\n",
       "2021-01-02 -0.915049  0.646785\n",
       "2021-01-03 -0.752833  1.139732\n",
       "2021-01-04 -0.401016 -3.187187\n",
       "2021-01-05  0.218365 -2.455401\n",
       "2021-01-06  0.000422  0.540753"
      ]
     },
     "execution_count": 39,
     "metadata": {},
     "output_type": "execute_result"
    }
   ],
   "source": [
    "#명시적으로 열 나누기\n",
    "df.iloc[:,1:3]"
   ]
  },
  {
   "cell_type": "code",
   "execution_count": 40,
   "id": "024a68d0",
   "metadata": {},
   "outputs": [
    {
     "data": {
      "text/plain": [
       "-0.9150494394126891"
      ]
     },
     "execution_count": 40,
     "metadata": {},
     "output_type": "execute_result"
    }
   ],
   "source": [
    "#명시적으로 (특정한) 값을 얻고자 하는 경우\n",
    "df.iloc[1,1]"
   ]
  },
  {
   "cell_type": "code",
   "execution_count": 41,
   "id": "0d8da508",
   "metadata": {},
   "outputs": [
    {
     "data": {
      "text/plain": [
       "-0.9150494394126891"
      ]
     },
     "execution_count": 41,
     "metadata": {},
     "output_type": "execute_result"
    }
   ],
   "source": [
    "#스칼라 값을 빠르게 얻는 방법(위의 방식과 동일)\n",
    "df.iat[1,1]"
   ]
  },
  {
   "cell_type": "markdown",
   "id": "769ca3f2",
   "metadata": {},
   "source": [
    "### Boolean Indexing"
   ]
  },
  {
   "cell_type": "code",
   "execution_count": 42,
   "id": "f7b3832f",
   "metadata": {},
   "outputs": [
    {
     "data": {
      "text/html": [
       "<div>\n",
       "<style scoped>\n",
       "    .dataframe tbody tr th:only-of-type {\n",
       "        vertical-align: middle;\n",
       "    }\n",
       "\n",
       "    .dataframe tbody tr th {\n",
       "        vertical-align: top;\n",
       "    }\n",
       "\n",
       "    .dataframe thead th {\n",
       "        text-align: right;\n",
       "    }\n",
       "</style>\n",
       "<table border=\"1\" class=\"dataframe\">\n",
       "  <thead>\n",
       "    <tr style=\"text-align: right;\">\n",
       "      <th></th>\n",
       "      <th>A</th>\n",
       "      <th>B</th>\n",
       "      <th>C</th>\n",
       "      <th>D</th>\n",
       "    </tr>\n",
       "  </thead>\n",
       "  <tbody>\n",
       "    <tr>\n",
       "      <th>2021-01-01</th>\n",
       "      <td>2.068230</td>\n",
       "      <td>0.237707</td>\n",
       "      <td>0.456035</td>\n",
       "      <td>-0.324539</td>\n",
       "    </tr>\n",
       "    <tr>\n",
       "      <th>2021-01-05</th>\n",
       "      <td>1.141817</td>\n",
       "      <td>0.218365</td>\n",
       "      <td>-2.455401</td>\n",
       "      <td>-1.206758</td>\n",
       "    </tr>\n",
       "  </tbody>\n",
       "</table>\n",
       "</div>"
      ],
      "text/plain": [
       "                   A         B         C         D\n",
       "2021-01-01  2.068230  0.237707  0.456035 -0.324539\n",
       "2021-01-05  1.141817  0.218365 -2.455401 -1.206758"
      ]
     },
     "execution_count": 42,
     "metadata": {},
     "output_type": "execute_result"
    }
   ],
   "source": [
    "#데이터를 선택하기 위해 단일 열의 값을 사용\n",
    "df[df.A > 0]"
   ]
  },
  {
   "cell_type": "code",
   "execution_count": 43,
   "id": "cfcf39b8",
   "metadata": {},
   "outputs": [
    {
     "data": {
      "text/html": [
       "<div>\n",
       "<style scoped>\n",
       "    .dataframe tbody tr th:only-of-type {\n",
       "        vertical-align: middle;\n",
       "    }\n",
       "\n",
       "    .dataframe tbody tr th {\n",
       "        vertical-align: top;\n",
       "    }\n",
       "\n",
       "    .dataframe thead th {\n",
       "        text-align: right;\n",
       "    }\n",
       "</style>\n",
       "<table border=\"1\" class=\"dataframe\">\n",
       "  <thead>\n",
       "    <tr style=\"text-align: right;\">\n",
       "      <th></th>\n",
       "      <th>A</th>\n",
       "      <th>B</th>\n",
       "      <th>C</th>\n",
       "      <th>D</th>\n",
       "    </tr>\n",
       "  </thead>\n",
       "  <tbody>\n",
       "    <tr>\n",
       "      <th>2021-01-01</th>\n",
       "      <td>2.068230</td>\n",
       "      <td>0.237707</td>\n",
       "      <td>0.456035</td>\n",
       "      <td>NaN</td>\n",
       "    </tr>\n",
       "    <tr>\n",
       "      <th>2021-01-02</th>\n",
       "      <td>NaN</td>\n",
       "      <td>NaN</td>\n",
       "      <td>0.646785</td>\n",
       "      <td>0.344343</td>\n",
       "    </tr>\n",
       "    <tr>\n",
       "      <th>2021-01-03</th>\n",
       "      <td>NaN</td>\n",
       "      <td>NaN</td>\n",
       "      <td>1.139732</td>\n",
       "      <td>0.539390</td>\n",
       "    </tr>\n",
       "    <tr>\n",
       "      <th>2021-01-04</th>\n",
       "      <td>NaN</td>\n",
       "      <td>NaN</td>\n",
       "      <td>NaN</td>\n",
       "      <td>NaN</td>\n",
       "    </tr>\n",
       "    <tr>\n",
       "      <th>2021-01-05</th>\n",
       "      <td>1.141817</td>\n",
       "      <td>0.218365</td>\n",
       "      <td>NaN</td>\n",
       "      <td>NaN</td>\n",
       "    </tr>\n",
       "    <tr>\n",
       "      <th>2021-01-06</th>\n",
       "      <td>NaN</td>\n",
       "      <td>0.000422</td>\n",
       "      <td>0.540753</td>\n",
       "      <td>NaN</td>\n",
       "    </tr>\n",
       "  </tbody>\n",
       "</table>\n",
       "</div>"
      ],
      "text/plain": [
       "                   A         B         C         D\n",
       "2021-01-01  2.068230  0.237707  0.456035       NaN\n",
       "2021-01-02       NaN       NaN  0.646785  0.344343\n",
       "2021-01-03       NaN       NaN  1.139732  0.539390\n",
       "2021-01-04       NaN       NaN       NaN       NaN\n",
       "2021-01-05  1.141817  0.218365       NaN       NaN\n",
       "2021-01-06       NaN  0.000422  0.540753       NaN"
      ]
     },
     "execution_count": 43,
     "metadata": {},
     "output_type": "execute_result"
    }
   ],
   "source": [
    "#Boolean 조건을 충족하는 데이터프레임에서 값을 선택\n",
    "df[df > 0]"
   ]
  },
  {
   "cell_type": "code",
   "execution_count": 44,
   "id": "af53142e",
   "metadata": {},
   "outputs": [
    {
     "data": {
      "text/html": [
       "<div>\n",
       "<style scoped>\n",
       "    .dataframe tbody tr th:only-of-type {\n",
       "        vertical-align: middle;\n",
       "    }\n",
       "\n",
       "    .dataframe tbody tr th {\n",
       "        vertical-align: top;\n",
       "    }\n",
       "\n",
       "    .dataframe thead th {\n",
       "        text-align: right;\n",
       "    }\n",
       "</style>\n",
       "<table border=\"1\" class=\"dataframe\">\n",
       "  <thead>\n",
       "    <tr style=\"text-align: right;\">\n",
       "      <th></th>\n",
       "      <th>A</th>\n",
       "      <th>B</th>\n",
       "      <th>C</th>\n",
       "      <th>D</th>\n",
       "      <th>E</th>\n",
       "    </tr>\n",
       "  </thead>\n",
       "  <tbody>\n",
       "    <tr>\n",
       "      <th>2021-01-01</th>\n",
       "      <td>2.068230</td>\n",
       "      <td>0.237707</td>\n",
       "      <td>0.456035</td>\n",
       "      <td>-0.324539</td>\n",
       "      <td>one</td>\n",
       "    </tr>\n",
       "    <tr>\n",
       "      <th>2021-01-02</th>\n",
       "      <td>-0.200638</td>\n",
       "      <td>-0.915049</td>\n",
       "      <td>0.646785</td>\n",
       "      <td>0.344343</td>\n",
       "      <td>one</td>\n",
       "    </tr>\n",
       "    <tr>\n",
       "      <th>2021-01-03</th>\n",
       "      <td>-0.545731</td>\n",
       "      <td>-0.752833</td>\n",
       "      <td>1.139732</td>\n",
       "      <td>0.539390</td>\n",
       "      <td>two</td>\n",
       "    </tr>\n",
       "    <tr>\n",
       "      <th>2021-01-04</th>\n",
       "      <td>-0.718441</td>\n",
       "      <td>-0.401016</td>\n",
       "      <td>-3.187187</td>\n",
       "      <td>-0.623608</td>\n",
       "      <td>three</td>\n",
       "    </tr>\n",
       "    <tr>\n",
       "      <th>2021-01-05</th>\n",
       "      <td>1.141817</td>\n",
       "      <td>0.218365</td>\n",
       "      <td>-2.455401</td>\n",
       "      <td>-1.206758</td>\n",
       "      <td>four</td>\n",
       "    </tr>\n",
       "    <tr>\n",
       "      <th>2021-01-06</th>\n",
       "      <td>-0.404224</td>\n",
       "      <td>0.000422</td>\n",
       "      <td>0.540753</td>\n",
       "      <td>-0.266707</td>\n",
       "      <td>three</td>\n",
       "    </tr>\n",
       "  </tbody>\n",
       "</table>\n",
       "</div>"
      ],
      "text/plain": [
       "                   A         B         C         D      E\n",
       "2021-01-01  2.068230  0.237707  0.456035 -0.324539    one\n",
       "2021-01-02 -0.200638 -0.915049  0.646785  0.344343    one\n",
       "2021-01-03 -0.545731 -0.752833  1.139732  0.539390    two\n",
       "2021-01-04 -0.718441 -0.401016 -3.187187 -0.623608  three\n",
       "2021-01-05  1.141817  0.218365 -2.455401 -1.206758   four\n",
       "2021-01-06 -0.404224  0.000422  0.540753 -0.266707  three"
      ]
     },
     "execution_count": 44,
     "metadata": {},
     "output_type": "execute_result"
    }
   ],
   "source": [
    "#df를 복제한 df2에 E열 추가\n",
    "df2 = df.copy()\n",
    "df2['E'] = ['one', 'one', 'two', 'three', 'four', 'three']\n",
    "df2"
   ]
  },
  {
   "cell_type": "code",
   "execution_count": 45,
   "id": "611ed6dd",
   "metadata": {},
   "outputs": [
    {
     "data": {
      "text/html": [
       "<div>\n",
       "<style scoped>\n",
       "    .dataframe tbody tr th:only-of-type {\n",
       "        vertical-align: middle;\n",
       "    }\n",
       "\n",
       "    .dataframe tbody tr th {\n",
       "        vertical-align: top;\n",
       "    }\n",
       "\n",
       "    .dataframe thead th {\n",
       "        text-align: right;\n",
       "    }\n",
       "</style>\n",
       "<table border=\"1\" class=\"dataframe\">\n",
       "  <thead>\n",
       "    <tr style=\"text-align: right;\">\n",
       "      <th></th>\n",
       "      <th>A</th>\n",
       "      <th>B</th>\n",
       "      <th>C</th>\n",
       "      <th>D</th>\n",
       "      <th>E</th>\n",
       "    </tr>\n",
       "  </thead>\n",
       "  <tbody>\n",
       "    <tr>\n",
       "      <th>2021-01-03</th>\n",
       "      <td>-0.545731</td>\n",
       "      <td>-0.752833</td>\n",
       "      <td>1.139732</td>\n",
       "      <td>0.539390</td>\n",
       "      <td>two</td>\n",
       "    </tr>\n",
       "    <tr>\n",
       "      <th>2021-01-05</th>\n",
       "      <td>1.141817</td>\n",
       "      <td>0.218365</td>\n",
       "      <td>-2.455401</td>\n",
       "      <td>-1.206758</td>\n",
       "      <td>four</td>\n",
       "    </tr>\n",
       "  </tbody>\n",
       "</table>\n",
       "</div>"
      ],
      "text/plain": [
       "                   A         B         C         D     E\n",
       "2021-01-03 -0.545731 -0.752833  1.139732  0.539390   two\n",
       "2021-01-05  1.141817  0.218365 -2.455401 -1.206758  four"
      ]
     },
     "execution_count": 45,
     "metadata": {},
     "output_type": "execute_result"
    }
   ],
   "source": [
    "#필터링을 위한 메소드 isin()을 사용\n",
    "df2[df2['E'].isin(['two','four'])]"
   ]
  },
  {
   "cell_type": "markdown",
   "id": "2b364ac6",
   "metadata": {},
   "source": [
    "### Setting (설정)"
   ]
  },
  {
   "cell_type": "code",
   "execution_count": 48,
   "id": "cf5991e5",
   "metadata": {},
   "outputs": [
    {
     "data": {
      "text/plain": [
       "2021-01-02    1\n",
       "2021-01-03    2\n",
       "2021-01-04    3\n",
       "2021-01-05    4\n",
       "2021-01-06    5\n",
       "2021-01-07    6\n",
       "Freq: D, dtype: int64"
      ]
     },
     "execution_count": 48,
     "metadata": {},
     "output_type": "execute_result"
    }
   ],
   "source": [
    "#새 열을 설정하면 데이터가 인덱스 별로 자동 정렬됨\n",
    "s1 = pd.Series([1,2,3,4,5,6], index=pd.date_range('20210102', periods=6))\n",
    "s1"
   ]
  },
  {
   "cell_type": "code",
   "execution_count": 81,
   "id": "fcda9017",
   "metadata": {},
   "outputs": [
    {
     "data": {
      "text/html": [
       "<div>\n",
       "<style scoped>\n",
       "    .dataframe tbody tr th:only-of-type {\n",
       "        vertical-align: middle;\n",
       "    }\n",
       "\n",
       "    .dataframe tbody tr th {\n",
       "        vertical-align: top;\n",
       "    }\n",
       "\n",
       "    .dataframe thead th {\n",
       "        text-align: right;\n",
       "    }\n",
       "</style>\n",
       "<table border=\"1\" class=\"dataframe\">\n",
       "  <thead>\n",
       "    <tr style=\"text-align: right;\">\n",
       "      <th></th>\n",
       "      <th>A</th>\n",
       "      <th>B</th>\n",
       "      <th>C</th>\n",
       "      <th>D</th>\n",
       "      <th>F</th>\n",
       "    </tr>\n",
       "  </thead>\n",
       "  <tbody>\n",
       "    <tr>\n",
       "      <th>2021-01-01</th>\n",
       "      <td>0.338215</td>\n",
       "      <td>-0.960465</td>\n",
       "      <td>0.086288</td>\n",
       "      <td>1.407809</td>\n",
       "      <td>NaN</td>\n",
       "    </tr>\n",
       "    <tr>\n",
       "      <th>2021-01-02</th>\n",
       "      <td>-0.847325</td>\n",
       "      <td>0.848492</td>\n",
       "      <td>-0.612760</td>\n",
       "      <td>-0.163944</td>\n",
       "      <td>1.0</td>\n",
       "    </tr>\n",
       "    <tr>\n",
       "      <th>2021-01-03</th>\n",
       "      <td>-0.996117</td>\n",
       "      <td>0.102436</td>\n",
       "      <td>-0.734586</td>\n",
       "      <td>-0.497452</td>\n",
       "      <td>2.0</td>\n",
       "    </tr>\n",
       "    <tr>\n",
       "      <th>2021-01-04</th>\n",
       "      <td>-0.786360</td>\n",
       "      <td>0.080061</td>\n",
       "      <td>-0.341633</td>\n",
       "      <td>0.082316</td>\n",
       "      <td>3.0</td>\n",
       "    </tr>\n",
       "    <tr>\n",
       "      <th>2021-01-05</th>\n",
       "      <td>0.913897</td>\n",
       "      <td>1.033601</td>\n",
       "      <td>-1.217398</td>\n",
       "      <td>-0.629907</td>\n",
       "      <td>4.0</td>\n",
       "    </tr>\n",
       "    <tr>\n",
       "      <th>2021-01-06</th>\n",
       "      <td>-0.244832</td>\n",
       "      <td>0.766041</td>\n",
       "      <td>1.203211</td>\n",
       "      <td>-0.938157</td>\n",
       "      <td>5.0</td>\n",
       "    </tr>\n",
       "  </tbody>\n",
       "</table>\n",
       "</div>"
      ],
      "text/plain": [
       "                   A         B         C         D    F\n",
       "2021-01-01  0.338215 -0.960465  0.086288  1.407809  NaN\n",
       "2021-01-02 -0.847325  0.848492 -0.612760 -0.163944  1.0\n",
       "2021-01-03 -0.996117  0.102436 -0.734586 -0.497452  2.0\n",
       "2021-01-04 -0.786360  0.080061 -0.341633  0.082316  3.0\n",
       "2021-01-05  0.913897  1.033601 -1.217398 -0.629907  4.0\n",
       "2021-01-06 -0.244832  0.766041  1.203211 -0.938157  5.0"
      ]
     },
     "execution_count": 81,
     "metadata": {},
     "output_type": "execute_result"
    }
   ],
   "source": [
    "df['F'] = s1\n",
    "df"
   ]
  },
  {
   "cell_type": "code",
   "execution_count": 51,
   "id": "fe4f4e01",
   "metadata": {},
   "outputs": [],
   "source": [
    "#라벨에 의해 값을 설정\n",
    "#0:0의 값을 0으로 바꿈\n",
    "df.at[dates[0],'A']=0"
   ]
  },
  {
   "cell_type": "code",
   "execution_count": 55,
   "id": "65e0d81b",
   "metadata": {},
   "outputs": [],
   "source": [
    "#위치에 의해 값을 설정\n",
    "#0:1의 값을 0으로 바꿈\n",
    "df.iat[0,1]=0"
   ]
  },
  {
   "cell_type": "code",
   "execution_count": 56,
   "id": "ef2e5b0a",
   "metadata": {},
   "outputs": [
    {
     "data": {
      "text/html": [
       "<div>\n",
       "<style scoped>\n",
       "    .dataframe tbody tr th:only-of-type {\n",
       "        vertical-align: middle;\n",
       "    }\n",
       "\n",
       "    .dataframe tbody tr th {\n",
       "        vertical-align: top;\n",
       "    }\n",
       "\n",
       "    .dataframe thead th {\n",
       "        text-align: right;\n",
       "    }\n",
       "</style>\n",
       "<table border=\"1\" class=\"dataframe\">\n",
       "  <thead>\n",
       "    <tr style=\"text-align: right;\">\n",
       "      <th></th>\n",
       "      <th>A</th>\n",
       "      <th>B</th>\n",
       "      <th>C</th>\n",
       "      <th>D</th>\n",
       "      <th>F</th>\n",
       "    </tr>\n",
       "  </thead>\n",
       "  <tbody>\n",
       "    <tr>\n",
       "      <th>2021-01-01</th>\n",
       "      <td>0.000000</td>\n",
       "      <td>0.000000</td>\n",
       "      <td>0.456035</td>\n",
       "      <td>5</td>\n",
       "      <td>NaN</td>\n",
       "    </tr>\n",
       "    <tr>\n",
       "      <th>2021-01-02</th>\n",
       "      <td>-0.200638</td>\n",
       "      <td>-0.915049</td>\n",
       "      <td>0.646785</td>\n",
       "      <td>5</td>\n",
       "      <td>1.0</td>\n",
       "    </tr>\n",
       "    <tr>\n",
       "      <th>2021-01-03</th>\n",
       "      <td>-0.545731</td>\n",
       "      <td>-0.752833</td>\n",
       "      <td>1.139732</td>\n",
       "      <td>5</td>\n",
       "      <td>2.0</td>\n",
       "    </tr>\n",
       "    <tr>\n",
       "      <th>2021-01-04</th>\n",
       "      <td>-0.718441</td>\n",
       "      <td>-0.401016</td>\n",
       "      <td>-3.187187</td>\n",
       "      <td>5</td>\n",
       "      <td>3.0</td>\n",
       "    </tr>\n",
       "    <tr>\n",
       "      <th>2021-01-05</th>\n",
       "      <td>1.141817</td>\n",
       "      <td>0.218365</td>\n",
       "      <td>-2.455401</td>\n",
       "      <td>5</td>\n",
       "      <td>4.0</td>\n",
       "    </tr>\n",
       "    <tr>\n",
       "      <th>2021-01-06</th>\n",
       "      <td>-0.404224</td>\n",
       "      <td>0.000422</td>\n",
       "      <td>0.540753</td>\n",
       "      <td>5</td>\n",
       "      <td>5.0</td>\n",
       "    </tr>\n",
       "  </tbody>\n",
       "</table>\n",
       "</div>"
      ],
      "text/plain": [
       "                   A         B         C  D    F\n",
       "2021-01-01  0.000000  0.000000  0.456035  5  NaN\n",
       "2021-01-02 -0.200638 -0.915049  0.646785  5  1.0\n",
       "2021-01-03 -0.545731 -0.752833  1.139732  5  2.0\n",
       "2021-01-04 -0.718441 -0.401016 -3.187187  5  3.0\n",
       "2021-01-05  1.141817  0.218365 -2.455401  5  4.0\n",
       "2021-01-06 -0.404224  0.000422  0.540753  5  5.0"
      ]
     },
     "execution_count": 56,
     "metadata": {},
     "output_type": "execute_result"
    }
   ],
   "source": [
    "#Numpy 배열을 사용한 할당에 의해 값을 설정\n",
    "df.loc[:,'D']=np.array([5]*len(df))\n",
    "df"
   ]
  },
  {
   "cell_type": "code",
   "execution_count": 57,
   "id": "c13b3ea2",
   "metadata": {},
   "outputs": [
    {
     "data": {
      "text/html": [
       "<div>\n",
       "<style scoped>\n",
       "    .dataframe tbody tr th:only-of-type {\n",
       "        vertical-align: middle;\n",
       "    }\n",
       "\n",
       "    .dataframe tbody tr th {\n",
       "        vertical-align: top;\n",
       "    }\n",
       "\n",
       "    .dataframe thead th {\n",
       "        text-align: right;\n",
       "    }\n",
       "</style>\n",
       "<table border=\"1\" class=\"dataframe\">\n",
       "  <thead>\n",
       "    <tr style=\"text-align: right;\">\n",
       "      <th></th>\n",
       "      <th>A</th>\n",
       "      <th>B</th>\n",
       "      <th>C</th>\n",
       "      <th>D</th>\n",
       "      <th>F</th>\n",
       "    </tr>\n",
       "  </thead>\n",
       "  <tbody>\n",
       "    <tr>\n",
       "      <th>2021-01-01</th>\n",
       "      <td>0.000000</td>\n",
       "      <td>0.000000</td>\n",
       "      <td>-0.456035</td>\n",
       "      <td>-5</td>\n",
       "      <td>NaN</td>\n",
       "    </tr>\n",
       "    <tr>\n",
       "      <th>2021-01-02</th>\n",
       "      <td>-0.200638</td>\n",
       "      <td>-0.915049</td>\n",
       "      <td>-0.646785</td>\n",
       "      <td>-5</td>\n",
       "      <td>-1.0</td>\n",
       "    </tr>\n",
       "    <tr>\n",
       "      <th>2021-01-03</th>\n",
       "      <td>-0.545731</td>\n",
       "      <td>-0.752833</td>\n",
       "      <td>-1.139732</td>\n",
       "      <td>-5</td>\n",
       "      <td>-2.0</td>\n",
       "    </tr>\n",
       "    <tr>\n",
       "      <th>2021-01-04</th>\n",
       "      <td>-0.718441</td>\n",
       "      <td>-0.401016</td>\n",
       "      <td>-3.187187</td>\n",
       "      <td>-5</td>\n",
       "      <td>-3.0</td>\n",
       "    </tr>\n",
       "    <tr>\n",
       "      <th>2021-01-05</th>\n",
       "      <td>-1.141817</td>\n",
       "      <td>-0.218365</td>\n",
       "      <td>-2.455401</td>\n",
       "      <td>-5</td>\n",
       "      <td>-4.0</td>\n",
       "    </tr>\n",
       "    <tr>\n",
       "      <th>2021-01-06</th>\n",
       "      <td>-0.404224</td>\n",
       "      <td>-0.000422</td>\n",
       "      <td>-0.540753</td>\n",
       "      <td>-5</td>\n",
       "      <td>-5.0</td>\n",
       "    </tr>\n",
       "  </tbody>\n",
       "</table>\n",
       "</div>"
      ],
      "text/plain": [
       "                   A         B         C  D    F\n",
       "2021-01-01  0.000000  0.000000 -0.456035 -5  NaN\n",
       "2021-01-02 -0.200638 -0.915049 -0.646785 -5 -1.0\n",
       "2021-01-03 -0.545731 -0.752833 -1.139732 -5 -2.0\n",
       "2021-01-04 -0.718441 -0.401016 -3.187187 -5 -3.0\n",
       "2021-01-05 -1.141817 -0.218365 -2.455401 -5 -4.0\n",
       "2021-01-06 -0.404224 -0.000422 -0.540753 -5 -5.0"
      ]
     },
     "execution_count": 57,
     "metadata": {},
     "output_type": "execute_result"
    }
   ],
   "source": [
    "#where 연산을 설정\n",
    "df2 = df.copy()\n",
    "df2[df2 > 0] = -df2\n",
    "df2"
   ]
  },
  {
   "cell_type": "markdown",
   "id": "4a839d92",
   "metadata": {},
   "source": [
    "## Missing Data (결측치)\n",
    "    - Pandas는 결측치를 표현하기 위해 주로 np.nan 값을 사용\n",
    "    - 기본 설정값이지만 계산에는 포함되지 않음"
   ]
  },
  {
   "cell_type": "markdown",
   "id": "8f469c02",
   "metadata": {},
   "source": [
    "### Reindexing\n",
    "    - 지정된 축 상의 인덱스를 변경 / 추가 / 삭제\n",
    "    - Reindexing은 데이터의 복사본을 반환"
   ]
  },
  {
   "cell_type": "code",
   "execution_count": 70,
   "id": "eed75727",
   "metadata": {},
   "outputs": [
    {
     "data": {
      "text/html": [
       "<div>\n",
       "<style scoped>\n",
       "    .dataframe tbody tr th:only-of-type {\n",
       "        vertical-align: middle;\n",
       "    }\n",
       "\n",
       "    .dataframe tbody tr th {\n",
       "        vertical-align: top;\n",
       "    }\n",
       "\n",
       "    .dataframe thead th {\n",
       "        text-align: right;\n",
       "    }\n",
       "</style>\n",
       "<table border=\"1\" class=\"dataframe\">\n",
       "  <thead>\n",
       "    <tr style=\"text-align: right;\">\n",
       "      <th></th>\n",
       "      <th>A</th>\n",
       "      <th>B</th>\n",
       "      <th>C</th>\n",
       "      <th>D</th>\n",
       "      <th>E</th>\n",
       "    </tr>\n",
       "  </thead>\n",
       "  <tbody>\n",
       "    <tr>\n",
       "      <th>2021-01-01</th>\n",
       "      <td>0.338215</td>\n",
       "      <td>-0.960465</td>\n",
       "      <td>0.086288</td>\n",
       "      <td>1.407809</td>\n",
       "      <td>1.0</td>\n",
       "    </tr>\n",
       "    <tr>\n",
       "      <th>2021-01-02</th>\n",
       "      <td>-0.847325</td>\n",
       "      <td>0.848492</td>\n",
       "      <td>-0.612760</td>\n",
       "      <td>-0.163944</td>\n",
       "      <td>1.0</td>\n",
       "    </tr>\n",
       "    <tr>\n",
       "      <th>2021-01-03</th>\n",
       "      <td>-0.996117</td>\n",
       "      <td>0.102436</td>\n",
       "      <td>-0.734586</td>\n",
       "      <td>-0.497452</td>\n",
       "      <td>NaN</td>\n",
       "    </tr>\n",
       "    <tr>\n",
       "      <th>2021-01-04</th>\n",
       "      <td>-0.786360</td>\n",
       "      <td>0.080061</td>\n",
       "      <td>-0.341633</td>\n",
       "      <td>0.082316</td>\n",
       "      <td>NaN</td>\n",
       "    </tr>\n",
       "  </tbody>\n",
       "</table>\n",
       "</div>"
      ],
      "text/plain": [
       "                   A         B         C         D    E\n",
       "2021-01-01  0.338215 -0.960465  0.086288  1.407809  1.0\n",
       "2021-01-02 -0.847325  0.848492 -0.612760 -0.163944  1.0\n",
       "2021-01-03 -0.996117  0.102436 -0.734586 -0.497452  NaN\n",
       "2021-01-04 -0.786360  0.080061 -0.341633  0.082316  NaN"
      ]
     },
     "execution_count": 70,
     "metadata": {},
     "output_type": "execute_result"
    }
   ],
   "source": [
    "df1 = df.reindex(index=dates[0:4], columns=list(df.columns) + ['E'])\n",
    "#df1.iloc[0:2,4]=1\n",
    "df1.loc[dates[0]:dates[1],'E'] = 1\n",
    "df1"
   ]
  },
  {
   "cell_type": "code",
   "execution_count": 72,
   "id": "d45bd8c3",
   "metadata": {},
   "outputs": [
    {
     "data": {
      "text/html": [
       "<div>\n",
       "<style scoped>\n",
       "    .dataframe tbody tr th:only-of-type {\n",
       "        vertical-align: middle;\n",
       "    }\n",
       "\n",
       "    .dataframe tbody tr th {\n",
       "        vertical-align: top;\n",
       "    }\n",
       "\n",
       "    .dataframe thead th {\n",
       "        text-align: right;\n",
       "    }\n",
       "</style>\n",
       "<table border=\"1\" class=\"dataframe\">\n",
       "  <thead>\n",
       "    <tr style=\"text-align: right;\">\n",
       "      <th></th>\n",
       "      <th>A</th>\n",
       "      <th>B</th>\n",
       "      <th>C</th>\n",
       "      <th>D</th>\n",
       "      <th>E</th>\n",
       "    </tr>\n",
       "  </thead>\n",
       "  <tbody>\n",
       "    <tr>\n",
       "      <th>2021-01-01</th>\n",
       "      <td>0.338215</td>\n",
       "      <td>-0.960465</td>\n",
       "      <td>0.086288</td>\n",
       "      <td>1.407809</td>\n",
       "      <td>1.0</td>\n",
       "    </tr>\n",
       "    <tr>\n",
       "      <th>2021-01-02</th>\n",
       "      <td>-0.847325</td>\n",
       "      <td>0.848492</td>\n",
       "      <td>-0.612760</td>\n",
       "      <td>-0.163944</td>\n",
       "      <td>1.0</td>\n",
       "    </tr>\n",
       "  </tbody>\n",
       "</table>\n",
       "</div>"
      ],
      "text/plain": [
       "                   A         B         C         D    E\n",
       "2021-01-01  0.338215 -0.960465  0.086288  1.407809  1.0\n",
       "2021-01-02 -0.847325  0.848492 -0.612760 -0.163944  1.0"
      ]
     },
     "execution_count": 72,
     "metadata": {},
     "output_type": "execute_result"
    }
   ],
   "source": [
    "#결측치를 가지고 있는 행 삭제\n",
    "df1.dropna(how = 'any')"
   ]
  },
  {
   "cell_type": "code",
   "execution_count": 73,
   "id": "df7d9e45",
   "metadata": {},
   "outputs": [
    {
     "data": {
      "text/html": [
       "<div>\n",
       "<style scoped>\n",
       "    .dataframe tbody tr th:only-of-type {\n",
       "        vertical-align: middle;\n",
       "    }\n",
       "\n",
       "    .dataframe tbody tr th {\n",
       "        vertical-align: top;\n",
       "    }\n",
       "\n",
       "    .dataframe thead th {\n",
       "        text-align: right;\n",
       "    }\n",
       "</style>\n",
       "<table border=\"1\" class=\"dataframe\">\n",
       "  <thead>\n",
       "    <tr style=\"text-align: right;\">\n",
       "      <th></th>\n",
       "      <th>A</th>\n",
       "      <th>B</th>\n",
       "      <th>C</th>\n",
       "      <th>D</th>\n",
       "      <th>E</th>\n",
       "    </tr>\n",
       "  </thead>\n",
       "  <tbody>\n",
       "    <tr>\n",
       "      <th>2021-01-01</th>\n",
       "      <td>0.338215</td>\n",
       "      <td>-0.960465</td>\n",
       "      <td>0.086288</td>\n",
       "      <td>1.407809</td>\n",
       "      <td>1.0</td>\n",
       "    </tr>\n",
       "    <tr>\n",
       "      <th>2021-01-02</th>\n",
       "      <td>-0.847325</td>\n",
       "      <td>0.848492</td>\n",
       "      <td>-0.612760</td>\n",
       "      <td>-0.163944</td>\n",
       "      <td>1.0</td>\n",
       "    </tr>\n",
       "    <tr>\n",
       "      <th>2021-01-03</th>\n",
       "      <td>-0.996117</td>\n",
       "      <td>0.102436</td>\n",
       "      <td>-0.734586</td>\n",
       "      <td>-0.497452</td>\n",
       "      <td>5.0</td>\n",
       "    </tr>\n",
       "    <tr>\n",
       "      <th>2021-01-04</th>\n",
       "      <td>-0.786360</td>\n",
       "      <td>0.080061</td>\n",
       "      <td>-0.341633</td>\n",
       "      <td>0.082316</td>\n",
       "      <td>5.0</td>\n",
       "    </tr>\n",
       "  </tbody>\n",
       "</table>\n",
       "</div>"
      ],
      "text/plain": [
       "                   A         B         C         D    E\n",
       "2021-01-01  0.338215 -0.960465  0.086288  1.407809  1.0\n",
       "2021-01-02 -0.847325  0.848492 -0.612760 -0.163944  1.0\n",
       "2021-01-03 -0.996117  0.102436 -0.734586 -0.497452  5.0\n",
       "2021-01-04 -0.786360  0.080061 -0.341633  0.082316  5.0"
      ]
     },
     "execution_count": 73,
     "metadata": {},
     "output_type": "execute_result"
    }
   ],
   "source": [
    "#결측치 채워넣기\n",
    "df1.fillna(value=5)"
   ]
  },
  {
   "cell_type": "code",
   "execution_count": 74,
   "id": "0a5cdebd",
   "metadata": {
    "scrolled": true
   },
   "outputs": [
    {
     "data": {
      "text/html": [
       "<div>\n",
       "<style scoped>\n",
       "    .dataframe tbody tr th:only-of-type {\n",
       "        vertical-align: middle;\n",
       "    }\n",
       "\n",
       "    .dataframe tbody tr th {\n",
       "        vertical-align: top;\n",
       "    }\n",
       "\n",
       "    .dataframe thead th {\n",
       "        text-align: right;\n",
       "    }\n",
       "</style>\n",
       "<table border=\"1\" class=\"dataframe\">\n",
       "  <thead>\n",
       "    <tr style=\"text-align: right;\">\n",
       "      <th></th>\n",
       "      <th>A</th>\n",
       "      <th>B</th>\n",
       "      <th>C</th>\n",
       "      <th>D</th>\n",
       "      <th>E</th>\n",
       "    </tr>\n",
       "  </thead>\n",
       "  <tbody>\n",
       "    <tr>\n",
       "      <th>2021-01-01</th>\n",
       "      <td>False</td>\n",
       "      <td>False</td>\n",
       "      <td>False</td>\n",
       "      <td>False</td>\n",
       "      <td>False</td>\n",
       "    </tr>\n",
       "    <tr>\n",
       "      <th>2021-01-02</th>\n",
       "      <td>False</td>\n",
       "      <td>False</td>\n",
       "      <td>False</td>\n",
       "      <td>False</td>\n",
       "      <td>False</td>\n",
       "    </tr>\n",
       "    <tr>\n",
       "      <th>2021-01-03</th>\n",
       "      <td>False</td>\n",
       "      <td>False</td>\n",
       "      <td>False</td>\n",
       "      <td>False</td>\n",
       "      <td>True</td>\n",
       "    </tr>\n",
       "    <tr>\n",
       "      <th>2021-01-04</th>\n",
       "      <td>False</td>\n",
       "      <td>False</td>\n",
       "      <td>False</td>\n",
       "      <td>False</td>\n",
       "      <td>True</td>\n",
       "    </tr>\n",
       "  </tbody>\n",
       "</table>\n",
       "</div>"
      ],
      "text/plain": [
       "                A      B      C      D      E\n",
       "2021-01-01  False  False  False  False  False\n",
       "2021-01-02  False  False  False  False  False\n",
       "2021-01-03  False  False  False  False   True\n",
       "2021-01-04  False  False  False  False   True"
      ]
     },
     "execution_count": 74,
     "metadata": {},
     "output_type": "execute_result"
    }
   ],
   "source": [
    "#nan인 값에 boolean을 통한 표식 얻기\n",
    "#데이터프레임의 모든 값이 boolean 형태로 표시되도록 하며,\n",
    "#nan인 값에만 True가 표시되게 하는 함수\n",
    "pd.isna(df1)"
   ]
  },
  {
   "cell_type": "markdown",
   "id": "a90022db",
   "metadata": {},
   "source": [
    "## Operation (연산)"
   ]
  },
  {
   "cell_type": "markdown",
   "id": "047e6daa",
   "metadata": {},
   "source": [
    "### Stats (통계)\n",
    "    일반적으로 결측치를 제외한 후 연산됨"
   ]
  },
  {
   "cell_type": "code",
   "execution_count": 83,
   "id": "157be61e",
   "metadata": {},
   "outputs": [
    {
     "data": {
      "text/plain": [
       "A   -0.270420\n",
       "B    0.311694\n",
       "C   -0.269480\n",
       "D   -0.123223\n",
       "F    3.000000\n",
       "dtype: float64"
      ]
     },
     "execution_count": 83,
     "metadata": {},
     "output_type": "execute_result"
    }
   ],
   "source": [
    "df.mean()"
   ]
  },
  {
   "cell_type": "code",
   "execution_count": 84,
   "id": "5bfcc4b8",
   "metadata": {},
   "outputs": [
    {
     "data": {
      "text/plain": [
       "2021-01-01    0.217962\n",
       "2021-01-02    0.044893\n",
       "2021-01-03   -0.025144\n",
       "2021-01-04    0.406877\n",
       "2021-01-05    0.820039\n",
       "2021-01-06    1.157253\n",
       "Freq: D, dtype: float64"
      ]
     },
     "execution_count": 84,
     "metadata": {},
     "output_type": "execute_result"
    }
   ],
   "source": [
    "#다른 축에서 동일 연산 수행\n",
    "df.mean(1)"
   ]
  },
  {
   "cell_type": "code",
   "execution_count": 85,
   "id": "c0876134",
   "metadata": {},
   "outputs": [
    {
     "data": {
      "text/plain": [
       "2021-01-01    NaN\n",
       "2021-01-02    NaN\n",
       "2021-01-03    1.0\n",
       "2021-01-04    3.0\n",
       "2021-01-05    5.0\n",
       "2021-01-06    NaN\n",
       "Freq: D, dtype: float64"
      ]
     },
     "execution_count": 85,
     "metadata": {},
     "output_type": "execute_result"
    }
   ],
   "source": [
    "#정렬이 필요하며, 차원이 다른 객체로 연산\n",
    "#Pandas는 지정된 차원을 따라 자동으로 브로드 캐스팅됨\n",
    "#broadcast란 numpy에서 유래한 용어로, n차원이나 스칼라 값으로 연산을 수행할 때 도출되는 결과의 규칙을 설명하는 것을 의미\n",
    "s = pd.Series([1,3,5,np.nan,6,8], index=dates).shift(2)\n",
    "s"
   ]
  },
  {
   "cell_type": "code",
   "execution_count": 86,
   "id": "0b5b22b5",
   "metadata": {},
   "outputs": [
    {
     "data": {
      "text/html": [
       "<div>\n",
       "<style scoped>\n",
       "    .dataframe tbody tr th:only-of-type {\n",
       "        vertical-align: middle;\n",
       "    }\n",
       "\n",
       "    .dataframe tbody tr th {\n",
       "        vertical-align: top;\n",
       "    }\n",
       "\n",
       "    .dataframe thead th {\n",
       "        text-align: right;\n",
       "    }\n",
       "</style>\n",
       "<table border=\"1\" class=\"dataframe\">\n",
       "  <thead>\n",
       "    <tr style=\"text-align: right;\">\n",
       "      <th></th>\n",
       "      <th>A</th>\n",
       "      <th>B</th>\n",
       "      <th>C</th>\n",
       "      <th>D</th>\n",
       "      <th>F</th>\n",
       "    </tr>\n",
       "  </thead>\n",
       "  <tbody>\n",
       "    <tr>\n",
       "      <th>2021-01-01</th>\n",
       "      <td>NaN</td>\n",
       "      <td>NaN</td>\n",
       "      <td>NaN</td>\n",
       "      <td>NaN</td>\n",
       "      <td>NaN</td>\n",
       "    </tr>\n",
       "    <tr>\n",
       "      <th>2021-01-02</th>\n",
       "      <td>NaN</td>\n",
       "      <td>NaN</td>\n",
       "      <td>NaN</td>\n",
       "      <td>NaN</td>\n",
       "      <td>NaN</td>\n",
       "    </tr>\n",
       "    <tr>\n",
       "      <th>2021-01-03</th>\n",
       "      <td>-1.996117</td>\n",
       "      <td>-0.897564</td>\n",
       "      <td>-1.734586</td>\n",
       "      <td>-1.497452</td>\n",
       "      <td>1.0</td>\n",
       "    </tr>\n",
       "    <tr>\n",
       "      <th>2021-01-04</th>\n",
       "      <td>-3.786360</td>\n",
       "      <td>-2.919939</td>\n",
       "      <td>-3.341633</td>\n",
       "      <td>-2.917684</td>\n",
       "      <td>0.0</td>\n",
       "    </tr>\n",
       "    <tr>\n",
       "      <th>2021-01-05</th>\n",
       "      <td>-4.086103</td>\n",
       "      <td>-3.966399</td>\n",
       "      <td>-6.217398</td>\n",
       "      <td>-5.629907</td>\n",
       "      <td>-1.0</td>\n",
       "    </tr>\n",
       "    <tr>\n",
       "      <th>2021-01-06</th>\n",
       "      <td>NaN</td>\n",
       "      <td>NaN</td>\n",
       "      <td>NaN</td>\n",
       "      <td>NaN</td>\n",
       "      <td>NaN</td>\n",
       "    </tr>\n",
       "  </tbody>\n",
       "</table>\n",
       "</div>"
      ],
      "text/plain": [
       "                   A         B         C         D    F\n",
       "2021-01-01       NaN       NaN       NaN       NaN  NaN\n",
       "2021-01-02       NaN       NaN       NaN       NaN  NaN\n",
       "2021-01-03 -1.996117 -0.897564 -1.734586 -1.497452  1.0\n",
       "2021-01-04 -3.786360 -2.919939 -3.341633 -2.917684  0.0\n",
       "2021-01-05 -4.086103 -3.966399 -6.217398 -5.629907 -1.0\n",
       "2021-01-06       NaN       NaN       NaN       NaN  NaN"
      ]
     },
     "execution_count": 86,
     "metadata": {},
     "output_type": "execute_result"
    }
   ],
   "source": [
    "df.sub(s, axis='index')"
   ]
  },
  {
   "cell_type": "markdown",
   "id": "240dd39a",
   "metadata": {},
   "source": [
    "### Apply (적용)"
   ]
  },
  {
   "cell_type": "code",
   "execution_count": 87,
   "id": "f1488bae",
   "metadata": {},
   "outputs": [
    {
     "data": {
      "text/html": [
       "<div>\n",
       "<style scoped>\n",
       "    .dataframe tbody tr th:only-of-type {\n",
       "        vertical-align: middle;\n",
       "    }\n",
       "\n",
       "    .dataframe tbody tr th {\n",
       "        vertical-align: top;\n",
       "    }\n",
       "\n",
       "    .dataframe thead th {\n",
       "        text-align: right;\n",
       "    }\n",
       "</style>\n",
       "<table border=\"1\" class=\"dataframe\">\n",
       "  <thead>\n",
       "    <tr style=\"text-align: right;\">\n",
       "      <th></th>\n",
       "      <th>A</th>\n",
       "      <th>B</th>\n",
       "      <th>C</th>\n",
       "      <th>D</th>\n",
       "      <th>F</th>\n",
       "    </tr>\n",
       "  </thead>\n",
       "  <tbody>\n",
       "    <tr>\n",
       "      <th>2021-01-01</th>\n",
       "      <td>0.338215</td>\n",
       "      <td>-0.960465</td>\n",
       "      <td>0.086288</td>\n",
       "      <td>1.407809</td>\n",
       "      <td>NaN</td>\n",
       "    </tr>\n",
       "    <tr>\n",
       "      <th>2021-01-02</th>\n",
       "      <td>-0.509110</td>\n",
       "      <td>-0.111973</td>\n",
       "      <td>-0.526472</td>\n",
       "      <td>1.243865</td>\n",
       "      <td>1.0</td>\n",
       "    </tr>\n",
       "    <tr>\n",
       "      <th>2021-01-03</th>\n",
       "      <td>-1.505227</td>\n",
       "      <td>-0.009537</td>\n",
       "      <td>-1.261058</td>\n",
       "      <td>0.746412</td>\n",
       "      <td>3.0</td>\n",
       "    </tr>\n",
       "    <tr>\n",
       "      <th>2021-01-04</th>\n",
       "      <td>-2.291587</td>\n",
       "      <td>0.070524</td>\n",
       "      <td>-1.602691</td>\n",
       "      <td>0.828728</td>\n",
       "      <td>6.0</td>\n",
       "    </tr>\n",
       "    <tr>\n",
       "      <th>2021-01-05</th>\n",
       "      <td>-1.377690</td>\n",
       "      <td>1.104125</td>\n",
       "      <td>-2.820089</td>\n",
       "      <td>0.198821</td>\n",
       "      <td>10.0</td>\n",
       "    </tr>\n",
       "    <tr>\n",
       "      <th>2021-01-06</th>\n",
       "      <td>-1.622522</td>\n",
       "      <td>1.870166</td>\n",
       "      <td>-1.616877</td>\n",
       "      <td>-0.739336</td>\n",
       "      <td>15.0</td>\n",
       "    </tr>\n",
       "  </tbody>\n",
       "</table>\n",
       "</div>"
      ],
      "text/plain": [
       "                   A         B         C         D     F\n",
       "2021-01-01  0.338215 -0.960465  0.086288  1.407809   NaN\n",
       "2021-01-02 -0.509110 -0.111973 -0.526472  1.243865   1.0\n",
       "2021-01-03 -1.505227 -0.009537 -1.261058  0.746412   3.0\n",
       "2021-01-04 -2.291587  0.070524 -1.602691  0.828728   6.0\n",
       "2021-01-05 -1.377690  1.104125 -2.820089  0.198821  10.0\n",
       "2021-01-06 -1.622522  1.870166 -1.616877 -0.739336  15.0"
      ]
     },
     "execution_count": 87,
     "metadata": {},
     "output_type": "execute_result"
    }
   ],
   "source": [
    "#데이터에 함수를 적용\n",
    "df.apply(np.cumsum)"
   ]
  },
  {
   "cell_type": "code",
   "execution_count": 88,
   "id": "0af10a64",
   "metadata": {},
   "outputs": [
    {
     "data": {
      "text/plain": [
       "A    1.910015\n",
       "B    1.994066\n",
       "C    2.420609\n",
       "D    2.345966\n",
       "F    4.000000\n",
       "dtype: float64"
      ]
     },
     "execution_count": 88,
     "metadata": {},
     "output_type": "execute_result"
    }
   ],
   "source": [
    "df.apply(lambda x: x.max() - x.min())"
   ]
  },
  {
   "cell_type": "markdown",
   "id": "7b4b5f03",
   "metadata": {},
   "source": [
    "### Histogramming (히스토그래밍)"
   ]
  },
  {
   "cell_type": "code",
   "execution_count": 90,
   "id": "e3eb468f",
   "metadata": {},
   "outputs": [
    {
     "data": {
      "text/plain": [
       "0    6\n",
       "1    4\n",
       "2    5\n",
       "3    1\n",
       "4    6\n",
       "5    0\n",
       "6    1\n",
       "7    5\n",
       "8    3\n",
       "9    5\n",
       "dtype: int64"
      ]
     },
     "execution_count": 90,
     "metadata": {},
     "output_type": "execute_result"
    }
   ],
   "source": [
    "s = pd.Series(np.random.randint(0, 7, size=10))\n",
    "s"
   ]
  },
  {
   "cell_type": "code",
   "execution_count": 91,
   "id": "d8a5ef71",
   "metadata": {},
   "outputs": [
    {
     "data": {
      "text/plain": [
       "5    3\n",
       "1    2\n",
       "6    2\n",
       "0    1\n",
       "3    1\n",
       "4    1\n",
       "dtype: int64"
      ]
     },
     "execution_count": 91,
     "metadata": {},
     "output_type": "execute_result"
    }
   ],
   "source": [
    "s.value_counts()"
   ]
  },
  {
   "cell_type": "markdown",
   "id": "ceb55d2f",
   "metadata": {},
   "source": [
    "### String Methods (문자열 메소드)\n",
    "    Series는 다음의 코드와 같이 문자열 처리 메소드 모음(set)을 가지고 있음"
   ]
  },
  {
   "cell_type": "code",
   "execution_count": 92,
   "id": "ac4f00c7",
   "metadata": {},
   "outputs": [
    {
     "data": {
      "text/plain": [
       "0       A\n",
       "1       B\n",
       "2       C\n",
       "3    Aaba\n",
       "4    Baca\n",
       "5     NaN\n",
       "6    CABA\n",
       "7     dog\n",
       "8     cat\n",
       "dtype: object"
      ]
     },
     "execution_count": 92,
     "metadata": {},
     "output_type": "execute_result"
    }
   ],
   "source": [
    "s = pd.Series(['A', 'B', 'C', 'Aaba', 'Baca', np.nan, 'CABA', 'dog', 'cat'])\n",
    "s"
   ]
  },
  {
   "cell_type": "code",
   "execution_count": 95,
   "id": "08bfddc8",
   "metadata": {},
   "outputs": [
    {
     "data": {
      "text/plain": [
       "0       a\n",
       "1       b\n",
       "2       c\n",
       "3    aaba\n",
       "4    baca\n",
       "5     NaN\n",
       "6    caba\n",
       "7     dog\n",
       "8     cat\n",
       "dtype: object"
      ]
     },
     "execution_count": 95,
     "metadata": {},
     "output_type": "execute_result"
    }
   ],
   "source": [
    "s.str.lower()"
   ]
  },
  {
   "cell_type": "markdown",
   "id": "f80c6c11",
   "metadata": {},
   "source": [
    "## Merge (병합)"
   ]
  },
  {
   "cell_type": "markdown",
   "id": "f5d17594",
   "metadata": {},
   "source": [
    "### Concat (연결)\n",
    "    \n",
    "     결합 (join) / 병합 (merge) 형태의 연산에 대한 인덱스, 관계 대수 기능을 위한\n",
    "    다양한 형태의 논리를 포함한 Series, 데이터프레임, Panel 객체를 손쉽게 결합할 수 있도록 하는\n",
    "    다양한 기능을 pandas 에서 제공"
   ]
  },
  {
   "cell_type": "code",
   "execution_count": 96,
   "id": "024228b3",
   "metadata": {},
   "outputs": [
    {
     "data": {
      "text/html": [
       "<div>\n",
       "<style scoped>\n",
       "    .dataframe tbody tr th:only-of-type {\n",
       "        vertical-align: middle;\n",
       "    }\n",
       "\n",
       "    .dataframe tbody tr th {\n",
       "        vertical-align: top;\n",
       "    }\n",
       "\n",
       "    .dataframe thead th {\n",
       "        text-align: right;\n",
       "    }\n",
       "</style>\n",
       "<table border=\"1\" class=\"dataframe\">\n",
       "  <thead>\n",
       "    <tr style=\"text-align: right;\">\n",
       "      <th></th>\n",
       "      <th>0</th>\n",
       "      <th>1</th>\n",
       "      <th>2</th>\n",
       "      <th>3</th>\n",
       "    </tr>\n",
       "  </thead>\n",
       "  <tbody>\n",
       "    <tr>\n",
       "      <th>0</th>\n",
       "      <td>1.121539</td>\n",
       "      <td>-0.658599</td>\n",
       "      <td>1.166837</td>\n",
       "      <td>1.020226</td>\n",
       "    </tr>\n",
       "    <tr>\n",
       "      <th>1</th>\n",
       "      <td>-1.506610</td>\n",
       "      <td>-1.006433</td>\n",
       "      <td>0.671717</td>\n",
       "      <td>-0.969520</td>\n",
       "    </tr>\n",
       "    <tr>\n",
       "      <th>2</th>\n",
       "      <td>-0.546942</td>\n",
       "      <td>-0.835437</td>\n",
       "      <td>0.334458</td>\n",
       "      <td>-3.100547</td>\n",
       "    </tr>\n",
       "    <tr>\n",
       "      <th>3</th>\n",
       "      <td>-1.935246</td>\n",
       "      <td>-0.072767</td>\n",
       "      <td>0.805137</td>\n",
       "      <td>1.050443</td>\n",
       "    </tr>\n",
       "    <tr>\n",
       "      <th>4</th>\n",
       "      <td>0.633926</td>\n",
       "      <td>0.386070</td>\n",
       "      <td>-0.743180</td>\n",
       "      <td>-0.334578</td>\n",
       "    </tr>\n",
       "    <tr>\n",
       "      <th>5</th>\n",
       "      <td>-0.509744</td>\n",
       "      <td>1.131970</td>\n",
       "      <td>-0.493208</td>\n",
       "      <td>1.540530</td>\n",
       "    </tr>\n",
       "    <tr>\n",
       "      <th>6</th>\n",
       "      <td>-0.457621</td>\n",
       "      <td>0.315161</td>\n",
       "      <td>0.919572</td>\n",
       "      <td>1.214426</td>\n",
       "    </tr>\n",
       "    <tr>\n",
       "      <th>7</th>\n",
       "      <td>-0.358940</td>\n",
       "      <td>1.142834</td>\n",
       "      <td>0.174919</td>\n",
       "      <td>0.701625</td>\n",
       "    </tr>\n",
       "    <tr>\n",
       "      <th>8</th>\n",
       "      <td>-0.289076</td>\n",
       "      <td>1.995228</td>\n",
       "      <td>0.320777</td>\n",
       "      <td>-1.280815</td>\n",
       "    </tr>\n",
       "    <tr>\n",
       "      <th>9</th>\n",
       "      <td>-0.066584</td>\n",
       "      <td>0.007059</td>\n",
       "      <td>0.485423</td>\n",
       "      <td>-0.517225</td>\n",
       "    </tr>\n",
       "  </tbody>\n",
       "</table>\n",
       "</div>"
      ],
      "text/plain": [
       "          0         1         2         3\n",
       "0  1.121539 -0.658599  1.166837  1.020226\n",
       "1 -1.506610 -1.006433  0.671717 -0.969520\n",
       "2 -0.546942 -0.835437  0.334458 -3.100547\n",
       "3 -1.935246 -0.072767  0.805137  1.050443\n",
       "4  0.633926  0.386070 -0.743180 -0.334578\n",
       "5 -0.509744  1.131970 -0.493208  1.540530\n",
       "6 -0.457621  0.315161  0.919572  1.214426\n",
       "7 -0.358940  1.142834  0.174919  0.701625\n",
       "8 -0.289076  1.995228  0.320777 -1.280815\n",
       "9 -0.066584  0.007059  0.485423 -0.517225"
      ]
     },
     "execution_count": 96,
     "metadata": {},
     "output_type": "execute_result"
    }
   ],
   "source": [
    "#concat()으로 pandas 객체를 연결\n",
    "df = pd.DataFrame(np.random.randn(10, 4))\n",
    "df"
   ]
  },
  {
   "cell_type": "code",
   "execution_count": 97,
   "id": "32a2867b",
   "metadata": {},
   "outputs": [
    {
     "data": {
      "text/plain": [
       "[          0         1         2         3\n",
       " 0  1.121539 -0.658599  1.166837  1.020226\n",
       " 1 -1.506610 -1.006433  0.671717 -0.969520\n",
       " 2 -0.546942 -0.835437  0.334458 -3.100547,\n",
       "           0         1         2         3\n",
       " 3 -1.935246 -0.072767  0.805137  1.050443\n",
       " 4  0.633926  0.386070 -0.743180 -0.334578\n",
       " 5 -0.509744  1.131970 -0.493208  1.540530\n",
       " 6 -0.457621  0.315161  0.919572  1.214426,\n",
       "           0         1         2         3\n",
       " 7 -0.358940  1.142834  0.174919  0.701625\n",
       " 8 -0.289076  1.995228  0.320777 -1.280815\n",
       " 9 -0.066584  0.007059  0.485423 -0.517225]"
      ]
     },
     "execution_count": 97,
     "metadata": {},
     "output_type": "execute_result"
    }
   ],
   "source": [
    "# break it into pieces\n",
    "pieces = [df[:3], df[3:7], df[7:]]\n",
    "pieces"
   ]
  },
  {
   "cell_type": "code",
   "execution_count": 98,
   "id": "ec227ed1",
   "metadata": {},
   "outputs": [
    {
     "data": {
      "text/html": [
       "<div>\n",
       "<style scoped>\n",
       "    .dataframe tbody tr th:only-of-type {\n",
       "        vertical-align: middle;\n",
       "    }\n",
       "\n",
       "    .dataframe tbody tr th {\n",
       "        vertical-align: top;\n",
       "    }\n",
       "\n",
       "    .dataframe thead th {\n",
       "        text-align: right;\n",
       "    }\n",
       "</style>\n",
       "<table border=\"1\" class=\"dataframe\">\n",
       "  <thead>\n",
       "    <tr style=\"text-align: right;\">\n",
       "      <th></th>\n",
       "      <th>0</th>\n",
       "      <th>1</th>\n",
       "      <th>2</th>\n",
       "      <th>3</th>\n",
       "    </tr>\n",
       "  </thead>\n",
       "  <tbody>\n",
       "    <tr>\n",
       "      <th>0</th>\n",
       "      <td>1.121539</td>\n",
       "      <td>-0.658599</td>\n",
       "      <td>1.166837</td>\n",
       "      <td>1.020226</td>\n",
       "    </tr>\n",
       "    <tr>\n",
       "      <th>1</th>\n",
       "      <td>-1.506610</td>\n",
       "      <td>-1.006433</td>\n",
       "      <td>0.671717</td>\n",
       "      <td>-0.969520</td>\n",
       "    </tr>\n",
       "    <tr>\n",
       "      <th>2</th>\n",
       "      <td>-0.546942</td>\n",
       "      <td>-0.835437</td>\n",
       "      <td>0.334458</td>\n",
       "      <td>-3.100547</td>\n",
       "    </tr>\n",
       "    <tr>\n",
       "      <th>3</th>\n",
       "      <td>-1.935246</td>\n",
       "      <td>-0.072767</td>\n",
       "      <td>0.805137</td>\n",
       "      <td>1.050443</td>\n",
       "    </tr>\n",
       "    <tr>\n",
       "      <th>4</th>\n",
       "      <td>0.633926</td>\n",
       "      <td>0.386070</td>\n",
       "      <td>-0.743180</td>\n",
       "      <td>-0.334578</td>\n",
       "    </tr>\n",
       "    <tr>\n",
       "      <th>5</th>\n",
       "      <td>-0.509744</td>\n",
       "      <td>1.131970</td>\n",
       "      <td>-0.493208</td>\n",
       "      <td>1.540530</td>\n",
       "    </tr>\n",
       "    <tr>\n",
       "      <th>6</th>\n",
       "      <td>-0.457621</td>\n",
       "      <td>0.315161</td>\n",
       "      <td>0.919572</td>\n",
       "      <td>1.214426</td>\n",
       "    </tr>\n",
       "    <tr>\n",
       "      <th>7</th>\n",
       "      <td>-0.358940</td>\n",
       "      <td>1.142834</td>\n",
       "      <td>0.174919</td>\n",
       "      <td>0.701625</td>\n",
       "    </tr>\n",
       "    <tr>\n",
       "      <th>8</th>\n",
       "      <td>-0.289076</td>\n",
       "      <td>1.995228</td>\n",
       "      <td>0.320777</td>\n",
       "      <td>-1.280815</td>\n",
       "    </tr>\n",
       "    <tr>\n",
       "      <th>9</th>\n",
       "      <td>-0.066584</td>\n",
       "      <td>0.007059</td>\n",
       "      <td>0.485423</td>\n",
       "      <td>-0.517225</td>\n",
       "    </tr>\n",
       "  </tbody>\n",
       "</table>\n",
       "</div>"
      ],
      "text/plain": [
       "          0         1         2         3\n",
       "0  1.121539 -0.658599  1.166837  1.020226\n",
       "1 -1.506610 -1.006433  0.671717 -0.969520\n",
       "2 -0.546942 -0.835437  0.334458 -3.100547\n",
       "3 -1.935246 -0.072767  0.805137  1.050443\n",
       "4  0.633926  0.386070 -0.743180 -0.334578\n",
       "5 -0.509744  1.131970 -0.493208  1.540530\n",
       "6 -0.457621  0.315161  0.919572  1.214426\n",
       "7 -0.358940  1.142834  0.174919  0.701625\n",
       "8 -0.289076  1.995228  0.320777 -1.280815\n",
       "9 -0.066584  0.007059  0.485423 -0.517225"
      ]
     },
     "execution_count": 98,
     "metadata": {},
     "output_type": "execute_result"
    }
   ],
   "source": [
    "pd.concat(pieces)"
   ]
  },
  {
   "cell_type": "markdown",
   "id": "978ffe8e",
   "metadata": {},
   "source": [
    "### Join (결합)"
   ]
  },
  {
   "cell_type": "code",
   "execution_count": 100,
   "id": "6984f623",
   "metadata": {},
   "outputs": [
    {
     "data": {
      "text/html": [
       "<div>\n",
       "<style scoped>\n",
       "    .dataframe tbody tr th:only-of-type {\n",
       "        vertical-align: middle;\n",
       "    }\n",
       "\n",
       "    .dataframe tbody tr th {\n",
       "        vertical-align: top;\n",
       "    }\n",
       "\n",
       "    .dataframe thead th {\n",
       "        text-align: right;\n",
       "    }\n",
       "</style>\n",
       "<table border=\"1\" class=\"dataframe\">\n",
       "  <thead>\n",
       "    <tr style=\"text-align: right;\">\n",
       "      <th></th>\n",
       "      <th>key</th>\n",
       "      <th>lval</th>\n",
       "    </tr>\n",
       "  </thead>\n",
       "  <tbody>\n",
       "    <tr>\n",
       "      <th>0</th>\n",
       "      <td>foo</td>\n",
       "      <td>1</td>\n",
       "    </tr>\n",
       "    <tr>\n",
       "      <th>1</th>\n",
       "      <td>foo</td>\n",
       "      <td>2</td>\n",
       "    </tr>\n",
       "  </tbody>\n",
       "</table>\n",
       "</div>"
      ],
      "text/plain": [
       "   key  lval\n",
       "0  foo     1\n",
       "1  foo     2"
      ]
     },
     "execution_count": 100,
     "metadata": {},
     "output_type": "execute_result"
    }
   ],
   "source": [
    "#SQL 방식으로 병합\n",
    "left = pd.DataFrame({'key':['foo','foo'], 'lval':[1,2]})\n",
    "left"
   ]
  },
  {
   "cell_type": "code",
   "execution_count": 101,
   "id": "200876d1",
   "metadata": {},
   "outputs": [
    {
     "data": {
      "text/html": [
       "<div>\n",
       "<style scoped>\n",
       "    .dataframe tbody tr th:only-of-type {\n",
       "        vertical-align: middle;\n",
       "    }\n",
       "\n",
       "    .dataframe tbody tr th {\n",
       "        vertical-align: top;\n",
       "    }\n",
       "\n",
       "    .dataframe thead th {\n",
       "        text-align: right;\n",
       "    }\n",
       "</style>\n",
       "<table border=\"1\" class=\"dataframe\">\n",
       "  <thead>\n",
       "    <tr style=\"text-align: right;\">\n",
       "      <th></th>\n",
       "      <th>key</th>\n",
       "      <th>rval</th>\n",
       "    </tr>\n",
       "  </thead>\n",
       "  <tbody>\n",
       "    <tr>\n",
       "      <th>0</th>\n",
       "      <td>foo</td>\n",
       "      <td>4</td>\n",
       "    </tr>\n",
       "    <tr>\n",
       "      <th>1</th>\n",
       "      <td>foo</td>\n",
       "      <td>5</td>\n",
       "    </tr>\n",
       "  </tbody>\n",
       "</table>\n",
       "</div>"
      ],
      "text/plain": [
       "   key  rval\n",
       "0  foo     4\n",
       "1  foo     5"
      ]
     },
     "execution_count": 101,
     "metadata": {},
     "output_type": "execute_result"
    }
   ],
   "source": [
    "right = pd.DataFrame({'key': ['foo', 'foo'], 'rval': [4, 5]})\n",
    "right"
   ]
  },
  {
   "cell_type": "code",
   "execution_count": 102,
   "id": "bce35c47",
   "metadata": {},
   "outputs": [
    {
     "data": {
      "text/html": [
       "<div>\n",
       "<style scoped>\n",
       "    .dataframe tbody tr th:only-of-type {\n",
       "        vertical-align: middle;\n",
       "    }\n",
       "\n",
       "    .dataframe tbody tr th {\n",
       "        vertical-align: top;\n",
       "    }\n",
       "\n",
       "    .dataframe thead th {\n",
       "        text-align: right;\n",
       "    }\n",
       "</style>\n",
       "<table border=\"1\" class=\"dataframe\">\n",
       "  <thead>\n",
       "    <tr style=\"text-align: right;\">\n",
       "      <th></th>\n",
       "      <th>key</th>\n",
       "      <th>lval</th>\n",
       "      <th>rval</th>\n",
       "    </tr>\n",
       "  </thead>\n",
       "  <tbody>\n",
       "    <tr>\n",
       "      <th>0</th>\n",
       "      <td>foo</td>\n",
       "      <td>1</td>\n",
       "      <td>4</td>\n",
       "    </tr>\n",
       "    <tr>\n",
       "      <th>1</th>\n",
       "      <td>foo</td>\n",
       "      <td>1</td>\n",
       "      <td>5</td>\n",
       "    </tr>\n",
       "    <tr>\n",
       "      <th>2</th>\n",
       "      <td>foo</td>\n",
       "      <td>2</td>\n",
       "      <td>4</td>\n",
       "    </tr>\n",
       "    <tr>\n",
       "      <th>3</th>\n",
       "      <td>foo</td>\n",
       "      <td>2</td>\n",
       "      <td>5</td>\n",
       "    </tr>\n",
       "  </tbody>\n",
       "</table>\n",
       "</div>"
      ],
      "text/plain": [
       "   key  lval  rval\n",
       "0  foo     1     4\n",
       "1  foo     1     5\n",
       "2  foo     2     4\n",
       "3  foo     2     5"
      ]
     },
     "execution_count": 102,
     "metadata": {},
     "output_type": "execute_result"
    }
   ],
   "source": [
    "pd.merge(left, right, on= 'key')"
   ]
  },
  {
   "cell_type": "code",
   "execution_count": 103,
   "id": "4e15f9ec",
   "metadata": {},
   "outputs": [
    {
     "data": {
      "text/html": [
       "<div>\n",
       "<style scoped>\n",
       "    .dataframe tbody tr th:only-of-type {\n",
       "        vertical-align: middle;\n",
       "    }\n",
       "\n",
       "    .dataframe tbody tr th {\n",
       "        vertical-align: top;\n",
       "    }\n",
       "\n",
       "    .dataframe thead th {\n",
       "        text-align: right;\n",
       "    }\n",
       "</style>\n",
       "<table border=\"1\" class=\"dataframe\">\n",
       "  <thead>\n",
       "    <tr style=\"text-align: right;\">\n",
       "      <th></th>\n",
       "      <th>key</th>\n",
       "      <th>lval</th>\n",
       "    </tr>\n",
       "  </thead>\n",
       "  <tbody>\n",
       "    <tr>\n",
       "      <th>0</th>\n",
       "      <td>foo</td>\n",
       "      <td>1</td>\n",
       "    </tr>\n",
       "    <tr>\n",
       "      <th>1</th>\n",
       "      <td>bar</td>\n",
       "      <td>2</td>\n",
       "    </tr>\n",
       "  </tbody>\n",
       "</table>\n",
       "</div>"
      ],
      "text/plain": [
       "   key  lval\n",
       "0  foo     1\n",
       "1  bar     2"
      ]
     },
     "execution_count": 103,
     "metadata": {},
     "output_type": "execute_result"
    }
   ],
   "source": [
    "#다른 예시\n",
    "left = pd.DataFrame({'key' : ['foo', 'bar'], 'lval' : [1, 2]})\n",
    "left"
   ]
  },
  {
   "cell_type": "code",
   "execution_count": 104,
   "id": "a4003e93",
   "metadata": {},
   "outputs": [
    {
     "data": {
      "text/html": [
       "<div>\n",
       "<style scoped>\n",
       "    .dataframe tbody tr th:only-of-type {\n",
       "        vertical-align: middle;\n",
       "    }\n",
       "\n",
       "    .dataframe tbody tr th {\n",
       "        vertical-align: top;\n",
       "    }\n",
       "\n",
       "    .dataframe thead th {\n",
       "        text-align: right;\n",
       "    }\n",
       "</style>\n",
       "<table border=\"1\" class=\"dataframe\">\n",
       "  <thead>\n",
       "    <tr style=\"text-align: right;\">\n",
       "      <th></th>\n",
       "      <th>key</th>\n",
       "      <th>rval</th>\n",
       "    </tr>\n",
       "  </thead>\n",
       "  <tbody>\n",
       "    <tr>\n",
       "      <th>0</th>\n",
       "      <td>foo</td>\n",
       "      <td>4</td>\n",
       "    </tr>\n",
       "    <tr>\n",
       "      <th>1</th>\n",
       "      <td>bar</td>\n",
       "      <td>5</td>\n",
       "    </tr>\n",
       "  </tbody>\n",
       "</table>\n",
       "</div>"
      ],
      "text/plain": [
       "   key  rval\n",
       "0  foo     4\n",
       "1  bar     5"
      ]
     },
     "execution_count": 104,
     "metadata": {},
     "output_type": "execute_result"
    }
   ],
   "source": [
    "right = pd.DataFrame({'key': ['foo', 'bar'], 'rval': [4, 5]})\n",
    "right"
   ]
  },
  {
   "cell_type": "code",
   "execution_count": 105,
   "id": "4071dc00",
   "metadata": {},
   "outputs": [
    {
     "data": {
      "text/html": [
       "<div>\n",
       "<style scoped>\n",
       "    .dataframe tbody tr th:only-of-type {\n",
       "        vertical-align: middle;\n",
       "    }\n",
       "\n",
       "    .dataframe tbody tr th {\n",
       "        vertical-align: top;\n",
       "    }\n",
       "\n",
       "    .dataframe thead th {\n",
       "        text-align: right;\n",
       "    }\n",
       "</style>\n",
       "<table border=\"1\" class=\"dataframe\">\n",
       "  <thead>\n",
       "    <tr style=\"text-align: right;\">\n",
       "      <th></th>\n",
       "      <th>key</th>\n",
       "      <th>lval</th>\n",
       "      <th>rval</th>\n",
       "    </tr>\n",
       "  </thead>\n",
       "  <tbody>\n",
       "    <tr>\n",
       "      <th>0</th>\n",
       "      <td>foo</td>\n",
       "      <td>1</td>\n",
       "      <td>4</td>\n",
       "    </tr>\n",
       "    <tr>\n",
       "      <th>1</th>\n",
       "      <td>bar</td>\n",
       "      <td>2</td>\n",
       "      <td>5</td>\n",
       "    </tr>\n",
       "  </tbody>\n",
       "</table>\n",
       "</div>"
      ],
      "text/plain": [
       "   key  lval  rval\n",
       "0  foo     1     4\n",
       "1  bar     2     5"
      ]
     },
     "execution_count": 105,
     "metadata": {},
     "output_type": "execute_result"
    }
   ],
   "source": [
    "pd.merge(left, right, on= 'key')"
   ]
  },
  {
   "cell_type": "markdown",
   "id": "51c88e25",
   "metadata": {},
   "source": [
    "### Append (추가)"
   ]
  },
  {
   "cell_type": "code",
   "execution_count": 108,
   "id": "32d547d7",
   "metadata": {},
   "outputs": [
    {
     "data": {
      "text/html": [
       "<div>\n",
       "<style scoped>\n",
       "    .dataframe tbody tr th:only-of-type {\n",
       "        vertical-align: middle;\n",
       "    }\n",
       "\n",
       "    .dataframe tbody tr th {\n",
       "        vertical-align: top;\n",
       "    }\n",
       "\n",
       "    .dataframe thead th {\n",
       "        text-align: right;\n",
       "    }\n",
       "</style>\n",
       "<table border=\"1\" class=\"dataframe\">\n",
       "  <thead>\n",
       "    <tr style=\"text-align: right;\">\n",
       "      <th></th>\n",
       "      <th>A</th>\n",
       "      <th>B</th>\n",
       "      <th>C</th>\n",
       "      <th>D</th>\n",
       "    </tr>\n",
       "  </thead>\n",
       "  <tbody>\n",
       "    <tr>\n",
       "      <th>0</th>\n",
       "      <td>-1.677868</td>\n",
       "      <td>-0.475935</td>\n",
       "      <td>0.889905</td>\n",
       "      <td>0.430044</td>\n",
       "    </tr>\n",
       "    <tr>\n",
       "      <th>1</th>\n",
       "      <td>-0.797542</td>\n",
       "      <td>0.726911</td>\n",
       "      <td>1.115025</td>\n",
       "      <td>-0.322706</td>\n",
       "    </tr>\n",
       "    <tr>\n",
       "      <th>2</th>\n",
       "      <td>2.087304</td>\n",
       "      <td>-1.054364</td>\n",
       "      <td>-0.253289</td>\n",
       "      <td>0.651661</td>\n",
       "    </tr>\n",
       "    <tr>\n",
       "      <th>3</th>\n",
       "      <td>0.576151</td>\n",
       "      <td>-0.073810</td>\n",
       "      <td>-0.828787</td>\n",
       "      <td>0.546901</td>\n",
       "    </tr>\n",
       "    <tr>\n",
       "      <th>4</th>\n",
       "      <td>0.490727</td>\n",
       "      <td>-1.772717</td>\n",
       "      <td>0.421829</td>\n",
       "      <td>-0.485837</td>\n",
       "    </tr>\n",
       "    <tr>\n",
       "      <th>5</th>\n",
       "      <td>-1.953822</td>\n",
       "      <td>-0.156219</td>\n",
       "      <td>-0.961288</td>\n",
       "      <td>2.057948</td>\n",
       "    </tr>\n",
       "    <tr>\n",
       "      <th>6</th>\n",
       "      <td>0.349412</td>\n",
       "      <td>-0.306593</td>\n",
       "      <td>-0.023676</td>\n",
       "      <td>-0.242726</td>\n",
       "    </tr>\n",
       "    <tr>\n",
       "      <th>7</th>\n",
       "      <td>0.136488</td>\n",
       "      <td>0.156072</td>\n",
       "      <td>-0.449701</td>\n",
       "      <td>-1.463223</td>\n",
       "    </tr>\n",
       "  </tbody>\n",
       "</table>\n",
       "</div>"
      ],
      "text/plain": [
       "          A         B         C         D\n",
       "0 -1.677868 -0.475935  0.889905  0.430044\n",
       "1 -0.797542  0.726911  1.115025 -0.322706\n",
       "2  2.087304 -1.054364 -0.253289  0.651661\n",
       "3  0.576151 -0.073810 -0.828787  0.546901\n",
       "4  0.490727 -1.772717  0.421829 -0.485837\n",
       "5 -1.953822 -0.156219 -0.961288  2.057948\n",
       "6  0.349412 -0.306593 -0.023676 -0.242726\n",
       "7  0.136488  0.156072 -0.449701 -1.463223"
      ]
     },
     "execution_count": 108,
     "metadata": {},
     "output_type": "execute_result"
    }
   ],
   "source": [
    "#데이터프레임에 행을 추가\n",
    "df = pd.DataFrame(np.random.randn(8, 4), columns=['A', 'B', 'C', 'D'])\n",
    "df"
   ]
  },
  {
   "cell_type": "code",
   "execution_count": 109,
   "id": "7c16b309",
   "metadata": {},
   "outputs": [
    {
     "data": {
      "text/plain": [
       "A    0.576151\n",
       "B   -0.073810\n",
       "C   -0.828787\n",
       "D    0.546901\n",
       "Name: 3, dtype: float64"
      ]
     },
     "execution_count": 109,
     "metadata": {},
     "output_type": "execute_result"
    }
   ],
   "source": [
    "s = df.iloc[3]\n",
    "s"
   ]
  },
  {
   "cell_type": "code",
   "execution_count": 110,
   "id": "c93c2e58",
   "metadata": {},
   "outputs": [
    {
     "data": {
      "text/html": [
       "<div>\n",
       "<style scoped>\n",
       "    .dataframe tbody tr th:only-of-type {\n",
       "        vertical-align: middle;\n",
       "    }\n",
       "\n",
       "    .dataframe tbody tr th {\n",
       "        vertical-align: top;\n",
       "    }\n",
       "\n",
       "    .dataframe thead th {\n",
       "        text-align: right;\n",
       "    }\n",
       "</style>\n",
       "<table border=\"1\" class=\"dataframe\">\n",
       "  <thead>\n",
       "    <tr style=\"text-align: right;\">\n",
       "      <th></th>\n",
       "      <th>A</th>\n",
       "      <th>B</th>\n",
       "      <th>C</th>\n",
       "      <th>D</th>\n",
       "    </tr>\n",
       "  </thead>\n",
       "  <tbody>\n",
       "    <tr>\n",
       "      <th>0</th>\n",
       "      <td>-1.677868</td>\n",
       "      <td>-0.475935</td>\n",
       "      <td>0.889905</td>\n",
       "      <td>0.430044</td>\n",
       "    </tr>\n",
       "    <tr>\n",
       "      <th>1</th>\n",
       "      <td>-0.797542</td>\n",
       "      <td>0.726911</td>\n",
       "      <td>1.115025</td>\n",
       "      <td>-0.322706</td>\n",
       "    </tr>\n",
       "    <tr>\n",
       "      <th>2</th>\n",
       "      <td>2.087304</td>\n",
       "      <td>-1.054364</td>\n",
       "      <td>-0.253289</td>\n",
       "      <td>0.651661</td>\n",
       "    </tr>\n",
       "    <tr>\n",
       "      <th>3</th>\n",
       "      <td>0.576151</td>\n",
       "      <td>-0.073810</td>\n",
       "      <td>-0.828787</td>\n",
       "      <td>0.546901</td>\n",
       "    </tr>\n",
       "    <tr>\n",
       "      <th>4</th>\n",
       "      <td>0.490727</td>\n",
       "      <td>-1.772717</td>\n",
       "      <td>0.421829</td>\n",
       "      <td>-0.485837</td>\n",
       "    </tr>\n",
       "    <tr>\n",
       "      <th>5</th>\n",
       "      <td>-1.953822</td>\n",
       "      <td>-0.156219</td>\n",
       "      <td>-0.961288</td>\n",
       "      <td>2.057948</td>\n",
       "    </tr>\n",
       "    <tr>\n",
       "      <th>6</th>\n",
       "      <td>0.349412</td>\n",
       "      <td>-0.306593</td>\n",
       "      <td>-0.023676</td>\n",
       "      <td>-0.242726</td>\n",
       "    </tr>\n",
       "    <tr>\n",
       "      <th>7</th>\n",
       "      <td>0.136488</td>\n",
       "      <td>0.156072</td>\n",
       "      <td>-0.449701</td>\n",
       "      <td>-1.463223</td>\n",
       "    </tr>\n",
       "    <tr>\n",
       "      <th>8</th>\n",
       "      <td>0.576151</td>\n",
       "      <td>-0.073810</td>\n",
       "      <td>-0.828787</td>\n",
       "      <td>0.546901</td>\n",
       "    </tr>\n",
       "  </tbody>\n",
       "</table>\n",
       "</div>"
      ],
      "text/plain": [
       "          A         B         C         D\n",
       "0 -1.677868 -0.475935  0.889905  0.430044\n",
       "1 -0.797542  0.726911  1.115025 -0.322706\n",
       "2  2.087304 -1.054364 -0.253289  0.651661\n",
       "3  0.576151 -0.073810 -0.828787  0.546901\n",
       "4  0.490727 -1.772717  0.421829 -0.485837\n",
       "5 -1.953822 -0.156219 -0.961288  2.057948\n",
       "6  0.349412 -0.306593 -0.023676 -0.242726\n",
       "7  0.136488  0.156072 -0.449701 -1.463223\n",
       "8  0.576151 -0.073810 -0.828787  0.546901"
      ]
     },
     "execution_count": 110,
     "metadata": {},
     "output_type": "execute_result"
    }
   ],
   "source": [
    "df.append(s, ignore_index=True)"
   ]
  },
  {
   "cell_type": "markdown",
   "id": "6931b146",
   "metadata": {},
   "source": [
    "## Grouping (그룹화)\n",
    "\n",
    "    \n",
    "    그룹화는 다음 단계 중 하나 이상을 포함하는 과정\n",
    "        - 몇몇 기준에 따라 여러 그룹으로 데이터를 분할 (splitting)\n",
    "        - 각 그룹에 독립적으로 함수를 적용 (applying)\n",
    "        - 결과물들을 하나의 데이터 구조로 결합 (combining)"
   ]
  },
  {
   "cell_type": "code",
   "execution_count": 114,
   "id": "b31add58",
   "metadata": {},
   "outputs": [
    {
     "data": {
      "text/html": [
       "<div>\n",
       "<style scoped>\n",
       "    .dataframe tbody tr th:only-of-type {\n",
       "        vertical-align: middle;\n",
       "    }\n",
       "\n",
       "    .dataframe tbody tr th {\n",
       "        vertical-align: top;\n",
       "    }\n",
       "\n",
       "    .dataframe thead th {\n",
       "        text-align: right;\n",
       "    }\n",
       "</style>\n",
       "<table border=\"1\" class=\"dataframe\">\n",
       "  <thead>\n",
       "    <tr style=\"text-align: right;\">\n",
       "      <th></th>\n",
       "      <th>A</th>\n",
       "      <th>B</th>\n",
       "      <th>C</th>\n",
       "      <th>D</th>\n",
       "    </tr>\n",
       "  </thead>\n",
       "  <tbody>\n",
       "    <tr>\n",
       "      <th>0</th>\n",
       "      <td>foo</td>\n",
       "      <td>one</td>\n",
       "      <td>-1.498371</td>\n",
       "      <td>0.544753</td>\n",
       "    </tr>\n",
       "    <tr>\n",
       "      <th>1</th>\n",
       "      <td>bar</td>\n",
       "      <td>one</td>\n",
       "      <td>-1.588186</td>\n",
       "      <td>-0.031933</td>\n",
       "    </tr>\n",
       "    <tr>\n",
       "      <th>2</th>\n",
       "      <td>foo</td>\n",
       "      <td>two</td>\n",
       "      <td>-0.206787</td>\n",
       "      <td>-1.853430</td>\n",
       "    </tr>\n",
       "    <tr>\n",
       "      <th>3</th>\n",
       "      <td>bar</td>\n",
       "      <td>three</td>\n",
       "      <td>-0.605228</td>\n",
       "      <td>-0.223574</td>\n",
       "    </tr>\n",
       "    <tr>\n",
       "      <th>4</th>\n",
       "      <td>foo</td>\n",
       "      <td>two</td>\n",
       "      <td>-0.599584</td>\n",
       "      <td>-0.840814</td>\n",
       "    </tr>\n",
       "    <tr>\n",
       "      <th>5</th>\n",
       "      <td>bar</td>\n",
       "      <td>two</td>\n",
       "      <td>-1.496601</td>\n",
       "      <td>0.649975</td>\n",
       "    </tr>\n",
       "    <tr>\n",
       "      <th>6</th>\n",
       "      <td>foo</td>\n",
       "      <td>one</td>\n",
       "      <td>2.415083</td>\n",
       "      <td>0.042229</td>\n",
       "    </tr>\n",
       "    <tr>\n",
       "      <th>7</th>\n",
       "      <td>foo</td>\n",
       "      <td>three</td>\n",
       "      <td>2.036425</td>\n",
       "      <td>0.996174</td>\n",
       "    </tr>\n",
       "  </tbody>\n",
       "</table>\n",
       "</div>"
      ],
      "text/plain": [
       "     A      B         C         D\n",
       "0  foo    one -1.498371  0.544753\n",
       "1  bar    one -1.588186 -0.031933\n",
       "2  foo    two -0.206787 -1.853430\n",
       "3  bar  three -0.605228 -0.223574\n",
       "4  foo    two -0.599584 -0.840814\n",
       "5  bar    two -1.496601  0.649975\n",
       "6  foo    one  2.415083  0.042229\n",
       "7  foo  three  2.036425  0.996174"
      ]
     },
     "execution_count": 114,
     "metadata": {},
     "output_type": "execute_result"
    }
   ],
   "source": [
    "df = pd.DataFrame(\n",
    "    {\n",
    "        'A' : ['foo', 'bar', 'foo', 'bar', 'foo', 'bar', 'foo', 'foo'],\n",
    "        'B' : ['one', 'one', 'two', 'three', 'two', 'two', 'one', 'three'],\n",
    "        'C' : np.random.randn(8),\n",
    "        'D' : np.random.randn(8)\n",
    "    })\n",
    "df"
   ]
  },
  {
   "cell_type": "code",
   "execution_count": 115,
   "id": "a13e89ff",
   "metadata": {},
   "outputs": [
    {
     "data": {
      "text/html": [
       "<div>\n",
       "<style scoped>\n",
       "    .dataframe tbody tr th:only-of-type {\n",
       "        vertical-align: middle;\n",
       "    }\n",
       "\n",
       "    .dataframe tbody tr th {\n",
       "        vertical-align: top;\n",
       "    }\n",
       "\n",
       "    .dataframe thead th {\n",
       "        text-align: right;\n",
       "    }\n",
       "</style>\n",
       "<table border=\"1\" class=\"dataframe\">\n",
       "  <thead>\n",
       "    <tr style=\"text-align: right;\">\n",
       "      <th></th>\n",
       "      <th>C</th>\n",
       "      <th>D</th>\n",
       "    </tr>\n",
       "    <tr>\n",
       "      <th>A</th>\n",
       "      <th></th>\n",
       "      <th></th>\n",
       "    </tr>\n",
       "  </thead>\n",
       "  <tbody>\n",
       "    <tr>\n",
       "      <th>bar</th>\n",
       "      <td>-3.690015</td>\n",
       "      <td>0.394468</td>\n",
       "    </tr>\n",
       "    <tr>\n",
       "      <th>foo</th>\n",
       "      <td>2.146766</td>\n",
       "      <td>-1.111088</td>\n",
       "    </tr>\n",
       "  </tbody>\n",
       "</table>\n",
       "</div>"
      ],
      "text/plain": [
       "            C         D\n",
       "A                      \n",
       "bar -3.690015  0.394468\n",
       "foo  2.146766 -1.111088"
      ]
     },
     "execution_count": 115,
     "metadata": {},
     "output_type": "execute_result"
    }
   ],
   "source": [
    "# 생성된 데이터프레임을 그룹화한 후 각 그룹에 sum() 함수를 적용\n",
    "df.groupby('A').sum()"
   ]
  },
  {
   "cell_type": "code",
   "execution_count": 116,
   "id": "627aa475",
   "metadata": {},
   "outputs": [
    {
     "data": {
      "text/html": [
       "<div>\n",
       "<style scoped>\n",
       "    .dataframe tbody tr th:only-of-type {\n",
       "        vertical-align: middle;\n",
       "    }\n",
       "\n",
       "    .dataframe tbody tr th {\n",
       "        vertical-align: top;\n",
       "    }\n",
       "\n",
       "    .dataframe thead th {\n",
       "        text-align: right;\n",
       "    }\n",
       "</style>\n",
       "<table border=\"1\" class=\"dataframe\">\n",
       "  <thead>\n",
       "    <tr style=\"text-align: right;\">\n",
       "      <th></th>\n",
       "      <th></th>\n",
       "      <th>C</th>\n",
       "      <th>D</th>\n",
       "    </tr>\n",
       "    <tr>\n",
       "      <th>A</th>\n",
       "      <th>B</th>\n",
       "      <th></th>\n",
       "      <th></th>\n",
       "    </tr>\n",
       "  </thead>\n",
       "  <tbody>\n",
       "    <tr>\n",
       "      <th rowspan=\"3\" valign=\"top\">bar</th>\n",
       "      <th>one</th>\n",
       "      <td>-1.588186</td>\n",
       "      <td>-0.031933</td>\n",
       "    </tr>\n",
       "    <tr>\n",
       "      <th>three</th>\n",
       "      <td>-0.605228</td>\n",
       "      <td>-0.223574</td>\n",
       "    </tr>\n",
       "    <tr>\n",
       "      <th>two</th>\n",
       "      <td>-1.496601</td>\n",
       "      <td>0.649975</td>\n",
       "    </tr>\n",
       "    <tr>\n",
       "      <th rowspan=\"3\" valign=\"top\">foo</th>\n",
       "      <th>one</th>\n",
       "      <td>0.916712</td>\n",
       "      <td>0.586982</td>\n",
       "    </tr>\n",
       "    <tr>\n",
       "      <th>three</th>\n",
       "      <td>2.036425</td>\n",
       "      <td>0.996174</td>\n",
       "    </tr>\n",
       "    <tr>\n",
       "      <th>two</th>\n",
       "      <td>-0.806371</td>\n",
       "      <td>-2.694244</td>\n",
       "    </tr>\n",
       "  </tbody>\n",
       "</table>\n",
       "</div>"
      ],
      "text/plain": [
       "                  C         D\n",
       "A   B                        \n",
       "bar one   -1.588186 -0.031933\n",
       "    three -0.605228 -0.223574\n",
       "    two   -1.496601  0.649975\n",
       "foo one    0.916712  0.586982\n",
       "    three  2.036425  0.996174\n",
       "    two   -0.806371 -2.694244"
      ]
     },
     "execution_count": 116,
     "metadata": {},
     "output_type": "execute_result"
    }
   ],
   "source": [
    "#여러 열을 기준으로 그룹화하면 계층적 인덱스가 형성됨\n",
    "#sum 함수를 적용\n",
    "df.groupby(['A','B']).sum()"
   ]
  },
  {
   "cell_type": "markdown",
   "id": "59aed642",
   "metadata": {},
   "source": [
    "## Reshaping (변형)"
   ]
  },
  {
   "cell_type": "markdown",
   "id": "ed3f1297",
   "metadata": {},
   "source": [
    "### Stack (스택)"
   ]
  },
  {
   "cell_type": "code",
   "execution_count": 118,
   "id": "6a5d8dcf",
   "metadata": {},
   "outputs": [
    {
     "data": {
      "text/plain": [
       "[('bar', 'one'),\n",
       " ('bar', 'two'),\n",
       " ('baz', 'one'),\n",
       " ('baz', 'two'),\n",
       " ('foo', 'one'),\n",
       " ('foo', 'two'),\n",
       " ('qux', 'one'),\n",
       " ('qux', 'two')]"
      ]
     },
     "execution_count": 118,
     "metadata": {},
     "output_type": "execute_result"
    }
   ],
   "source": [
    "tuples = list(zip(*[['bar', 'bar', 'baz', 'baz',\n",
    "                     'foo', 'foo', 'qux', 'qux'],\n",
    "                    ['one', 'two', 'one', 'two',\n",
    "                     'one', 'two', 'one', 'two']]))\n",
    "tuples"
   ]
  },
  {
   "cell_type": "code",
   "execution_count": 119,
   "id": "74b0b1e3",
   "metadata": {},
   "outputs": [
    {
     "data": {
      "text/plain": [
       "MultiIndex([('bar', 'one'),\n",
       "            ('bar', 'two'),\n",
       "            ('baz', 'one'),\n",
       "            ('baz', 'two'),\n",
       "            ('foo', 'one'),\n",
       "            ('foo', 'two'),\n",
       "            ('qux', 'one'),\n",
       "            ('qux', 'two')],\n",
       "           names=['first', 'second'])"
      ]
     },
     "execution_count": 119,
     "metadata": {},
     "output_type": "execute_result"
    }
   ],
   "source": [
    "index = pd.MultiIndex.from_tuples(tuples, names=['first', 'second'])\n",
    "index"
   ]
  },
  {
   "cell_type": "code",
   "execution_count": 121,
   "id": "be35311b",
   "metadata": {},
   "outputs": [
    {
     "data": {
      "text/html": [
       "<div>\n",
       "<style scoped>\n",
       "    .dataframe tbody tr th:only-of-type {\n",
       "        vertical-align: middle;\n",
       "    }\n",
       "\n",
       "    .dataframe tbody tr th {\n",
       "        vertical-align: top;\n",
       "    }\n",
       "\n",
       "    .dataframe thead th {\n",
       "        text-align: right;\n",
       "    }\n",
       "</style>\n",
       "<table border=\"1\" class=\"dataframe\">\n",
       "  <thead>\n",
       "    <tr style=\"text-align: right;\">\n",
       "      <th></th>\n",
       "      <th></th>\n",
       "      <th>A</th>\n",
       "      <th>B</th>\n",
       "    </tr>\n",
       "    <tr>\n",
       "      <th>first</th>\n",
       "      <th>second</th>\n",
       "      <th></th>\n",
       "      <th></th>\n",
       "    </tr>\n",
       "  </thead>\n",
       "  <tbody>\n",
       "    <tr>\n",
       "      <th rowspan=\"2\" valign=\"top\">bar</th>\n",
       "      <th>one</th>\n",
       "      <td>-1.409979</td>\n",
       "      <td>-1.328144</td>\n",
       "    </tr>\n",
       "    <tr>\n",
       "      <th>two</th>\n",
       "      <td>0.099662</td>\n",
       "      <td>0.715760</td>\n",
       "    </tr>\n",
       "    <tr>\n",
       "      <th rowspan=\"2\" valign=\"top\">baz</th>\n",
       "      <th>one</th>\n",
       "      <td>-1.258069</td>\n",
       "      <td>0.267409</td>\n",
       "    </tr>\n",
       "    <tr>\n",
       "      <th>two</th>\n",
       "      <td>0.824080</td>\n",
       "      <td>0.207870</td>\n",
       "    </tr>\n",
       "    <tr>\n",
       "      <th rowspan=\"2\" valign=\"top\">foo</th>\n",
       "      <th>one</th>\n",
       "      <td>0.549249</td>\n",
       "      <td>1.244541</td>\n",
       "    </tr>\n",
       "    <tr>\n",
       "      <th>two</th>\n",
       "      <td>-1.046090</td>\n",
       "      <td>0.756132</td>\n",
       "    </tr>\n",
       "    <tr>\n",
       "      <th rowspan=\"2\" valign=\"top\">qux</th>\n",
       "      <th>one</th>\n",
       "      <td>1.853030</td>\n",
       "      <td>-2.063935</td>\n",
       "    </tr>\n",
       "    <tr>\n",
       "      <th>two</th>\n",
       "      <td>-0.226960</td>\n",
       "      <td>0.256119</td>\n",
       "    </tr>\n",
       "  </tbody>\n",
       "</table>\n",
       "</div>"
      ],
      "text/plain": [
       "                     A         B\n",
       "first second                    \n",
       "bar   one    -1.409979 -1.328144\n",
       "      two     0.099662  0.715760\n",
       "baz   one    -1.258069  0.267409\n",
       "      two     0.824080  0.207870\n",
       "foo   one     0.549249  1.244541\n",
       "      two    -1.046090  0.756132\n",
       "qux   one     1.853030 -2.063935\n",
       "      two    -0.226960  0.256119"
      ]
     },
     "execution_count": 121,
     "metadata": {},
     "output_type": "execute_result"
    }
   ],
   "source": [
    "df = pd.DataFrame(np.random.randn(8, 2), index=index, columns=['A', 'B'])\n",
    "df"
   ]
  },
  {
   "cell_type": "code",
   "execution_count": 122,
   "id": "5686c431",
   "metadata": {},
   "outputs": [
    {
     "data": {
      "text/html": [
       "<div>\n",
       "<style scoped>\n",
       "    .dataframe tbody tr th:only-of-type {\n",
       "        vertical-align: middle;\n",
       "    }\n",
       "\n",
       "    .dataframe tbody tr th {\n",
       "        vertical-align: top;\n",
       "    }\n",
       "\n",
       "    .dataframe thead th {\n",
       "        text-align: right;\n",
       "    }\n",
       "</style>\n",
       "<table border=\"1\" class=\"dataframe\">\n",
       "  <thead>\n",
       "    <tr style=\"text-align: right;\">\n",
       "      <th></th>\n",
       "      <th></th>\n",
       "      <th>A</th>\n",
       "      <th>B</th>\n",
       "    </tr>\n",
       "    <tr>\n",
       "      <th>first</th>\n",
       "      <th>second</th>\n",
       "      <th></th>\n",
       "      <th></th>\n",
       "    </tr>\n",
       "  </thead>\n",
       "  <tbody>\n",
       "    <tr>\n",
       "      <th rowspan=\"2\" valign=\"top\">bar</th>\n",
       "      <th>one</th>\n",
       "      <td>-1.409979</td>\n",
       "      <td>-1.328144</td>\n",
       "    </tr>\n",
       "    <tr>\n",
       "      <th>two</th>\n",
       "      <td>0.099662</td>\n",
       "      <td>0.715760</td>\n",
       "    </tr>\n",
       "    <tr>\n",
       "      <th rowspan=\"2\" valign=\"top\">baz</th>\n",
       "      <th>one</th>\n",
       "      <td>-1.258069</td>\n",
       "      <td>0.267409</td>\n",
       "    </tr>\n",
       "    <tr>\n",
       "      <th>two</th>\n",
       "      <td>0.824080</td>\n",
       "      <td>0.207870</td>\n",
       "    </tr>\n",
       "  </tbody>\n",
       "</table>\n",
       "</div>"
      ],
      "text/plain": [
       "                     A         B\n",
       "first second                    \n",
       "bar   one    -1.409979 -1.328144\n",
       "      two     0.099662  0.715760\n",
       "baz   one    -1.258069  0.267409\n",
       "      two     0.824080  0.207870"
      ]
     },
     "execution_count": 122,
     "metadata": {},
     "output_type": "execute_result"
    }
   ],
   "source": [
    "df2  =  df[:4]\n",
    "df2"
   ]
  },
  {
   "cell_type": "code",
   "execution_count": 123,
   "id": "4f27663f",
   "metadata": {},
   "outputs": [
    {
     "data": {
      "text/plain": [
       "first  second   \n",
       "bar    one     A   -1.409979\n",
       "               B   -1.328144\n",
       "       two     A    0.099662\n",
       "               B    0.715760\n",
       "baz    one     A   -1.258069\n",
       "               B    0.267409\n",
       "       two     A    0.824080\n",
       "               B    0.207870\n",
       "dtype: float64"
      ]
     },
     "execution_count": 123,
     "metadata": {},
     "output_type": "execute_result"
    }
   ],
   "source": [
    "#stack() 메소드는 데이터프레임 열들의 계층을 “압축”\n",
    "stacked = df2.stack()\n",
    "stacked"
   ]
  },
  {
   "cell_type": "code",
   "execution_count": 124,
   "id": "b05b438e",
   "metadata": {},
   "outputs": [
    {
     "data": {
      "text/html": [
       "<div>\n",
       "<style scoped>\n",
       "    .dataframe tbody tr th:only-of-type {\n",
       "        vertical-align: middle;\n",
       "    }\n",
       "\n",
       "    .dataframe tbody tr th {\n",
       "        vertical-align: top;\n",
       "    }\n",
       "\n",
       "    .dataframe thead th {\n",
       "        text-align: right;\n",
       "    }\n",
       "</style>\n",
       "<table border=\"1\" class=\"dataframe\">\n",
       "  <thead>\n",
       "    <tr style=\"text-align: right;\">\n",
       "      <th></th>\n",
       "      <th></th>\n",
       "      <th>A</th>\n",
       "      <th>B</th>\n",
       "    </tr>\n",
       "    <tr>\n",
       "      <th>first</th>\n",
       "      <th>second</th>\n",
       "      <th></th>\n",
       "      <th></th>\n",
       "    </tr>\n",
       "  </thead>\n",
       "  <tbody>\n",
       "    <tr>\n",
       "      <th rowspan=\"2\" valign=\"top\">bar</th>\n",
       "      <th>one</th>\n",
       "      <td>-1.409979</td>\n",
       "      <td>-1.328144</td>\n",
       "    </tr>\n",
       "    <tr>\n",
       "      <th>two</th>\n",
       "      <td>0.099662</td>\n",
       "      <td>0.715760</td>\n",
       "    </tr>\n",
       "    <tr>\n",
       "      <th rowspan=\"2\" valign=\"top\">baz</th>\n",
       "      <th>one</th>\n",
       "      <td>-1.258069</td>\n",
       "      <td>0.267409</td>\n",
       "    </tr>\n",
       "    <tr>\n",
       "      <th>two</th>\n",
       "      <td>0.824080</td>\n",
       "      <td>0.207870</td>\n",
       "    </tr>\n",
       "  </tbody>\n",
       "</table>\n",
       "</div>"
      ],
      "text/plain": [
       "                     A         B\n",
       "first second                    \n",
       "bar   one    -1.409979 -1.328144\n",
       "      two     0.099662  0.715760\n",
       "baz   one    -1.258069  0.267409\n",
       "      two     0.824080  0.207870"
      ]
     },
     "execution_count": 124,
     "metadata": {},
     "output_type": "execute_result"
    }
   ],
   "source": [
    "#“Stack된” 데이터프레임 또는 (MultiIndex를 인덱스로 사용하는) Series인 경우,\n",
    "#stack()의 역 연산은 unstack()이며, 기본적으로 마지막 계층을 unstack\n",
    "stacked.unstack()"
   ]
  },
  {
   "cell_type": "code",
   "execution_count": 125,
   "id": "8a58a0f5",
   "metadata": {},
   "outputs": [
    {
     "data": {
      "text/html": [
       "<div>\n",
       "<style scoped>\n",
       "    .dataframe tbody tr th:only-of-type {\n",
       "        vertical-align: middle;\n",
       "    }\n",
       "\n",
       "    .dataframe tbody tr th {\n",
       "        vertical-align: top;\n",
       "    }\n",
       "\n",
       "    .dataframe thead th {\n",
       "        text-align: right;\n",
       "    }\n",
       "</style>\n",
       "<table border=\"1\" class=\"dataframe\">\n",
       "  <thead>\n",
       "    <tr style=\"text-align: right;\">\n",
       "      <th></th>\n",
       "      <th>second</th>\n",
       "      <th>one</th>\n",
       "      <th>two</th>\n",
       "    </tr>\n",
       "    <tr>\n",
       "      <th>first</th>\n",
       "      <th></th>\n",
       "      <th></th>\n",
       "      <th></th>\n",
       "    </tr>\n",
       "  </thead>\n",
       "  <tbody>\n",
       "    <tr>\n",
       "      <th rowspan=\"2\" valign=\"top\">bar</th>\n",
       "      <th>A</th>\n",
       "      <td>-1.409979</td>\n",
       "      <td>0.099662</td>\n",
       "    </tr>\n",
       "    <tr>\n",
       "      <th>B</th>\n",
       "      <td>-1.328144</td>\n",
       "      <td>0.715760</td>\n",
       "    </tr>\n",
       "    <tr>\n",
       "      <th rowspan=\"2\" valign=\"top\">baz</th>\n",
       "      <th>A</th>\n",
       "      <td>-1.258069</td>\n",
       "      <td>0.824080</td>\n",
       "    </tr>\n",
       "    <tr>\n",
       "      <th>B</th>\n",
       "      <td>0.267409</td>\n",
       "      <td>0.207870</td>\n",
       "    </tr>\n",
       "  </tbody>\n",
       "</table>\n",
       "</div>"
      ],
      "text/plain": [
       "second        one       two\n",
       "first                      \n",
       "bar   A -1.409979  0.099662\n",
       "      B -1.328144  0.715760\n",
       "baz   A -1.258069  0.824080\n",
       "      B  0.267409  0.207870"
      ]
     },
     "execution_count": 125,
     "metadata": {},
     "output_type": "execute_result"
    }
   ],
   "source": [
    "stacked.unstack(1)"
   ]
  },
  {
   "cell_type": "code",
   "execution_count": 126,
   "id": "14e0a1f0",
   "metadata": {},
   "outputs": [
    {
     "data": {
      "text/html": [
       "<div>\n",
       "<style scoped>\n",
       "    .dataframe tbody tr th:only-of-type {\n",
       "        vertical-align: middle;\n",
       "    }\n",
       "\n",
       "    .dataframe tbody tr th {\n",
       "        vertical-align: top;\n",
       "    }\n",
       "\n",
       "    .dataframe thead th {\n",
       "        text-align: right;\n",
       "    }\n",
       "</style>\n",
       "<table border=\"1\" class=\"dataframe\">\n",
       "  <thead>\n",
       "    <tr style=\"text-align: right;\">\n",
       "      <th></th>\n",
       "      <th>first</th>\n",
       "      <th>bar</th>\n",
       "      <th>baz</th>\n",
       "    </tr>\n",
       "    <tr>\n",
       "      <th>second</th>\n",
       "      <th></th>\n",
       "      <th></th>\n",
       "      <th></th>\n",
       "    </tr>\n",
       "  </thead>\n",
       "  <tbody>\n",
       "    <tr>\n",
       "      <th rowspan=\"2\" valign=\"top\">one</th>\n",
       "      <th>A</th>\n",
       "      <td>-1.409979</td>\n",
       "      <td>-1.258069</td>\n",
       "    </tr>\n",
       "    <tr>\n",
       "      <th>B</th>\n",
       "      <td>-1.328144</td>\n",
       "      <td>0.267409</td>\n",
       "    </tr>\n",
       "    <tr>\n",
       "      <th rowspan=\"2\" valign=\"top\">two</th>\n",
       "      <th>A</th>\n",
       "      <td>0.099662</td>\n",
       "      <td>0.824080</td>\n",
       "    </tr>\n",
       "    <tr>\n",
       "      <th>B</th>\n",
       "      <td>0.715760</td>\n",
       "      <td>0.207870</td>\n",
       "    </tr>\n",
       "  </tbody>\n",
       "</table>\n",
       "</div>"
      ],
      "text/plain": [
       "first          bar       baz\n",
       "second                      \n",
       "one    A -1.409979 -1.258069\n",
       "       B -1.328144  0.267409\n",
       "two    A  0.099662  0.824080\n",
       "       B  0.715760  0.207870"
      ]
     },
     "execution_count": 126,
     "metadata": {},
     "output_type": "execute_result"
    }
   ],
   "source": [
    "stacked.unstack(0)"
   ]
  },
  {
   "cell_type": "markdown",
   "id": "73dd8107",
   "metadata": {},
   "source": [
    "### Pivot Tables (피봇 테이블)"
   ]
  },
  {
   "cell_type": "code",
   "execution_count": 127,
   "id": "454c1cef",
   "metadata": {},
   "outputs": [
    {
     "data": {
      "text/html": [
       "<div>\n",
       "<style scoped>\n",
       "    .dataframe tbody tr th:only-of-type {\n",
       "        vertical-align: middle;\n",
       "    }\n",
       "\n",
       "    .dataframe tbody tr th {\n",
       "        vertical-align: top;\n",
       "    }\n",
       "\n",
       "    .dataframe thead th {\n",
       "        text-align: right;\n",
       "    }\n",
       "</style>\n",
       "<table border=\"1\" class=\"dataframe\">\n",
       "  <thead>\n",
       "    <tr style=\"text-align: right;\">\n",
       "      <th></th>\n",
       "      <th>A</th>\n",
       "      <th>B</th>\n",
       "      <th>C</th>\n",
       "      <th>D</th>\n",
       "      <th>E</th>\n",
       "    </tr>\n",
       "  </thead>\n",
       "  <tbody>\n",
       "    <tr>\n",
       "      <th>0</th>\n",
       "      <td>one</td>\n",
       "      <td>A</td>\n",
       "      <td>foo</td>\n",
       "      <td>-0.533108</td>\n",
       "      <td>-1.787865</td>\n",
       "    </tr>\n",
       "    <tr>\n",
       "      <th>1</th>\n",
       "      <td>one</td>\n",
       "      <td>B</td>\n",
       "      <td>foo</td>\n",
       "      <td>1.800631</td>\n",
       "      <td>-0.592555</td>\n",
       "    </tr>\n",
       "    <tr>\n",
       "      <th>2</th>\n",
       "      <td>two</td>\n",
       "      <td>C</td>\n",
       "      <td>foo</td>\n",
       "      <td>-1.782636</td>\n",
       "      <td>-0.739664</td>\n",
       "    </tr>\n",
       "    <tr>\n",
       "      <th>3</th>\n",
       "      <td>three</td>\n",
       "      <td>A</td>\n",
       "      <td>bar</td>\n",
       "      <td>-0.069648</td>\n",
       "      <td>-0.799089</td>\n",
       "    </tr>\n",
       "    <tr>\n",
       "      <th>4</th>\n",
       "      <td>one</td>\n",
       "      <td>B</td>\n",
       "      <td>bar</td>\n",
       "      <td>0.996776</td>\n",
       "      <td>0.789902</td>\n",
       "    </tr>\n",
       "    <tr>\n",
       "      <th>5</th>\n",
       "      <td>one</td>\n",
       "      <td>C</td>\n",
       "      <td>bar</td>\n",
       "      <td>-0.032947</td>\n",
       "      <td>0.634867</td>\n",
       "    </tr>\n",
       "    <tr>\n",
       "      <th>6</th>\n",
       "      <td>two</td>\n",
       "      <td>A</td>\n",
       "      <td>foo</td>\n",
       "      <td>-0.180401</td>\n",
       "      <td>2.113285</td>\n",
       "    </tr>\n",
       "    <tr>\n",
       "      <th>7</th>\n",
       "      <td>three</td>\n",
       "      <td>B</td>\n",
       "      <td>foo</td>\n",
       "      <td>-1.359328</td>\n",
       "      <td>0.262637</td>\n",
       "    </tr>\n",
       "    <tr>\n",
       "      <th>8</th>\n",
       "      <td>one</td>\n",
       "      <td>C</td>\n",
       "      <td>foo</td>\n",
       "      <td>1.092701</td>\n",
       "      <td>0.115288</td>\n",
       "    </tr>\n",
       "    <tr>\n",
       "      <th>9</th>\n",
       "      <td>one</td>\n",
       "      <td>A</td>\n",
       "      <td>bar</td>\n",
       "      <td>0.580217</td>\n",
       "      <td>0.742226</td>\n",
       "    </tr>\n",
       "    <tr>\n",
       "      <th>10</th>\n",
       "      <td>two</td>\n",
       "      <td>B</td>\n",
       "      <td>bar</td>\n",
       "      <td>0.051203</td>\n",
       "      <td>0.579244</td>\n",
       "    </tr>\n",
       "    <tr>\n",
       "      <th>11</th>\n",
       "      <td>three</td>\n",
       "      <td>C</td>\n",
       "      <td>bar</td>\n",
       "      <td>0.357592</td>\n",
       "      <td>0.722035</td>\n",
       "    </tr>\n",
       "  </tbody>\n",
       "</table>\n",
       "</div>"
      ],
      "text/plain": [
       "        A  B    C         D         E\n",
       "0     one  A  foo -0.533108 -1.787865\n",
       "1     one  B  foo  1.800631 -0.592555\n",
       "2     two  C  foo -1.782636 -0.739664\n",
       "3   three  A  bar -0.069648 -0.799089\n",
       "4     one  B  bar  0.996776  0.789902\n",
       "5     one  C  bar -0.032947  0.634867\n",
       "6     two  A  foo -0.180401  2.113285\n",
       "7   three  B  foo -1.359328  0.262637\n",
       "8     one  C  foo  1.092701  0.115288\n",
       "9     one  A  bar  0.580217  0.742226\n",
       "10    two  B  bar  0.051203  0.579244\n",
       "11  three  C  bar  0.357592  0.722035"
      ]
     },
     "execution_count": 127,
     "metadata": {},
     "output_type": "execute_result"
    }
   ],
   "source": [
    "df = pd.DataFrame({'A' : ['one', 'one', 'two', 'three'] * 3,\n",
    "                   'B' : ['A', 'B', 'C'] * 4,\n",
    "                   'C' : ['foo', 'foo', 'foo', 'bar', 'bar', 'bar'] * 2,\n",
    "                   'D' : np.random.randn(12),\n",
    "                   'E' : np.random.randn(12)})\n",
    "df"
   ]
  },
  {
   "cell_type": "code",
   "execution_count": 128,
   "id": "6c6a0435",
   "metadata": {},
   "outputs": [
    {
     "data": {
      "text/html": [
       "<div>\n",
       "<style scoped>\n",
       "    .dataframe tbody tr th:only-of-type {\n",
       "        vertical-align: middle;\n",
       "    }\n",
       "\n",
       "    .dataframe tbody tr th {\n",
       "        vertical-align: top;\n",
       "    }\n",
       "\n",
       "    .dataframe thead th {\n",
       "        text-align: right;\n",
       "    }\n",
       "</style>\n",
       "<table border=\"1\" class=\"dataframe\">\n",
       "  <thead>\n",
       "    <tr style=\"text-align: right;\">\n",
       "      <th></th>\n",
       "      <th>C</th>\n",
       "      <th>bar</th>\n",
       "      <th>foo</th>\n",
       "    </tr>\n",
       "    <tr>\n",
       "      <th>A</th>\n",
       "      <th>B</th>\n",
       "      <th></th>\n",
       "      <th></th>\n",
       "    </tr>\n",
       "  </thead>\n",
       "  <tbody>\n",
       "    <tr>\n",
       "      <th rowspan=\"3\" valign=\"top\">one</th>\n",
       "      <th>A</th>\n",
       "      <td>0.580217</td>\n",
       "      <td>-0.533108</td>\n",
       "    </tr>\n",
       "    <tr>\n",
       "      <th>B</th>\n",
       "      <td>0.996776</td>\n",
       "      <td>1.800631</td>\n",
       "    </tr>\n",
       "    <tr>\n",
       "      <th>C</th>\n",
       "      <td>-0.032947</td>\n",
       "      <td>1.092701</td>\n",
       "    </tr>\n",
       "    <tr>\n",
       "      <th rowspan=\"3\" valign=\"top\">three</th>\n",
       "      <th>A</th>\n",
       "      <td>-0.069648</td>\n",
       "      <td>NaN</td>\n",
       "    </tr>\n",
       "    <tr>\n",
       "      <th>B</th>\n",
       "      <td>NaN</td>\n",
       "      <td>-1.359328</td>\n",
       "    </tr>\n",
       "    <tr>\n",
       "      <th>C</th>\n",
       "      <td>0.357592</td>\n",
       "      <td>NaN</td>\n",
       "    </tr>\n",
       "    <tr>\n",
       "      <th rowspan=\"3\" valign=\"top\">two</th>\n",
       "      <th>A</th>\n",
       "      <td>NaN</td>\n",
       "      <td>-0.180401</td>\n",
       "    </tr>\n",
       "    <tr>\n",
       "      <th>B</th>\n",
       "      <td>0.051203</td>\n",
       "      <td>NaN</td>\n",
       "    </tr>\n",
       "    <tr>\n",
       "      <th>C</th>\n",
       "      <td>NaN</td>\n",
       "      <td>-1.782636</td>\n",
       "    </tr>\n",
       "  </tbody>\n",
       "</table>\n",
       "</div>"
      ],
      "text/plain": [
       "C             bar       foo\n",
       "A     B                    \n",
       "one   A  0.580217 -0.533108\n",
       "      B  0.996776  1.800631\n",
       "      C -0.032947  1.092701\n",
       "three A -0.069648       NaN\n",
       "      B       NaN -1.359328\n",
       "      C  0.357592       NaN\n",
       "two   A       NaN -0.180401\n",
       "      B  0.051203       NaN\n",
       "      C       NaN -1.782636"
      ]
     },
     "execution_count": 128,
     "metadata": {},
     "output_type": "execute_result"
    }
   ],
   "source": [
    "pd.pivot_table(df, values='D', index=['A', 'B'], columns=['C'])"
   ]
  },
  {
   "cell_type": "markdown",
   "id": "8b5cc4ab",
   "metadata": {},
   "source": [
    "## Time Series (시계열)\n",
    "\n",
    "    - Pandas는 자주 일어나는 변환 (예시 : 5분마다 일어나는 데이터에 대한 2차 데이터 변환) 사이에 수행하는 리샘플링 연산을 위한 효율적인 함수를 제공"
   ]
  },
  {
   "cell_type": "code",
   "execution_count": 131,
   "id": "820c7ee2",
   "metadata": {},
   "outputs": [
    {
     "data": {
      "text/plain": [
       "2021-01-01 00:00:00     63\n",
       "2021-01-01 00:00:01    207\n",
       "2021-01-01 00:00:02    401\n",
       "2021-01-01 00:00:03    445\n",
       "2021-01-01 00:00:04    365\n",
       "                      ... \n",
       "2021-01-01 00:01:35    331\n",
       "2021-01-01 00:01:36    459\n",
       "2021-01-01 00:01:37     31\n",
       "2021-01-01 00:01:38    302\n",
       "2021-01-01 00:01:39    473\n",
       "Freq: S, Length: 100, dtype: int64"
      ]
     },
     "execution_count": 131,
     "metadata": {},
     "output_type": "execute_result"
    }
   ],
   "source": [
    "rng = pd.date_range('1/1/2021', periods=100, freq='S')\n",
    "ts = pd.Series(np.random.randint(0, 500, len(rng)), index=rng)\n",
    "ts"
   ]
  },
  {
   "cell_type": "code",
   "execution_count": 132,
   "id": "7c6bf04d",
   "metadata": {},
   "outputs": [
    {
     "data": {
      "text/plain": [
       "2021-01-01    24256\n",
       "Freq: 5T, dtype: int64"
      ]
     },
     "execution_count": 132,
     "metadata": {},
     "output_type": "execute_result"
    }
   ],
   "source": [
    "ts.resample('5Min').sum()"
   ]
  },
  {
   "cell_type": "code",
   "execution_count": 134,
   "id": "e9095c90",
   "metadata": {},
   "outputs": [
    {
     "data": {
      "text/plain": [
       "DatetimeIndex(['2021-03-06', '2021-03-07', '2021-03-08', '2021-03-09',\n",
       "               '2021-03-10'],\n",
       "              dtype='datetime64[ns]', freq='D')"
      ]
     },
     "execution_count": 134,
     "metadata": {},
     "output_type": "execute_result"
    }
   ],
   "source": [
    "#시간대 표현\n",
    "rng = pd.date_range('3/6/2021 00:00', periods=5, freq='D')\n",
    "rng"
   ]
  },
  {
   "cell_type": "code",
   "execution_count": 135,
   "id": "01406f3e",
   "metadata": {},
   "outputs": [
    {
     "data": {
      "text/plain": [
       "2021-03-06    2.328449\n",
       "2021-03-07    0.682382\n",
       "2021-03-08   -0.096715\n",
       "2021-03-09    1.801355\n",
       "2021-03-10   -1.592200\n",
       "Freq: D, dtype: float64"
      ]
     },
     "execution_count": 135,
     "metadata": {},
     "output_type": "execute_result"
    }
   ],
   "source": [
    "ts = pd.Series(np.random.randn(len(rng)), rng)\n",
    "ts"
   ]
  },
  {
   "cell_type": "code",
   "execution_count": 136,
   "id": "b325e6a9",
   "metadata": {},
   "outputs": [
    {
     "data": {
      "text/plain": [
       "2021-03-06 00:00:00+00:00    2.328449\n",
       "2021-03-07 00:00:00+00:00    0.682382\n",
       "2021-03-08 00:00:00+00:00   -0.096715\n",
       "2021-03-09 00:00:00+00:00    1.801355\n",
       "2021-03-10 00:00:00+00:00   -1.592200\n",
       "Freq: D, dtype: float64"
      ]
     },
     "execution_count": 136,
     "metadata": {},
     "output_type": "execute_result"
    }
   ],
   "source": [
    "ts_utc = ts.tz_localize('UTC')\n",
    "ts_utc"
   ]
  },
  {
   "cell_type": "code",
   "execution_count": 137,
   "id": "db599328",
   "metadata": {},
   "outputs": [
    {
     "data": {
      "text/plain": [
       "2021-03-05 19:00:00-05:00    2.328449\n",
       "2021-03-06 19:00:00-05:00    0.682382\n",
       "2021-03-07 19:00:00-05:00   -0.096715\n",
       "2021-03-08 19:00:00-05:00    1.801355\n",
       "2021-03-09 19:00:00-05:00   -1.592200\n",
       "Freq: D, dtype: float64"
      ]
     },
     "execution_count": 137,
     "metadata": {},
     "output_type": "execute_result"
    }
   ],
   "source": [
    "#다른 시간대로 변환\n",
    "ts_utc.tz_convert('US/Eastern')"
   ]
  },
  {
   "cell_type": "code",
   "execution_count": 138,
   "id": "b42d9baa",
   "metadata": {},
   "outputs": [
    {
     "data": {
      "text/plain": [
       "DatetimeIndex(['2021-01-31', '2021-02-28', '2021-03-31', '2021-04-30',\n",
       "               '2021-05-31'],\n",
       "              dtype='datetime64[ns]', freq='M')"
      ]
     },
     "execution_count": 138,
     "metadata": {},
     "output_type": "execute_result"
    }
   ],
   "source": [
    "#시간 표현 ↔ 기간 표현으로 변환\n",
    "rng = pd.date_range('1/1/2021', periods=5, freq='M')\n",
    "rng"
   ]
  },
  {
   "cell_type": "code",
   "execution_count": 139,
   "id": "beeaeaeb",
   "metadata": {},
   "outputs": [
    {
     "data": {
      "text/plain": [
       "2021-01-31   -0.613719\n",
       "2021-02-28   -0.710738\n",
       "2021-03-31   -0.518584\n",
       "2021-04-30   -0.539889\n",
       "2021-05-31    0.545234\n",
       "Freq: M, dtype: float64"
      ]
     },
     "execution_count": 139,
     "metadata": {},
     "output_type": "execute_result"
    }
   ],
   "source": [
    "ts = pd.Series(np.random.randn(len(rng)), index=rng)\n",
    "ts"
   ]
  },
  {
   "cell_type": "code",
   "execution_count": 141,
   "id": "167b8eb8",
   "metadata": {},
   "outputs": [
    {
     "data": {
      "text/plain": [
       "2021-01   -0.613719\n",
       "2021-02   -0.710738\n",
       "2021-03   -0.518584\n",
       "2021-04   -0.539889\n",
       "2021-05    0.545234\n",
       "Freq: M, dtype: float64"
      ]
     },
     "execution_count": 141,
     "metadata": {},
     "output_type": "execute_result"
    }
   ],
   "source": [
    "ps = ts.to_period()\n",
    "ps"
   ]
  },
  {
   "cell_type": "code",
   "execution_count": 142,
   "id": "141b7241",
   "metadata": {},
   "outputs": [
    {
     "data": {
      "text/plain": [
       "2021-01-01   -0.613719\n",
       "2021-02-01   -0.710738\n",
       "2021-03-01   -0.518584\n",
       "2021-04-01   -0.539889\n",
       "2021-05-01    0.545234\n",
       "Freq: MS, dtype: float64"
      ]
     },
     "execution_count": 142,
     "metadata": {},
     "output_type": "execute_result"
    }
   ],
   "source": [
    "ps.to_timestamp()"
   ]
  },
  {
   "cell_type": "code",
   "execution_count": 158,
   "id": "5f0bc67b",
   "metadata": {},
   "outputs": [
    {
     "data": {
      "text/plain": [
       "PeriodIndex(['2010Q1', '2010Q2', '2010Q3', '2010Q4', '2011Q1', '2011Q2',\n",
       "             '2011Q3', '2011Q4', '2012Q1', '2012Q2', '2012Q3', '2012Q4',\n",
       "             '2013Q1', '2013Q2', '2013Q3', '2013Q4', '2014Q1', '2014Q2',\n",
       "             '2014Q3', '2014Q4', '2015Q1', '2015Q2', '2015Q3', '2015Q4',\n",
       "             '2016Q1', '2016Q2', '2016Q3', '2016Q4', '2017Q1', '2017Q2',\n",
       "             '2017Q3', '2017Q4', '2018Q1', '2018Q2', '2018Q3', '2018Q4',\n",
       "             '2019Q1', '2019Q2', '2019Q3', '2019Q4', '2020Q1', '2020Q2',\n",
       "             '2020Q3', '2020Q4'],\n",
       "            dtype='period[Q-NOV]', freq='Q-NOV')"
      ]
     },
     "execution_count": 158,
     "metadata": {},
     "output_type": "execute_result"
    }
   ],
   "source": [
    "#기간 ↔ 시간 변환은 편리한 산술 기능들을 사용할 수 있도록 만들어줌\n",
    "##예제) 11월에 끝나는 연말 결산의 분기별 빈도를 분기말 익월의 월말일 오전 9시로 변환\n",
    "prng = pd.period_range('2010Q1', '2020Q4', freq='Q-NOV')\n",
    "prng"
   ]
  },
  {
   "cell_type": "code",
   "execution_count": 159,
   "id": "e31877b6",
   "metadata": {},
   "outputs": [
    {
     "data": {
      "text/plain": [
       "2010Q1    0.252732\n",
       "2010Q2   -0.414832\n",
       "2010Q3    1.948637\n",
       "2010Q4    2.896663\n",
       "2011Q1    0.560001\n",
       "Freq: Q-NOV, dtype: float64"
      ]
     },
     "execution_count": 159,
     "metadata": {},
     "output_type": "execute_result"
    }
   ],
   "source": [
    "ts = pd.Series(np.random.randn(len(prng)), prng)\n",
    "ts.head()"
   ]
  },
  {
   "cell_type": "code",
   "execution_count": 160,
   "id": "45490011",
   "metadata": {},
   "outputs": [
    {
     "data": {
      "text/plain": [
       "2010-03-01 09:00    0.252732\n",
       "2010-06-01 09:00   -0.414832\n",
       "2010-09-01 09:00    1.948637\n",
       "2010-12-01 09:00    2.896663\n",
       "2011-03-01 09:00    0.560001\n",
       "Freq: H, dtype: float64"
      ]
     },
     "execution_count": 160,
     "metadata": {},
     "output_type": "execute_result"
    }
   ],
   "source": [
    "ts.index = (prng.asfreq('M', 'e') + 1).asfreq('H', 's') + 9\n",
    "ts.head()"
   ]
  },
  {
   "cell_type": "markdown",
   "id": "35af527e",
   "metadata": {},
   "source": [
    "## Categoricals (범주화)\n",
    "\n",
    "    Pandas는 데이터프레임 내에 범주형 데이터를 포함할 수 있음"
   ]
  },
  {
   "cell_type": "code",
   "execution_count": 170,
   "id": "e364d525",
   "metadata": {},
   "outputs": [
    {
     "data": {
      "text/html": [
       "<div>\n",
       "<style scoped>\n",
       "    .dataframe tbody tr th:only-of-type {\n",
       "        vertical-align: middle;\n",
       "    }\n",
       "\n",
       "    .dataframe tbody tr th {\n",
       "        vertical-align: top;\n",
       "    }\n",
       "\n",
       "    .dataframe thead th {\n",
       "        text-align: right;\n",
       "    }\n",
       "</style>\n",
       "<table border=\"1\" class=\"dataframe\">\n",
       "  <thead>\n",
       "    <tr style=\"text-align: right;\">\n",
       "      <th></th>\n",
       "      <th>id</th>\n",
       "      <th>raw_grade</th>\n",
       "    </tr>\n",
       "  </thead>\n",
       "  <tbody>\n",
       "    <tr>\n",
       "      <th>0</th>\n",
       "      <td>1</td>\n",
       "      <td>a</td>\n",
       "    </tr>\n",
       "    <tr>\n",
       "      <th>1</th>\n",
       "      <td>2</td>\n",
       "      <td>b</td>\n",
       "    </tr>\n",
       "    <tr>\n",
       "      <th>2</th>\n",
       "      <td>3</td>\n",
       "      <td>b</td>\n",
       "    </tr>\n",
       "    <tr>\n",
       "      <th>3</th>\n",
       "      <td>4</td>\n",
       "      <td>a</td>\n",
       "    </tr>\n",
       "    <tr>\n",
       "      <th>4</th>\n",
       "      <td>5</td>\n",
       "      <td>a</td>\n",
       "    </tr>\n",
       "    <tr>\n",
       "      <th>5</th>\n",
       "      <td>6</td>\n",
       "      <td>e</td>\n",
       "    </tr>\n",
       "  </tbody>\n",
       "</table>\n",
       "</div>"
      ],
      "text/plain": [
       "   id raw_grade\n",
       "0   1         a\n",
       "1   2         b\n",
       "2   3         b\n",
       "3   4         a\n",
       "4   5         a\n",
       "5   6         e"
      ]
     },
     "execution_count": 170,
     "metadata": {},
     "output_type": "execute_result"
    }
   ],
   "source": [
    "df= pd.DataFrame({\"id\":[1,2,3,4,5,6], \"raw_grade\":['a','b','b','a','a','e']})\n",
    "df"
   ]
  },
  {
   "cell_type": "code",
   "execution_count": 171,
   "id": "4dc2683a",
   "metadata": {},
   "outputs": [
    {
     "data": {
      "text/plain": [
       "0    a\n",
       "1    b\n",
       "2    b\n",
       "3    a\n",
       "4    a\n",
       "5    e\n",
       "Name: grade, dtype: category\n",
       "Categories (3, object): ['a', 'b', 'e']"
      ]
     },
     "execution_count": 171,
     "metadata": {},
     "output_type": "execute_result"
    }
   ],
   "source": [
    "#가공하지 않은 성적을 범주형 데이터로 변환\n",
    "df[\"grade\"] = df[\"raw_grade\"].astype(\"category\")\n",
    "df[\"grade\"]"
   ]
  },
  {
   "cell_type": "code",
   "execution_count": 172,
   "id": "1737c45b",
   "metadata": {},
   "outputs": [
    {
     "data": {
      "text/plain": [
       "0    very good\n",
       "1         good\n",
       "2         good\n",
       "3    very good\n",
       "4    very good\n",
       "5     very bad\n",
       "Name: grade, dtype: category\n",
       "Categories (3, object): ['very good', 'good', 'very bad']"
      ]
     },
     "execution_count": 172,
     "metadata": {},
     "output_type": "execute_result"
    }
   ],
   "source": [
    "#범주에 더 의미 있는 이름을 붙이기\n",
    "#(Series.cat.categories로 할당하는 것이 적합)\n",
    "df[\"grade\"].cat.categories = [\"very good\", \"good\", \"very bad\"]\n",
    "df[\"grade\"]"
   ]
  },
  {
   "cell_type": "code",
   "execution_count": 173,
   "id": "34283356",
   "metadata": {},
   "outputs": [
    {
     "data": {
      "text/plain": [
       "0    very good\n",
       "1         good\n",
       "2         good\n",
       "3    very good\n",
       "4    very good\n",
       "5     very bad\n",
       "Name: grade, dtype: category\n",
       "Categories (5, object): ['very bad', 'bad', 'medium', 'good', 'very good']"
      ]
     },
     "execution_count": 173,
     "metadata": {},
     "output_type": "execute_result"
    }
   ],
   "source": [
    "#범주의 순서를 바꾸고 동시에 누락된 범주를 추가\n",
    "#(Series.cat에 속하는 메소드는 기본적으로 새로운 Series를 반환)\n",
    "df[\"grade\"] = df[\"grade\"].cat.set_categories([\"very bad\", \"bad\", \"medium\", \"good\", \"very good\"])\n",
    "df[\"grade\"]"
   ]
  },
  {
   "cell_type": "code",
   "execution_count": 174,
   "id": "0e820656",
   "metadata": {},
   "outputs": [
    {
     "data": {
      "text/html": [
       "<div>\n",
       "<style scoped>\n",
       "    .dataframe tbody tr th:only-of-type {\n",
       "        vertical-align: middle;\n",
       "    }\n",
       "\n",
       "    .dataframe tbody tr th {\n",
       "        vertical-align: top;\n",
       "    }\n",
       "\n",
       "    .dataframe thead th {\n",
       "        text-align: right;\n",
       "    }\n",
       "</style>\n",
       "<table border=\"1\" class=\"dataframe\">\n",
       "  <thead>\n",
       "    <tr style=\"text-align: right;\">\n",
       "      <th></th>\n",
       "      <th>id</th>\n",
       "      <th>raw_grade</th>\n",
       "      <th>grade</th>\n",
       "    </tr>\n",
       "  </thead>\n",
       "  <tbody>\n",
       "    <tr>\n",
       "      <th>5</th>\n",
       "      <td>6</td>\n",
       "      <td>e</td>\n",
       "      <td>very bad</td>\n",
       "    </tr>\n",
       "    <tr>\n",
       "      <th>1</th>\n",
       "      <td>2</td>\n",
       "      <td>b</td>\n",
       "      <td>good</td>\n",
       "    </tr>\n",
       "    <tr>\n",
       "      <th>2</th>\n",
       "      <td>3</td>\n",
       "      <td>b</td>\n",
       "      <td>good</td>\n",
       "    </tr>\n",
       "    <tr>\n",
       "      <th>0</th>\n",
       "      <td>1</td>\n",
       "      <td>a</td>\n",
       "      <td>very good</td>\n",
       "    </tr>\n",
       "    <tr>\n",
       "      <th>3</th>\n",
       "      <td>4</td>\n",
       "      <td>a</td>\n",
       "      <td>very good</td>\n",
       "    </tr>\n",
       "    <tr>\n",
       "      <th>4</th>\n",
       "      <td>5</td>\n",
       "      <td>a</td>\n",
       "      <td>very good</td>\n",
       "    </tr>\n",
       "  </tbody>\n",
       "</table>\n",
       "</div>"
      ],
      "text/plain": [
       "   id raw_grade      grade\n",
       "5   6         e   very bad\n",
       "1   2         b       good\n",
       "2   3         b       good\n",
       "0   1         a  very good\n",
       "3   4         a  very good\n",
       "4   5         a  very good"
      ]
     },
     "execution_count": 174,
     "metadata": {},
     "output_type": "execute_result"
    }
   ],
   "source": [
    "# 정렬은 사전 순서가 아닌, 해당 범주에서 지정된 순서대로 배열\n",
    "##very bad, bad, medium, good, very good 의 순서로 기재되어 있기 때문에 정렬 결과도 해당 순서대로 배열\n",
    "df.sort_values(by=\"grade\")"
   ]
  },
  {
   "cell_type": "code",
   "execution_count": 175,
   "id": "ab68ff54",
   "metadata": {},
   "outputs": [
    {
     "data": {
      "text/plain": [
       "grade\n",
       "very bad     1\n",
       "bad          0\n",
       "medium       0\n",
       "good         2\n",
       "very good    3\n",
       "dtype: int64"
      ]
     },
     "execution_count": 175,
     "metadata": {},
     "output_type": "execute_result"
    }
   ],
   "source": [
    "#범주의 열을 기준으로 그룹화하면 빈 범주도 표시됨\n",
    "df.groupby(\"grade\").size()"
   ]
  },
  {
   "cell_type": "markdown",
   "id": "4cd6d48f",
   "metadata": {},
   "source": [
    "## Plotting (그래프)"
   ]
  },
  {
   "cell_type": "code",
   "execution_count": 176,
   "id": "c1ffd252",
   "metadata": {},
   "outputs": [
    {
     "data": {
      "text/plain": [
       "2000-01-01   -0.663224\n",
       "2000-01-02   -0.428839\n",
       "2000-01-03   -0.320910\n",
       "2000-01-04    0.514012\n",
       "2000-01-05    0.261236\n",
       "                ...   \n",
       "2002-09-22   -0.070575\n",
       "2002-09-23    1.501732\n",
       "2002-09-24    0.006704\n",
       "2002-09-25   -0.830996\n",
       "2002-09-26    1.046428\n",
       "Freq: D, Length: 1000, dtype: float64"
      ]
     },
     "execution_count": 176,
     "metadata": {},
     "output_type": "execute_result"
    }
   ],
   "source": [
    "ts = pd.Series(np.random.randn(1000), index=pd.date_range('1/1/2000', periods=1000))\n",
    "ts"
   ]
  },
  {
   "cell_type": "code",
   "execution_count": 178,
   "id": "a900c499",
   "metadata": {},
   "outputs": [
    {
     "data": {
      "text/plain": [
       "2000-01-01      -0.663224\n",
       "2000-01-02      -1.755287\n",
       "2000-01-03      -3.168260\n",
       "2000-01-04      -4.067220\n",
       "2000-01-05      -4.704945\n",
       "                 ...     \n",
       "2002-09-22    5126.932796\n",
       "2002-09-23    5110.239934\n",
       "2002-09-24    5093.553777\n",
       "2002-09-25    5076.036624\n",
       "2002-09-26    5059.565899\n",
       "Freq: D, Length: 1000, dtype: float64"
      ]
     },
     "execution_count": 178,
     "metadata": {},
     "output_type": "execute_result"
    }
   ],
   "source": [
    "ts = ts.cumsum()\n",
    "ts"
   ]
  },
  {
   "cell_type": "code",
   "execution_count": 179,
   "id": "4d191b28",
   "metadata": {},
   "outputs": [
    {
     "data": {
      "text/plain": [
       "<AxesSubplot:>"
      ]
     },
     "execution_count": 179,
     "metadata": {},
     "output_type": "execute_result"
    },
    {
     "data": {
      "image/png": "[encoded data removed]",
      "text/plain": [
       "<Figure size 432x288 with 1 Axes>"
      ]
     },
     "metadata": {
      "needs_background": "light"
     },
     "output_type": "display_data"
    }
   ],
   "source": [
    "ts.plot()"
   ]
  },
  {
   "cell_type": "code",
   "execution_count": 180,
   "id": "dc691062",
   "metadata": {},
   "outputs": [],
   "source": [
    "#데이터프레임에서 plot() 메소드는 라벨이 존재하는 모든 열을 그릴 때 편리"
   ]
  },
  {
   "cell_type": "code",
   "execution_count": 181,
   "id": "96e2ee84",
   "metadata": {},
   "outputs": [
    {
     "data": {
      "text/html": [
       "<div>\n",
       "<style scoped>\n",
       "    .dataframe tbody tr th:only-of-type {\n",
       "        vertical-align: middle;\n",
       "    }\n",
       "\n",
       "    .dataframe tbody tr th {\n",
       "        vertical-align: top;\n",
       "    }\n",
       "\n",
       "    .dataframe thead th {\n",
       "        text-align: right;\n",
       "    }\n",
       "</style>\n",
       "<table border=\"1\" class=\"dataframe\">\n",
       "  <thead>\n",
       "    <tr style=\"text-align: right;\">\n",
       "      <th></th>\n",
       "      <th>A</th>\n",
       "      <th>B</th>\n",
       "      <th>C</th>\n",
       "      <th>D</th>\n",
       "    </tr>\n",
       "  </thead>\n",
       "  <tbody>\n",
       "    <tr>\n",
       "      <th>2000-01-01</th>\n",
       "      <td>1.702151</td>\n",
       "      <td>0.520320</td>\n",
       "      <td>0.535567</td>\n",
       "      <td>-0.475143</td>\n",
       "    </tr>\n",
       "    <tr>\n",
       "      <th>2000-01-02</th>\n",
       "      <td>1.112052</td>\n",
       "      <td>0.771646</td>\n",
       "      <td>0.735987</td>\n",
       "      <td>0.856393</td>\n",
       "    </tr>\n",
       "    <tr>\n",
       "      <th>2000-01-03</th>\n",
       "      <td>-0.675755</td>\n",
       "      <td>-0.612942</td>\n",
       "      <td>0.923420</td>\n",
       "      <td>0.080227</td>\n",
       "    </tr>\n",
       "    <tr>\n",
       "      <th>2000-01-04</th>\n",
       "      <td>-0.072426</td>\n",
       "      <td>-0.526975</td>\n",
       "      <td>0.614584</td>\n",
       "      <td>1.084292</td>\n",
       "    </tr>\n",
       "    <tr>\n",
       "      <th>2000-01-05</th>\n",
       "      <td>-0.581002</td>\n",
       "      <td>1.533465</td>\n",
       "      <td>-0.855372</td>\n",
       "      <td>-0.187760</td>\n",
       "    </tr>\n",
       "    <tr>\n",
       "      <th>...</th>\n",
       "      <td>...</td>\n",
       "      <td>...</td>\n",
       "      <td>...</td>\n",
       "      <td>...</td>\n",
       "    </tr>\n",
       "    <tr>\n",
       "      <th>2002-09-22</th>\n",
       "      <td>0.722697</td>\n",
       "      <td>-0.241228</td>\n",
       "      <td>-1.608482</td>\n",
       "      <td>-0.766440</td>\n",
       "    </tr>\n",
       "    <tr>\n",
       "      <th>2002-09-23</th>\n",
       "      <td>-2.272601</td>\n",
       "      <td>-0.642530</td>\n",
       "      <td>-1.451990</td>\n",
       "      <td>0.136129</td>\n",
       "    </tr>\n",
       "    <tr>\n",
       "      <th>2002-09-24</th>\n",
       "      <td>-2.429765</td>\n",
       "      <td>1.391698</td>\n",
       "      <td>-1.102135</td>\n",
       "      <td>0.019807</td>\n",
       "    </tr>\n",
       "    <tr>\n",
       "      <th>2002-09-25</th>\n",
       "      <td>0.065694</td>\n",
       "      <td>-1.605529</td>\n",
       "      <td>-1.865510</td>\n",
       "      <td>-1.686927</td>\n",
       "    </tr>\n",
       "    <tr>\n",
       "      <th>2002-09-26</th>\n",
       "      <td>-1.262106</td>\n",
       "      <td>-0.981577</td>\n",
       "      <td>0.011363</td>\n",
       "      <td>-0.255310</td>\n",
       "    </tr>\n",
       "  </tbody>\n",
       "</table>\n",
       "<p>1000 rows × 4 columns</p>\n",
       "</div>"
      ],
      "text/plain": [
       "                   A         B         C         D\n",
       "2000-01-01  1.702151  0.520320  0.535567 -0.475143\n",
       "2000-01-02  1.112052  0.771646  0.735987  0.856393\n",
       "2000-01-03 -0.675755 -0.612942  0.923420  0.080227\n",
       "2000-01-04 -0.072426 -0.526975  0.614584  1.084292\n",
       "2000-01-05 -0.581002  1.533465 -0.855372 -0.187760\n",
       "...              ...       ...       ...       ...\n",
       "2002-09-22  0.722697 -0.241228 -1.608482 -0.766440\n",
       "2002-09-23 -2.272601 -0.642530 -1.451990  0.136129\n",
       "2002-09-24 -2.429765  1.391698 -1.102135  0.019807\n",
       "2002-09-25  0.065694 -1.605529 -1.865510 -1.686927\n",
       "2002-09-26 -1.262106 -0.981577  0.011363 -0.255310\n",
       "\n",
       "[1000 rows x 4 columns]"
      ]
     },
     "execution_count": 181,
     "metadata": {},
     "output_type": "execute_result"
    }
   ],
   "source": [
    "df = pd.DataFrame(np.random.randn(1000, 4), index=ts.index,\n",
    "                  columns=['A', 'B', 'C', 'D']) \n",
    "df"
   ]
  },
  {
   "cell_type": "code",
   "execution_count": 182,
   "id": "7b4a8bb9",
   "metadata": {},
   "outputs": [
    {
     "data": {
      "text/html": [
       "<div>\n",
       "<style scoped>\n",
       "    .dataframe tbody tr th:only-of-type {\n",
       "        vertical-align: middle;\n",
       "    }\n",
       "\n",
       "    .dataframe tbody tr th {\n",
       "        vertical-align: top;\n",
       "    }\n",
       "\n",
       "    .dataframe thead th {\n",
       "        text-align: right;\n",
       "    }\n",
       "</style>\n",
       "<table border=\"1\" class=\"dataframe\">\n",
       "  <thead>\n",
       "    <tr style=\"text-align: right;\">\n",
       "      <th></th>\n",
       "      <th>A</th>\n",
       "      <th>B</th>\n",
       "      <th>C</th>\n",
       "      <th>D</th>\n",
       "    </tr>\n",
       "  </thead>\n",
       "  <tbody>\n",
       "    <tr>\n",
       "      <th>2000-01-01</th>\n",
       "      <td>1.702151</td>\n",
       "      <td>0.520320</td>\n",
       "      <td>0.535567</td>\n",
       "      <td>-0.475143</td>\n",
       "    </tr>\n",
       "    <tr>\n",
       "      <th>2000-01-02</th>\n",
       "      <td>2.814203</td>\n",
       "      <td>1.291965</td>\n",
       "      <td>1.271553</td>\n",
       "      <td>0.381251</td>\n",
       "    </tr>\n",
       "    <tr>\n",
       "      <th>2000-01-03</th>\n",
       "      <td>2.138448</td>\n",
       "      <td>0.679023</td>\n",
       "      <td>2.194974</td>\n",
       "      <td>0.461478</td>\n",
       "    </tr>\n",
       "    <tr>\n",
       "      <th>2000-01-04</th>\n",
       "      <td>2.066022</td>\n",
       "      <td>0.152048</td>\n",
       "      <td>2.809558</td>\n",
       "      <td>1.545769</td>\n",
       "    </tr>\n",
       "    <tr>\n",
       "      <th>2000-01-05</th>\n",
       "      <td>1.485020</td>\n",
       "      <td>1.685513</td>\n",
       "      <td>1.954186</td>\n",
       "      <td>1.358009</td>\n",
       "    </tr>\n",
       "    <tr>\n",
       "      <th>...</th>\n",
       "      <td>...</td>\n",
       "      <td>...</td>\n",
       "      <td>...</td>\n",
       "      <td>...</td>\n",
       "    </tr>\n",
       "    <tr>\n",
       "      <th>2002-09-22</th>\n",
       "      <td>2.126418</td>\n",
       "      <td>12.779065</td>\n",
       "      <td>32.710017</td>\n",
       "      <td>-47.571356</td>\n",
       "    </tr>\n",
       "    <tr>\n",
       "      <th>2002-09-23</th>\n",
       "      <td>-0.146182</td>\n",
       "      <td>12.136535</td>\n",
       "      <td>31.258027</td>\n",
       "      <td>-47.435226</td>\n",
       "    </tr>\n",
       "    <tr>\n",
       "      <th>2002-09-24</th>\n",
       "      <td>-2.575947</td>\n",
       "      <td>13.528233</td>\n",
       "      <td>30.155892</td>\n",
       "      <td>-47.415420</td>\n",
       "    </tr>\n",
       "    <tr>\n",
       "      <th>2002-09-25</th>\n",
       "      <td>-2.510253</td>\n",
       "      <td>11.922704</td>\n",
       "      <td>28.290382</td>\n",
       "      <td>-49.102347</td>\n",
       "    </tr>\n",
       "    <tr>\n",
       "      <th>2002-09-26</th>\n",
       "      <td>-3.772359</td>\n",
       "      <td>10.941128</td>\n",
       "      <td>28.301745</td>\n",
       "      <td>-49.357657</td>\n",
       "    </tr>\n",
       "  </tbody>\n",
       "</table>\n",
       "<p>1000 rows × 4 columns</p>\n",
       "</div>"
      ],
      "text/plain": [
       "                   A          B          C          D\n",
       "2000-01-01  1.702151   0.520320   0.535567  -0.475143\n",
       "2000-01-02  2.814203   1.291965   1.271553   0.381251\n",
       "2000-01-03  2.138448   0.679023   2.194974   0.461478\n",
       "2000-01-04  2.066022   0.152048   2.809558   1.545769\n",
       "2000-01-05  1.485020   1.685513   1.954186   1.358009\n",
       "...              ...        ...        ...        ...\n",
       "2002-09-22  2.126418  12.779065  32.710017 -47.571356\n",
       "2002-09-23 -0.146182  12.136535  31.258027 -47.435226\n",
       "2002-09-24 -2.575947  13.528233  30.155892 -47.415420\n",
       "2002-09-25 -2.510253  11.922704  28.290382 -49.102347\n",
       "2002-09-26 -3.772359  10.941128  28.301745 -49.357657\n",
       "\n",
       "[1000 rows x 4 columns]"
      ]
     },
     "execution_count": 182,
     "metadata": {},
     "output_type": "execute_result"
    }
   ],
   "source": [
    "df = df.cumsum()\n",
    "df"
   ]
  },
  {
   "cell_type": "code",
   "execution_count": 183,
   "id": "858ae00f",
   "metadata": {},
   "outputs": [
    {
     "data": {
      "text/plain": [
       "<matplotlib.legend.Legend at 0x7fe23dea2b20>"
      ]
     },
     "execution_count": 183,
     "metadata": {},
     "output_type": "execute_result"
    },
    {
     "data": {
      "text/plain": [
       "<Figure size 432x288 with 0 Axes>"
      ]
     },
     "metadata": {},
     "output_type": "display_data"
    },
    {
     "data": {
      "image/png": "[encoded data removed]",
      "text/plain": [
       "<Figure size 432x288 with 1 Axes>"
      ]
     },
     "metadata": {
      "needs_background": "light"
     },
     "output_type": "display_data"
    }
   ],
   "source": [
    "plt.figure(); df.plot(); plt.legend(loc='best')"
   ]
  },
  {
   "cell_type": "markdown",
   "id": "405f3c61",
   "metadata": {},
   "source": [
    "## Getting Data In / Out (데이터 입 / 출력)"
   ]
  },
  {
   "cell_type": "markdown",
   "id": "1ce95a70",
   "metadata": {},
   "source": [
    "### CSV"
   ]
  },
  {
   "cell_type": "markdown",
   "id": "58159ec9",
   "metadata": {},
   "source": [
    "[csv 파일에 쓰기, 파일 읽기](https://pandas.pydata.org/pandas-docs/stable/user_guide/io.html)"
   ]
  },
  {
   "cell_type": "code",
   "execution_count": 186,
   "id": "bc1ab135",
   "metadata": {},
   "outputs": [],
   "source": [
    "#csv 파일에 쓰기\n",
    "df.to_csv('foo.csv')"
   ]
  },
  {
   "cell_type": "code",
   "execution_count": 185,
   "id": "6e3071af",
   "metadata": {},
   "outputs": [
    {
     "data": {
      "text/html": [
       "<div>\n",
       "<style scoped>\n",
       "    .dataframe tbody tr th:only-of-type {\n",
       "        vertical-align: middle;\n",
       "    }\n",
       "\n",
       "    .dataframe tbody tr th {\n",
       "        vertical-align: top;\n",
       "    }\n",
       "\n",
       "    .dataframe thead th {\n",
       "        text-align: right;\n",
       "    }\n",
       "</style>\n",
       "<table border=\"1\" class=\"dataframe\">\n",
       "  <thead>\n",
       "    <tr style=\"text-align: right;\">\n",
       "      <th></th>\n",
       "      <th>Unnamed: 0</th>\n",
       "      <th>A</th>\n",
       "      <th>B</th>\n",
       "      <th>C</th>\n",
       "      <th>D</th>\n",
       "    </tr>\n",
       "  </thead>\n",
       "  <tbody>\n",
       "    <tr>\n",
       "      <th>0</th>\n",
       "      <td>2000-01-01</td>\n",
       "      <td>1.702151</td>\n",
       "      <td>0.520320</td>\n",
       "      <td>0.535567</td>\n",
       "      <td>-0.475143</td>\n",
       "    </tr>\n",
       "    <tr>\n",
       "      <th>1</th>\n",
       "      <td>2000-01-02</td>\n",
       "      <td>2.814203</td>\n",
       "      <td>1.291965</td>\n",
       "      <td>1.271553</td>\n",
       "      <td>0.381251</td>\n",
       "    </tr>\n",
       "    <tr>\n",
       "      <th>2</th>\n",
       "      <td>2000-01-03</td>\n",
       "      <td>2.138448</td>\n",
       "      <td>0.679023</td>\n",
       "      <td>2.194974</td>\n",
       "      <td>0.461478</td>\n",
       "    </tr>\n",
       "    <tr>\n",
       "      <th>3</th>\n",
       "      <td>2000-01-04</td>\n",
       "      <td>2.066022</td>\n",
       "      <td>0.152048</td>\n",
       "      <td>2.809558</td>\n",
       "      <td>1.545769</td>\n",
       "    </tr>\n",
       "    <tr>\n",
       "      <th>4</th>\n",
       "      <td>2000-01-05</td>\n",
       "      <td>1.485020</td>\n",
       "      <td>1.685513</td>\n",
       "      <td>1.954186</td>\n",
       "      <td>1.358009</td>\n",
       "    </tr>\n",
       "    <tr>\n",
       "      <th>...</th>\n",
       "      <td>...</td>\n",
       "      <td>...</td>\n",
       "      <td>...</td>\n",
       "      <td>...</td>\n",
       "      <td>...</td>\n",
       "    </tr>\n",
       "    <tr>\n",
       "      <th>995</th>\n",
       "      <td>2002-09-22</td>\n",
       "      <td>2.126418</td>\n",
       "      <td>12.779065</td>\n",
       "      <td>32.710017</td>\n",
       "      <td>-47.571356</td>\n",
       "    </tr>\n",
       "    <tr>\n",
       "      <th>996</th>\n",
       "      <td>2002-09-23</td>\n",
       "      <td>-0.146182</td>\n",
       "      <td>12.136535</td>\n",
       "      <td>31.258027</td>\n",
       "      <td>-47.435226</td>\n",
       "    </tr>\n",
       "    <tr>\n",
       "      <th>997</th>\n",
       "      <td>2002-09-24</td>\n",
       "      <td>-2.575947</td>\n",
       "      <td>13.528233</td>\n",
       "      <td>30.155892</td>\n",
       "      <td>-47.415420</td>\n",
       "    </tr>\n",
       "    <tr>\n",
       "      <th>998</th>\n",
       "      <td>2002-09-25</td>\n",
       "      <td>-2.510253</td>\n",
       "      <td>11.922704</td>\n",
       "      <td>28.290382</td>\n",
       "      <td>-49.102347</td>\n",
       "    </tr>\n",
       "    <tr>\n",
       "      <th>999</th>\n",
       "      <td>2002-09-26</td>\n",
       "      <td>-3.772359</td>\n",
       "      <td>10.941128</td>\n",
       "      <td>28.301745</td>\n",
       "      <td>-49.357657</td>\n",
       "    </tr>\n",
       "  </tbody>\n",
       "</table>\n",
       "<p>1000 rows × 5 columns</p>\n",
       "</div>"
      ],
      "text/plain": [
       "     Unnamed: 0         A          B          C          D\n",
       "0    2000-01-01  1.702151   0.520320   0.535567  -0.475143\n",
       "1    2000-01-02  2.814203   1.291965   1.271553   0.381251\n",
       "2    2000-01-03  2.138448   0.679023   2.194974   0.461478\n",
       "3    2000-01-04  2.066022   0.152048   2.809558   1.545769\n",
       "4    2000-01-05  1.485020   1.685513   1.954186   1.358009\n",
       "..          ...       ...        ...        ...        ...\n",
       "995  2002-09-22  2.126418  12.779065  32.710017 -47.571356\n",
       "996  2002-09-23 -0.146182  12.136535  31.258027 -47.435226\n",
       "997  2002-09-24 -2.575947  13.528233  30.155892 -47.415420\n",
       "998  2002-09-25 -2.510253  11.922704  28.290382 -49.102347\n",
       "999  2002-09-26 -3.772359  10.941128  28.301745 -49.357657\n",
       "\n",
       "[1000 rows x 5 columns]"
      ]
     },
     "execution_count": 185,
     "metadata": {},
     "output_type": "execute_result"
    }
   ],
   "source": [
    "#csv 파일 읽기\n",
    "pd.read_csv('foo.csv')"
   ]
  },
  {
   "cell_type": "markdown",
   "id": "9a27d621",
   "metadata": {},
   "source": [
    "### HDF5"
   ]
  },
  {
   "cell_type": "code",
   "execution_count": 187,
   "id": "9e88ada7",
   "metadata": {},
   "outputs": [],
   "source": [
    "#HDF5 Store에 쓰기\n",
    "df.to_hdf('foo.h5','df')"
   ]
  },
  {
   "cell_type": "code",
   "execution_count": 188,
   "id": "1ed8d648",
   "metadata": {},
   "outputs": [
    {
     "data": {
      "text/html": [
       "<div>\n",
       "<style scoped>\n",
       "    .dataframe tbody tr th:only-of-type {\n",
       "        vertical-align: middle;\n",
       "    }\n",
       "\n",
       "    .dataframe tbody tr th {\n",
       "        vertical-align: top;\n",
       "    }\n",
       "\n",
       "    .dataframe thead th {\n",
       "        text-align: right;\n",
       "    }\n",
       "</style>\n",
       "<table border=\"1\" class=\"dataframe\">\n",
       "  <thead>\n",
       "    <tr style=\"text-align: right;\">\n",
       "      <th></th>\n",
       "      <th>A</th>\n",
       "      <th>B</th>\n",
       "      <th>C</th>\n",
       "      <th>D</th>\n",
       "    </tr>\n",
       "  </thead>\n",
       "  <tbody>\n",
       "    <tr>\n",
       "      <th>2000-01-01</th>\n",
       "      <td>1.702151</td>\n",
       "      <td>0.520320</td>\n",
       "      <td>0.535567</td>\n",
       "      <td>-0.475143</td>\n",
       "    </tr>\n",
       "    <tr>\n",
       "      <th>2000-01-02</th>\n",
       "      <td>2.814203</td>\n",
       "      <td>1.291965</td>\n",
       "      <td>1.271553</td>\n",
       "      <td>0.381251</td>\n",
       "    </tr>\n",
       "    <tr>\n",
       "      <th>2000-01-03</th>\n",
       "      <td>2.138448</td>\n",
       "      <td>0.679023</td>\n",
       "      <td>2.194974</td>\n",
       "      <td>0.461478</td>\n",
       "    </tr>\n",
       "    <tr>\n",
       "      <th>2000-01-04</th>\n",
       "      <td>2.066022</td>\n",
       "      <td>0.152048</td>\n",
       "      <td>2.809558</td>\n",
       "      <td>1.545769</td>\n",
       "    </tr>\n",
       "    <tr>\n",
       "      <th>2000-01-05</th>\n",
       "      <td>1.485020</td>\n",
       "      <td>1.685513</td>\n",
       "      <td>1.954186</td>\n",
       "      <td>1.358009</td>\n",
       "    </tr>\n",
       "    <tr>\n",
       "      <th>...</th>\n",
       "      <td>...</td>\n",
       "      <td>...</td>\n",
       "      <td>...</td>\n",
       "      <td>...</td>\n",
       "    </tr>\n",
       "    <tr>\n",
       "      <th>2002-09-22</th>\n",
       "      <td>2.126418</td>\n",
       "      <td>12.779065</td>\n",
       "      <td>32.710017</td>\n",
       "      <td>-47.571356</td>\n",
       "    </tr>\n",
       "    <tr>\n",
       "      <th>2002-09-23</th>\n",
       "      <td>-0.146182</td>\n",
       "      <td>12.136535</td>\n",
       "      <td>31.258027</td>\n",
       "      <td>-47.435226</td>\n",
       "    </tr>\n",
       "    <tr>\n",
       "      <th>2002-09-24</th>\n",
       "      <td>-2.575947</td>\n",
       "      <td>13.528233</td>\n",
       "      <td>30.155892</td>\n",
       "      <td>-47.415420</td>\n",
       "    </tr>\n",
       "    <tr>\n",
       "      <th>2002-09-25</th>\n",
       "      <td>-2.510253</td>\n",
       "      <td>11.922704</td>\n",
       "      <td>28.290382</td>\n",
       "      <td>-49.102347</td>\n",
       "    </tr>\n",
       "    <tr>\n",
       "      <th>2002-09-26</th>\n",
       "      <td>-3.772359</td>\n",
       "      <td>10.941128</td>\n",
       "      <td>28.301745</td>\n",
       "      <td>-49.357657</td>\n",
       "    </tr>\n",
       "  </tbody>\n",
       "</table>\n",
       "<p>1000 rows × 4 columns</p>\n",
       "</div>"
      ],
      "text/plain": [
       "                   A          B          C          D\n",
       "2000-01-01  1.702151   0.520320   0.535567  -0.475143\n",
       "2000-01-02  2.814203   1.291965   1.271553   0.381251\n",
       "2000-01-03  2.138448   0.679023   2.194974   0.461478\n",
       "2000-01-04  2.066022   0.152048   2.809558   1.545769\n",
       "2000-01-05  1.485020   1.685513   1.954186   1.358009\n",
       "...              ...        ...        ...        ...\n",
       "2002-09-22  2.126418  12.779065  32.710017 -47.571356\n",
       "2002-09-23 -0.146182  12.136535  31.258027 -47.435226\n",
       "2002-09-24 -2.575947  13.528233  30.155892 -47.415420\n",
       "2002-09-25 -2.510253  11.922704  28.290382 -49.102347\n",
       "2002-09-26 -3.772359  10.941128  28.301745 -49.357657\n",
       "\n",
       "[1000 rows x 4 columns]"
      ]
     },
     "execution_count": 188,
     "metadata": {},
     "output_type": "execute_result"
    }
   ],
   "source": [
    "#HDF5 Store에서 읽기\n",
    "pd.read_hdf('foo.h5','df')"
   ]
  },
  {
   "cell_type": "markdown",
   "id": "1e2ae822",
   "metadata": {},
   "source": [
    "### Excel"
   ]
  },
  {
   "cell_type": "code",
   "execution_count": 190,
   "id": "2b0e3ef9",
   "metadata": {},
   "outputs": [],
   "source": [
    "#엑셀 파일에 쓰기\n",
    "df.to_excel('foo.xlsx', sheet_name='Sheet1')"
   ]
  },
  {
   "cell_type": "code",
   "execution_count": 191,
   "id": "676d8c51",
   "metadata": {},
   "outputs": [
    {
     "data": {
      "text/html": [
       "<div>\n",
       "<style scoped>\n",
       "    .dataframe tbody tr th:only-of-type {\n",
       "        vertical-align: middle;\n",
       "    }\n",
       "\n",
       "    .dataframe tbody tr th {\n",
       "        vertical-align: top;\n",
       "    }\n",
       "\n",
       "    .dataframe thead th {\n",
       "        text-align: right;\n",
       "    }\n",
       "</style>\n",
       "<table border=\"1\" class=\"dataframe\">\n",
       "  <thead>\n",
       "    <tr style=\"text-align: right;\">\n",
       "      <th></th>\n",
       "      <th>Unnamed: 0</th>\n",
       "      <th>A</th>\n",
       "      <th>B</th>\n",
       "      <th>C</th>\n",
       "      <th>D</th>\n",
       "    </tr>\n",
       "  </thead>\n",
       "  <tbody>\n",
       "    <tr>\n",
       "      <th>0</th>\n",
       "      <td>2000-01-01</td>\n",
       "      <td>1.702151</td>\n",
       "      <td>0.520320</td>\n",
       "      <td>0.535567</td>\n",
       "      <td>-0.475143</td>\n",
       "    </tr>\n",
       "    <tr>\n",
       "      <th>1</th>\n",
       "      <td>2000-01-02</td>\n",
       "      <td>2.814203</td>\n",
       "      <td>1.291965</td>\n",
       "      <td>1.271553</td>\n",
       "      <td>0.381251</td>\n",
       "    </tr>\n",
       "    <tr>\n",
       "      <th>2</th>\n",
       "      <td>2000-01-03</td>\n",
       "      <td>2.138448</td>\n",
       "      <td>0.679023</td>\n",
       "      <td>2.194974</td>\n",
       "      <td>0.461478</td>\n",
       "    </tr>\n",
       "    <tr>\n",
       "      <th>3</th>\n",
       "      <td>2000-01-04</td>\n",
       "      <td>2.066022</td>\n",
       "      <td>0.152048</td>\n",
       "      <td>2.809558</td>\n",
       "      <td>1.545769</td>\n",
       "    </tr>\n",
       "    <tr>\n",
       "      <th>4</th>\n",
       "      <td>2000-01-05</td>\n",
       "      <td>1.485020</td>\n",
       "      <td>1.685513</td>\n",
       "      <td>1.954186</td>\n",
       "      <td>1.358009</td>\n",
       "    </tr>\n",
       "    <tr>\n",
       "      <th>...</th>\n",
       "      <td>...</td>\n",
       "      <td>...</td>\n",
       "      <td>...</td>\n",
       "      <td>...</td>\n",
       "      <td>...</td>\n",
       "    </tr>\n",
       "    <tr>\n",
       "      <th>995</th>\n",
       "      <td>2002-09-22</td>\n",
       "      <td>2.126418</td>\n",
       "      <td>12.779065</td>\n",
       "      <td>32.710017</td>\n",
       "      <td>-47.571356</td>\n",
       "    </tr>\n",
       "    <tr>\n",
       "      <th>996</th>\n",
       "      <td>2002-09-23</td>\n",
       "      <td>-0.146182</td>\n",
       "      <td>12.136535</td>\n",
       "      <td>31.258027</td>\n",
       "      <td>-47.435226</td>\n",
       "    </tr>\n",
       "    <tr>\n",
       "      <th>997</th>\n",
       "      <td>2002-09-24</td>\n",
       "      <td>-2.575947</td>\n",
       "      <td>13.528233</td>\n",
       "      <td>30.155892</td>\n",
       "      <td>-47.415420</td>\n",
       "    </tr>\n",
       "    <tr>\n",
       "      <th>998</th>\n",
       "      <td>2002-09-25</td>\n",
       "      <td>-2.510253</td>\n",
       "      <td>11.922704</td>\n",
       "      <td>28.290382</td>\n",
       "      <td>-49.102347</td>\n",
       "    </tr>\n",
       "    <tr>\n",
       "      <th>999</th>\n",
       "      <td>2002-09-26</td>\n",
       "      <td>-3.772359</td>\n",
       "      <td>10.941128</td>\n",
       "      <td>28.301745</td>\n",
       "      <td>-49.357657</td>\n",
       "    </tr>\n",
       "  </tbody>\n",
       "</table>\n",
       "<p>1000 rows × 5 columns</p>\n",
       "</div>"
      ],
      "text/plain": [
       "    Unnamed: 0         A          B          C          D\n",
       "0   2000-01-01  1.702151   0.520320   0.535567  -0.475143\n",
       "1   2000-01-02  2.814203   1.291965   1.271553   0.381251\n",
       "2   2000-01-03  2.138448   0.679023   2.194974   0.461478\n",
       "3   2000-01-04  2.066022   0.152048   2.809558   1.545769\n",
       "4   2000-01-05  1.485020   1.685513   1.954186   1.358009\n",
       "..         ...       ...        ...        ...        ...\n",
       "995 2002-09-22  2.126418  12.779065  32.710017 -47.571356\n",
       "996 2002-09-23 -0.146182  12.136535  31.258027 -47.435226\n",
       "997 2002-09-24 -2.575947  13.528233  30.155892 -47.415420\n",
       "998 2002-09-25 -2.510253  11.922704  28.290382 -49.102347\n",
       "999 2002-09-26 -3.772359  10.941128  28.301745 -49.357657\n",
       "\n",
       "[1000 rows x 5 columns]"
      ]
     },
     "execution_count": 191,
     "metadata": {},
     "output_type": "execute_result"
    }
   ],
   "source": [
    "#엑셀 파일 읽기\n",
    "pd.read_excel('foo.xlsx', 'Sheet1', index_col=None, na_values=['NA'])"
   ]
  },
  {
   "cell_type": "markdown",
   "id": "46eb07a7",
   "metadata": {},
   "source": [
    "## Gotchas (잡았다!)"
   ]
  },
  {
   "cell_type": "code",
   "execution_count": 192,
   "id": "71c018c3",
   "metadata": {},
   "outputs": [
    {
     "ename": "ValueError",
     "evalue": "The truth value of a Series is ambiguous. Use a.empty, a.bool(), a.item(), a.any() or a.all().",
     "output_type": "error",
     "traceback": [
      "\u001b[0;31m---------------------------------------------------------------------------\u001b[0m",
      "\u001b[0;31mValueError\u001b[0m                                Traceback (most recent call last)",
      "\u001b[0;32m<ipython-input-192-71395112bb53>\u001b[0m in \u001b[0;36m<module>\u001b[0;34m\u001b[0m\n\u001b[1;32m      1\u001b[0m \u001b[0;31m#연산 수행 시 다음과 같은 예외 상황을 볼 수도 있음\u001b[0m\u001b[0;34m\u001b[0m\u001b[0;34m\u001b[0m\u001b[0;34m\u001b[0m\u001b[0m\n\u001b[0;32m----> 2\u001b[0;31m \u001b[0;32mif\u001b[0m \u001b[0mpd\u001b[0m\u001b[0;34m.\u001b[0m\u001b[0mSeries\u001b[0m\u001b[0;34m(\u001b[0m\u001b[0;34m[\u001b[0m\u001b[0;32mFalse\u001b[0m\u001b[0;34m,\u001b[0m \u001b[0;32mTrue\u001b[0m\u001b[0;34m,\u001b[0m \u001b[0;32mFalse\u001b[0m\u001b[0;34m]\u001b[0m\u001b[0;34m)\u001b[0m\u001b[0;34m:\u001b[0m\u001b[0;34m\u001b[0m\u001b[0;34m\u001b[0m\u001b[0m\n\u001b[0m\u001b[1;32m      3\u001b[0m     \u001b[0mprint\u001b[0m\u001b[0;34m(\u001b[0m\u001b[0;34m\"I was true\"\u001b[0m\u001b[0;34m)\u001b[0m\u001b[0;34m\u001b[0m\u001b[0;34m\u001b[0m\u001b[0m\n",
      "\u001b[0;32m/Applications/anaconda3/lib/python3.8/site-packages/pandas/core/generic.py\u001b[0m in \u001b[0;36m__nonzero__\u001b[0;34m(self)\u001b[0m\n\u001b[1;32m   1440\u001b[0m     \u001b[0;34m@\u001b[0m\u001b[0mfinal\u001b[0m\u001b[0;34m\u001b[0m\u001b[0;34m\u001b[0m\u001b[0m\n\u001b[1;32m   1441\u001b[0m     \u001b[0;32mdef\u001b[0m \u001b[0m__nonzero__\u001b[0m\u001b[0;34m(\u001b[0m\u001b[0mself\u001b[0m\u001b[0;34m)\u001b[0m\u001b[0;34m:\u001b[0m\u001b[0;34m\u001b[0m\u001b[0;34m\u001b[0m\u001b[0m\n\u001b[0;32m-> 1442\u001b[0;31m         raise ValueError(\n\u001b[0m\u001b[1;32m   1443\u001b[0m             \u001b[0;34mf\"The truth value of a {type(self).__name__} is ambiguous. \"\u001b[0m\u001b[0;34m\u001b[0m\u001b[0;34m\u001b[0m\u001b[0m\n\u001b[1;32m   1444\u001b[0m             \u001b[0;34m\"Use a.empty, a.bool(), a.item(), a.any() or a.all().\"\u001b[0m\u001b[0;34m\u001b[0m\u001b[0;34m\u001b[0m\u001b[0m\n",
      "\u001b[0;31mValueError\u001b[0m: The truth value of a Series is ambiguous. Use a.empty, a.bool(), a.item(), a.any() or a.all()."
     ]
    }
   ],
   "source": [
    "#연산 수행 시 다음과 같은 예외 상황을 볼 수도 있음\n",
    "if pd.Series([False, True, False]):\n",
    "    print(\"I was true\")"
   ]
  },
  {
   "cell_type": "code",
   "execution_count": 193,
   "id": "3691c005",
   "metadata": {},
   "outputs": [
    {
     "name": "stdout",
     "output_type": "stream",
     "text": [
      "I was not None\n"
     ]
    }
   ],
   "source": [
    "#이러한 경우에는 any(), all(), empty 등을 사용해서 무엇을 원하는지를 선택 (반영)해주어야 함\n",
    "if pd.Series([False, True, False])is not None:\n",
    "      print(\"I was not None\")"
   ]
  },
  {
   "cell_type": "markdown",
   "id": "52b647f3",
   "metadata": {},
   "source": [
    "[(FAQ)참조](https://pandas.pydata.org/pandas-docs/stable/user_guide/gotchas.html)"
   ]
  },
  {
   "cell_type": "code",
   "execution_count": null,
   "id": "fe91f484",
   "metadata": {},
   "outputs": [],
   "source": []
  }
 ],
 "metadata": {
  "kernelspec": {
   "display_name": "Python 3",
   "language": "python",
   "name": "python3"
  },
  "language_info": {
   "codemirror_mode": {
    "name": "ipython",
    "version": 3
   },
   "file_extension": ".py",
   "mimetype": "text/x-python",
   "name": "python",
   "nbconvert_exporter": "python",
   "pygments_lexer": "ipython3",
   "version": "3.8.8"
  },
  "toc": {
   "base_numbering": 1,
   "nav_menu": {},
   "number_sections": true,
   "sideBar": true,
   "skip_h1_title": false,
   "title_cell": "Table of Contents",
   "title_sidebar": "Contents",
   "toc_cell": false,
   "toc_position": {},
   "toc_section_display": true,
   "toc_window_display": false
  },
  "varInspector": {
   "cols": {
    "lenName": 16,
    "lenType": 16,
    "lenVar": 40
   },
   "kernels_config": {
    "python": {
     "delete_cmd_postfix": "",
     "delete_cmd_prefix": "del ",
     "library": "var_list.py",
     "varRefreshCmd": "print(var_dic_list())"
    },
    "r": {
     "delete_cmd_postfix": ") ",
     "delete_cmd_prefix": "rm(",
     "library": "var_list.r",
     "varRefreshCmd": "cat(var_dic_list()) "
    }
   },
   "types_to_exclude": [
    "module",
    "function",
    "builtin_function_or_method",
    "instance",
    "_Feature"
   ],
   "window_display": false
  }
 },
 "nbformat": 4,
 "nbformat_minor": 5
}
